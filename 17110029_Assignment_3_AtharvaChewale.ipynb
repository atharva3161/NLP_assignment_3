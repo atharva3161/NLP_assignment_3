{
  "nbformat": 4,
  "nbformat_minor": 0,
  "metadata": {
    "colab": {
      "name": "17110029_Assignment_3_AtharvaChewale",
      "provenance": [],
      "collapsed_sections": []
    },
    "kernelspec": {
      "name": "python3",
      "display_name": "Python 3"
    },
    "accelerator": "GPU"
  },
  "cells": [
    {
      "cell_type": "code",
      "metadata": {
        "id": "htAVRFU3qvTj",
        "colab_type": "code",
        "colab": {}
      },
      "source": [
        "import string \n",
        "import numpy as np\n",
        "import pandas as pd\n",
        "import re\n",
        "from nltk.tokenize import TweetTokenizer\n",
        "from keras.preprocessing.text import Tokenizer\n",
        "from keras.preprocessing.sequence import pad_sequences"
      ],
      "execution_count": 0,
      "outputs": []
    },
    {
      "cell_type": "code",
      "metadata": {
        "id": "S3QPZcj7qiTw",
        "colab_type": "code",
        "outputId": "659ad588-2143-433e-e37f-10fc90bcc2d1",
        "colab": {
          "base_uri": "https://localhost:8080/",
          "height": 35
        }
      },
      "source": [
        "from google.colab import drive\n",
        "drive.mount('/content/drive')"
      ],
      "execution_count": 17,
      "outputs": [
        {
          "output_type": "stream",
          "text": [
            "Drive already mounted at /content/drive; to attempt to forcibly remount, call drive.mount(\"/content/drive\", force_remount=True).\n"
          ],
          "name": "stdout"
        }
      ]
    },
    {
      "cell_type": "code",
      "metadata": {
        "id": "_51IMt4kOtkN",
        "colab_type": "code",
        "outputId": "061b8e27-bfc3-4f26-bcbc-d21950166d5f",
        "colab": {
          "base_uri": "https://localhost:8080/",
          "height": 35
        }
      },
      "source": [
        "cd /content/drive/My\\ Drive/nlp 3"
      ],
      "execution_count": 18,
      "outputs": [
        {
          "output_type": "stream",
          "text": [
            "/content/drive/My Drive/nlp 3\n"
          ],
          "name": "stdout"
        }
      ]
    },
    {
      "cell_type": "code",
      "metadata": {
        "id": "75WNAOeWO5TU",
        "colab_type": "code",
        "outputId": "1f266a42-2fe2-4745-f374-94138c94d8dd",
        "colab": {
          "base_uri": "https://localhost:8080/",
          "height": 109
        }
      },
      "source": [
        "data = pd.read_csv('train.txt', delimiter=\"\\t\",header=None,names=[\"meta\", \"uid\", \"senti\"])\n",
        "meta=data['meta']\n",
        "uid=data['uid']\n",
        "senti=data['senti']\n",
        "\n",
        "X_train_arr=[]\n",
        "Y_train_arr=[]\n",
        "temp=\"\"\n",
        "for i,j,k in zip(meta,uid,senti):\n",
        "    if i=='meta':\n",
        "        \n",
        "        if len(temp)!=0:\n",
        "            X_train_arr.append(temp)\n",
        "        Y_train_arr.append(k)\n",
        "        temp=\"\"\n",
        "    else:\n",
        "        try:\n",
        "          if j!='O':\n",
        "            i=re.sub(r'[\\t\\n]+','',i)\n",
        "            temp=temp+i+\" \"\n",
        "            temp.append(i)\n",
        "        except:\n",
        "            pass\n",
        "X_train_arr.append(temp)\n",
        "X_train_arr[:5]"
      ],
      "execution_count": 19,
      "outputs": [
        {
          "output_type": "execute_result",
          "data": {
            "text/plain": [
              "['AdilNisarButt pakistan ka ghra tauq he Pakistan Israel ko tasleem nahein kerta Isko Palestine kehta he OCCUPIED PALESTINE ',\n",
              " 'Madarchod mulle ye mathura me Nahi dikha tha jab mullo ne Hindu ko iss liye mara ki vo lasse ki paise mag liye the https t co oxf8tr3bly ',\n",
              " 'narendramodi Manya Pradhan Mantri mahoday Shriman Narendra Modi ji Pradhanmantri banne par Hardik Badhai tahe Dil https t co pRnoMsKkn1 ',\n",
              " 'Atheist Krishna Jcb full trend me chal rahi aa ',\n",
              " 'AbhisharSharma RavishKumarBlog Loksabha me janta sirf modi ko vote de rahi thi na ki kisi MP or BJP ko without m https t co sHtBWCB7FM ']"
            ]
          },
          "metadata": {
            "tags": []
          },
          "execution_count": 19
        }
      ]
    },
    {
      "cell_type": "code",
      "metadata": {
        "id": "EtccwfvuTObU",
        "colab_type": "code",
        "colab": {
          "base_uri": "https://localhost:8080/",
          "height": 1000
        },
        "outputId": "b7551ad7-bac0-4794-dbce-3463617e1b08"
      },
      "source": [
        "data = pd.read_csv('test.txt', delimiter=\"\\t\",header=None,names=[\"meta\", \"uid\", \"senti\"])\n",
        "meta=data['meta']\n",
        "uid=data['uid']\n",
        "senti=data['senti']\n",
        "X_test_arr=[]\n",
        "Y_test_arr=[]\n",
        "temp=\"\"\n",
        "for i,j,k in zip(meta,uid,senti):\n",
        "    if i=='meta':\n",
        "        \n",
        "        if len(temp)!=0:\n",
        "            X_test_arr.append(temp)\n",
        "        Y_test_arr.append(k)\n",
        "        temp=\"\"\n",
        "    else:\n",
        "        try:\n",
        "          if j!='O':\n",
        "            i=re.sub(r'[\\t\\n]+','',i)\n",
        "            temp=temp+i+\" \"\n",
        "            temp.append(i)\n",
        "        except:\n",
        "            pass\n",
        "X_test_arr.append(temp)\n",
        "X_test_arr"
      ],
      "execution_count": 20,
      "outputs": [
        {
          "output_type": "execute_result",
          "data": {
            "text/plain": [
              "['RT UAAPconfessions Love looks good on Maddie Ako lang ba yung sobrang masaya kasi may zolo sya Before with the past Z medyo lowkey s ',\n",
              " 'Ye Ye ye We gonna start another June on a sour note Uhhhh yes no yes no yes ',\n",
              " 'zWffFY9JGklElA1 Min Of Lyching thakurdadu089 manakgupta OfficeOfKNath Mein kahna nae chahta qki mere Yaha btay https tco JWSdvvomt8 ',\n",
              " 'Caring Bohot Jyada Caring Courier wale bsdk ke sign bhi khud hi krlete h mera ',\n",
              " 'AliHZaidiPTI SarfarazA What nonesense Kabhi baymani per bani team kamiyab nahi ho sakti Jo log apnay liy https t co al1WFCUTYy ',\n",
              " 'imVkohli Best of luck imVkohli sir World Cup ke liye bhot bhot subhkamnaye ',\n",
              " 'Yes Great dialogues in that one Also Chupke Chupke over Chhaddabeshi All except R G V Ke Sholay https t co MHCBkX0SnG ',\n",
              " 'mangeshkarlata Desh bhakti baat wahi samajh sakte hai jo khud deshbhakt Wo log to sirf Bharat tere tukde hong https t co rMdZSiwSGT ',\n",
              " 'Pakistani team ne effort ki Aagey Allah ki marziiiiiiiiiiiii PAKvWI WIvPAK CWC19 WeHaveWeWill ',\n",
              " 'Hussain NSharif MaryamNSharif Kiya tum apne baap ki oulad nahi Kyun usy bay yaro madadgar chora hua Kiya wo t https t co E1mrLMGH5c ',\n",
              " 'TheVijayMallya YouTube Are Tu aa rha h ki nhi Wo modi phir se PM ban gya Chupchaap aaja sidha sidha Vrna mo https t co iQbN2nsr2S ',\n",
              " 'AAPVed Ankita Shah8 Bhadve ye photo elections se pehle ki he jyada gyan mat baat ',\n",
              " 'RahulGandhi WADRAAAA NO TO BAS JAMEEN LI HAI--KISANO KO PAISA NAHI DIYA-AB JI NE FILM INDUSTRY NO TAK PAHUNCHAYI https t co U3zr9OCvJT ',\n",
              " 'Dusting wali safai aapke hafal kharab kardeti hai aur koi exercise bhi nahi hoti That sucks ive gained weight an https t co BOH9O2oeTp ',\n",
              " 'sanjaynirupam Ab to shamajh jaye Rahul Gandhi kis baat k liye udash hai wo evm jeeta hai modi nahi log khush na https t co EJx4MLtr14 ',\n",
              " 'Sunita Sharma1 sardanarohit Kavita Sharma4 SUNITA JI KAL JAB EVM KI SEAL TUTEGI TO JYADA DARD GODI MEDIA KE ANCHOR KO HOGA ',\n",
              " 'Narender modi ji ko pure bhumat se jeet par bhut bhut bdhayi https t co 6AAUDuTxbp ',\n",
              " 'Ahmedshabbir20 Accha kiya Invite nai kiya Most corrupted party in indian history Good politics from BJP4India Well done ',\n",
              " 'RT Meetinsan107 TheGiftOfEducation Volunteer of Dera Sacha sauda sirsa open free coaching center for needy people gurmeetramrahim http ',\n",
              " \"Pavancharan24 NaaIsm vekuvakiranam I believe this is not fake Let's fight for a cause not the flaws Please bhaiyya \",\n",
              " 'rssurjewala Vote pe dhayan de en sab bato se vote nahi milta Hindu Muslim caste pe dhayan de Bina vote bank ke https t co 3RB9zsZ4M3 ',\n",
              " 'RT MbVk18 Pakistan WC start hone se Pehle bol Raha tha Sab match Aise khelenge jaise India ke Against khelte h Gaand main se hawa nikal ',\n",
              " 'lanat on your views and also upon u times may u feel better now Hypocrate https t co 1xmdKcJvl7 ',\n",
              " 'Mahoday bahut bahut badhai jai hind Jai jawan Jai Kisaan azaade hind manish fauji Gareebo ke khoon paseene ki k https t co vsaUq8UyIx ',\n",
              " 'TheSamirAbbas Hadd hai ye ladki pagal hai Pagal ka arth hai mentally disturbed Ranchi ya agra ',\n",
              " 'AnushkaSharma Sukhbir Singer imVkohli Bus ab hamari team jitegi hi Kyonki Anushka and Sukhnir Dual God bless all ',\n",
              " 'RT iamrajeshburman Watch BhabijiGharParHai exciting episode on 3jun-5jun Its Sir Salman Khan Special Bharat at Bhabiji with his Madam ',\n",
              " 'AsliVikrant007 Fake Acc18 vikrantgupta73 CricTalk Yeh kaunsa Naya Pokemon hai ',\n",
              " 'SureshChavhanke Abe kutte ki sakal k musalmaan ki wazah se tere ghar ki roti chal rhi hai tere andar dam hai toh https t co 2DjVQYvT8y ',\n",
              " 'RT is salsu Not happy with appointments so far all I see is Men getting appointed What about women Women ain t good as SSGs I m watch ',\n",
              " 'Bhale hi India or Pakistan k beech cricket world cup ka match ho lekin dekhunga to m JCBkiKhudaai hi So much fun https t co xL6H2UYKiv ',\n",
              " 'asif na88 Loru singh tera bap jo brt peshawer par laga raha hai vo teri maa k phudday ki kamayi hai ya baap ki gand ki ',\n",
              " 'BeingSalmanKhan It means sidhi sadhi ladki best couple ',\n",
              " 'NoTobaccoDay Tambaku par chetavni likhi hoti hai hi ki ise khane se cancer Hota Hai lekin Sarkar eyes band karane https t co DY828ztz8q ',\n",
              " 'RT khannargt The only thing that i want in my life is to see you happy and always smile Love you to the moon and back J repost cuz i ',\n",
              " 'RT anjaliicreation Bilal yeh sab mujhpr rely kar rahe hai D fahad Abb toh saari industry tumpr rely karegi beta our boy making us ',\n",
              " 'RT DeepStateExpose realDonaldTrump GRAB A COPY OF MY CRITICALLY ACCLAIMED BEST SELLER HISTORY OF THE DEEP STATE Ebook format i ',\n",
              " 'RT Being Zeeshan09 Handsome Hunk BeingSalmanKhan Bhaijaan Masha Allah Zabardast Fantastic Mind Blowing Awesome Bhaijan Bh ',\n",
              " 'RT UrvashiJaiswal7 Bin tere bin tere bin tere koi kharish h hawaon mein bin tere Please justvoot anupkofficial bring them back together ',\n",
              " 'Narendra Modi Ji Badhayi Ho Varanasi ka niwasi hu Aur Hamare ilake ka ek sadak Kafi din se nahi ban Raha hai kr https t co XGSn8jIpCz ',\n",
              " 'RT Qasimalitariq soch raha hu is baar uski birthday par gift me ek plastic ka dil de du usse khelti bhi rahegi aur tootega bhi nahi ',\n",
              " 'Itz aziz Congress ne ye nirnay liya hai ki anchor agar insaan ho to jae Bhokne wale kutte ho jaise ki Amish sad https t co uoplZP0NPo ',\n",
              " 'Time main aya tha tm pubg khel ri the https t co nvWZsU6ibU ',\n",
              " 'Kasheer suneel Poora khandan terrorist hai aur ye khud khujliwala kutta kutto plz maaf karna tumhari insult krne https t co AG0B6A3XFw ',\n",
              " 'Jab tak Ramji k charno me girkar mangoge nahi paoge nhi Bhole baba ne hath khde kar liye Main unke khne pe nhi https t co fMEP7RdPbS ',\n",
              " 'RT trulybbh Soompi Award Best variety show Busted Best Idol Actor Sehun Best soundtrack Live OST Best couple Kyungsoo N ',\n",
              " 'smritiirani ji bahut bahut subhkamnaye hope you scale new heights in near future CabinetAnnouncement2019 ',\n",
              " 'RubikaLiyaquat Rubika Di Umar mein aap se kaafi chota hun Par I am a big fan of yours Kabhi naseeb ne chaha to https t co n6lEWZEr56 ',\n",
              " 'Yr k dor ka ek song ha jis ma Adnan Sami na Mujahid k part play keya tha Adnan Sami ka wo song yad ha to zaror https t co GTKLZQ3sG2 ',\n",
              " 'RTforINC yadavdimples Mp chunav me evm ne jitaya janta to Congress ko vote Kiya tha ',\n",
              " 'Jessicalynn PhD You re awesome Much love and hope to see APSA ',\n",
              " 'Bhai sree Narendra Modi ji aapko hamari or se bahot bahot badhai ab AAP ko mandir or Dhara ka kaam karna he or https t co hMrRyKZiBc ',\n",
              " 'Ustadjii oye hoye nikey dar eh te seedhi chaper hi hai ve tere moo te main te sun v nahi sakda ab kahin abey se https t co sPJ739l3BN ',\n",
              " 'Megha94507473 Reminds me famous dialogue of Welcome movie Le Saudi Arabia billion Kya tera baap chood ke Gaya tha ya Teri maa ',\n",
              " \"Humare desh k bachoon ko aboard jane ki jarurt hi kyun padhegionly for good job good salary Isn't India worth tha https t co ptLo6jboxi \",\n",
              " 'yadavdimples RahulGandhi BJP wale to bunglow se chori ki hui nal ki tuti wale ko v nikala tha sabke achche din aayenge ',\n",
              " \"nehapant19 News18India sambitswaraj GargaC You can't get Ram by Chanting Jai Shree Ram Ram ko Samjho Kri https t co dtdrR2zNIL \",\n",
              " 'Kingsahab786 ye government kya kuch nahi kar sakti ye tumhare bhejeme nahi aayega tum soch bhi nahi sakte ye s https t co kdg9GcF1Qc ',\n",
              " 'Lelo na I love it sm a gone gal ',\n",
              " 'Chatterj1Asking Ab ye kisne afwah failayi h ki computer baba modi k silent supporter the aur digvijaya k hi p https t co az68d2Vz38 ',\n",
              " 'MediaCellPPP KiranAl39877625 ye khusra Pakistan py hamla krny walo ki fevour krta h Qoom ko Sakht Nafrat h is se ',\n",
              " 'I really have to take a boat to get home out here Damn I just want to sleep ',\n",
              " 'RT Omojuwa Thank you June Thank you for all the great news Now go ahead and be the best June ever ',\n",
              " 'RT uqkhan Saving one life saves humanity A blood donors ki fori zarurat hay 29th may Wed raat bajy se pyhly chahye For bypas ',\n",
              " 'narendramodi adarniya MODI JI apko ek bar fir NEW INDIA ki kaman sambhalne k liye apko HARDIK SHUBHKAMANYE in https t co DlrF0wSl4v ',\n",
              " 'narendramodi Manniy narendr modi ji ko dusri bar shapth lene ki anant shubhkamnae i hope ap agle salo tak https t co RbTQvivy8Q ',\n",
              " 'umair seebi17 Ggggg bilkul Meri characteristics btaa dyna bajii baad my bura na many ',\n",
              " 'NAHI CHHODNA CHAHIE KYONKI AGAR CONGRESS MUKT BHARAT LANA HAI TO INKA CONGRESS KA ADHYACHH HONA JARURI HAI https t co Swpd6mOjL8 ',\n",
              " 'DEVENDRACHATUR1 hope soo sir aapka gyan is marvelous ',\n",
              " 'Nawab ZaDa Here Syedees itx Bilal Acid Likhna to sekhly teesri jamat fail ',\n",
              " 'manakgupta Dear manak dont insult modi ji this is wrong data Kya kami rakhi hai unhone tumhe palne ki Namak ka khyal rakho ',\n",
              " 'Mansoor Ali mansor tu bi lafafa leta he main app ko ke ra ho ye Tweets maro tu meri baat nhi sun ra Pakistan ke w https t co SGM5TliksD ',\n",
              " 'HappyBirthday Cute Sweet Lovely Pretty Nd Beauty Queen JenniferWinget I Hope Aj Ka Din Tumhare Liye Khushiyo https t co oDZA9j9VZz ',\n",
              " 'South Africa Ki bowling India ke sath hi chalegi kya SAvBAN CWC19 ',\n",
              " 'DeepsUnique3434 narendramodi Sir apko bolna chata ho ke apna election ma modi jig ko ram ka bhai lashman ka sat d https t co twGyEJpsRO ',\n",
              " 'smritiirani TajinderBagga MODIfiedVikas Jai Shri Ram My parents are big fan of yours Since kyunki Saans https t co 1YMoqUZmLk ',\n",
              " 'Live Urdu FridaySermon delivered by the head of Ahmadiyya Muslim Community Hazrath Mirza Masroor Ahmad ',\n",
              " 'Sir ji world cup middle order me batting krne ka chance mila us time apka experience aur feeling Kya thA SachinOpensAgain ',\n",
              " 'Aap Sirf Gandhi Parivar Par Kyun Bolte Ho Aur BJP Mai Kya Parivarwad Nahi Hai Unke liye Kyun Nahi Bolte Ho Kya https t co 4X9SXeJBXy ',\n",
              " 'baeyonsi No mind them jare but you fine sha o https t co AKTnPiKcGq ',\n",
              " 'betterpakistan Teri maa ne bhi tujhy PhD karwai thi yad hai Special Corruption Group ki Bohot Beghairat qisam ke https t co KotqYIDJqJ ',\n",
              " 'abdulla05442160 ji bilkul abdullah ji zarur dua krungi allah sb khair krne wala hai jazakallah ',\n",
              " 'RT wunderbarfilms We love you back 500M guys We are speechless by the way you guys showered love on our RowdyBaby We mean it Much ',\n",
              " 'Stylix15 Modi sb bhi kry gy support tension lyny ka nai deny ka or Chany khany ka great words by Dr Murli Parsad Sharma ',\n",
              " 'RanaAyyub PostOpinions Take care bibi Allah khair No more stupidity will be tolerated now Bismillah Amitbhai ki Jai ',\n",
              " 'Ran into your brother tonight man hes doing well for himself and his family He s moving to Oklahoma can you bel https t co kfgwtD2XaG ',\n",
              " 'shahid siddiqui Janta ne Pragya ko chuna hai Ab Shahi Suvar Boforswale bhi kuch ukhaad nahi sakte ',\n",
              " 'Hello unlimapps can you mod gaana music app There is no mod for iOS ',\n",
              " 'KapilSharmaK9 congratulation for this award Love you so much Hame laugh kerne ke liye akshaykumar https t co mlpJV3ykii ',\n",
              " 'MrsAnjumara jaise log jab jab Nawaz Sharif k paas se guzarte thay to WO naak band ker leta tha Is bechari ko to https t co OLDHpliCzE ',\n",
              " \"ZeeNewsHindi What's wrong please explain zeenews hindi Bhakat prahlad bhi to usi family se belongs kartha tha And holi ka bhi \",\n",
              " 'RT sharmaprachi61 Hai Sabse Super Modi Hai Sabse Uper Modi DeshKaGauravModi ModiAaGaya Namo Again ModiReturns https t co 8mDjLfD ',\n",
              " 'Kya Sarfraz Ahmed ki performance bhi ek reason he Pakistan ke losing streak me And kyu itne back to back kharab p https t co 5jqePt65S6 ',\n",
              " 'AmitShah narendramodi Congratulations Sir we proud of you Aap pr pura jakeen hai aap bohat achaa home minister Honga ',\n",
              " 'peta Then what the fuck are we gonna eat cereal with fucking water ',\n",
              " 'RT Bhuwane18236211 Modi ji ki appeal pr 1crore se adhik logo ne gas subsidi chhodi Kya Modi ji ki appeal pr des ke crorepati sansad D ',\n",
              " 'AamAadmiParty ArvindKejriwal Sahmgam vihar aap vidhayak is soo very bad celection on your next vidhayak ',\n",
              " 'RT zarrarmalik Super Hilarious but True Reality of these NOORA HARAMKHOR FAMILY ImranKhanPTI ZaidZamanHamid GhulamMustafa abasi ',\n",
              " 'niraj dwivedi yogrishiramdev arre baawle teri hi aankhein band thi lagta hai saal se twiitter check kar le b https t co tcy2MP5wjv ',\n",
              " 'Sa20 JalalQazi Yeh kam uae main koi nai kr sakta q ke yahan chalta hai govt employees to traders to a https tco MMfPhwj1hY ',\n",
              " 'RT armyindonesiaa2 Lagu yang dinyanyikan saat Soundcheck Wembley Concert hari ini adalah Best of Me Mic Drop Fake Love Masih ter ',\n",
              " 'RJDforIndia Avi bhi samajh mae na aaya tho party band ho jayegi Socho kyo hare Ye nahi ki dusra kyo jeet raha https t co gMh7IvnHaK ',\n",
              " 'RT Naveen Skfc Good Morning Cute Siva Kartikeyan Annaa Happy Sunday Annaaaa https t co go4afvwOVh ',\n",
              " 'Tufan Diwana VIDEO SONG Bhojpuri New Song DJ Remix https t co d7va1qIoaO via YouTube ',\n",
              " 'Nehr who TypoMantri anjanaomkashyap Pagal hai kya They aren t real issues Mandir is important Hindu khatre mei jo hai ',\n",
              " 'ShikhaPathak18 SuPriyoBabul MamataOfficial Jai Shree Ram mamtaji pranam AAP seen mukhya mantri bank the Aashirwad Jai Shree ram ',\n",
              " 'anjanaomkashyap APNA TIME AYGA this song was generally inspired by Our very own Atal ji ',\n",
              " 'Questperfection Arjun reddy was good but aaj mene mard ko dard nahi hota dekhi it was ',\n",
              " 'SaipallaviFC Sai Pallavi92 Nice pallavi i am big fan marri hindi kab aaega ',\n",
              " 'maksad hatya aur loot kr ne ke hote hai late rk singh ke chhote bhai aur bhatije aur in ke ristedar broker criminal https t co A3A4duvSnm ',\n",
              " 'TwitterIndia hadd hoti hai How can you do the same wrong again Make the account of TrueIndologyliv live ',\n",
              " 'Love you BeingSalmanKhan bhaijan https t co buR0XrMayk ',\n",
              " 'Bannu Thana Domel Ki Hudood Chashmai Me Police Muqabla Police Ehlkar K Qatal Samet Muqadmat Me Matloob Moeen Ullah Mara Gia ',\n",
              " 'sonamJain001 Chokidaro se chor ko hi paresani hoti he Sunneme aayahe Rahul dapli bajarahe he aur Sonia gaa rahi h https t co 86vDcatzhB ',\n",
              " 'Crank that observer1076 MamataOfficial Tera baap ko darrpok mat bol halala product Thoda izzat de Tere jaise https t co CItsbAA79b ',\n",
              " 'TarekFatah Bas isse jyaada badi tumhari soch ho bhi nhi sakti jo kisi ko clothes se judge karte ho Shame on you Sir TarekFatah ',\n",
              " 'vipkatelayne Whole lota love led zep Gets me going every time ',\n",
              " 'RT AmizaSherry Your 100th signal Thank you for visiting your fancafe A little thing that brings great happiness to us your fans Have ',\n",
              " 'News18UP myogiadityanath Bjp jindabad tha aur rhega Up chunav me bhi bjp hi jitegi Kyo ki hm unse behtar kr rh https t co 1QMXS5GeDz ',\n",
              " 'RT hasnu SA England NZ kitnay World Cup T Cup Champion Trophy Jeetay Hai Aur unkay mukablay Mei hamaray players ko kitni facilities ',\n",
              " 'DurkeYap HAHAHAHAAH fuck wa koy salig lucas doh hapit na injury time ',\n",
              " \"RT btsportfootball I sacrificed a lot for this I am so happy I'm just a normal lad from Liverpool who's dream has come true Mo S \",\n",
              " 'KTRTRS good afternoon sir here in the colony of Madhavaram Nagar Kukatpally hyd Akshara the school is opening at sixth june pls note sir ',\n",
              " 'RT BabarBaAishKosh Me looking at Mayoos o Manhoos tweets about Pak batting Na mayoos toh tum log aisay ho rahe ho jaisay Pak team ki lon ',\n",
              " 'RT hinasafi Ab ye chor ki drug bolkay funding laingay read KHAYENGAY aur ki drug Australia se manga k dou chaar din Sindh main ',\n",
              " 'RT RAMESHMDALWADI DrAshish A1 abbas nighat RubikaLiyaquat Payal Rohatgi NitaMAmbani aroraups KuberJamnal You are so brave girland ',\n",
              " 'EkAbhijeet Bollyhungama akshaykumar vidya balan Monday bakri eid h wom badia hua toh kr skti 15-20mint ka role h shyd sir ka ',\n",
              " 'BulwarkBoy amitbehere Sanginamby They use Ram Bas Aur yehi log bolte h Hindu terrorist nahi ho sakta saffron https t co hs1ZSnEINo ',\n",
              " 'RT saiinstitutechd Sai institute of manimajra chandigarh best place for learning free Computer courses under pmkvy PRADHAN MANTRI KAUSHA ',\n",
              " 'Fuck off yh penally nhii thii yaar UCLFinal ',\n",
              " 'RT ErHimanshuRajp1 MukeshT82425418 kanhaiyakumar Bilkul shi Abki bar is suar ko hi goli mari jaye ',\n",
              " 'GunjanRaaz asadowaisi irshad gm MdAbid42839130 Sayad years to bjp ki government hi thi to pehle hi Nikal deti https t co OGLuj89dVw ',\n",
              " 'sambhashan in Satyend71267811 UmeshKu57660152 Aaap ki baate kabhi v galat nahi hai ',\n",
              " 'MamataOfficial JAI SHREE RAM JAY HANUMAN JAI SHREE KRISHNA JAI SHREE RAM KITNE MOOH BANDH KAREGI HARAMZA https t co joQsVW5yLW ',\n",
              " 'dtptraffic DelhiSentry DelhiPolice LtGovDelhi Haha Abe hai he nhi uski number plate Lol Hadd hai kaam chori https t co jmduDAaNq5 ',\n",
              " 'sanjaynirupam Dev Fadnavis Azaadi azaadi wala ko ticket deta hai hindustan se bada ho gaya gandhi Freedom to speech ab kaha gaya ',\n",
              " \"MaryamNSharif tum log begairat km'aqal or iqtadar prast ho chuky ho BBhuttoZardari MaryamNSharif yha chor k https t co eXhRXH064E \",\n",
              " 'KapilSharmaK9 Krushna KAS I wish aisa rishta fir se WhoSunilGrover k saath bhi ban Jaye comedy ki duniya aapki ho jayegi ',\n",
              " 'Aapki Aukat Aapko Yeh trailer Dekhne Ki Anumati Nahin Deti Watch the new trailer video from Article trailer https t co fDK3PZFkWp ',\n",
              " 'Sun be ghi ke ab to teri g faadunga suwar ke tu ek suwar ka hai ya kyi musalmaan teri ma mei ghuse the https t co PbVDtPuM3f ',\n",
              " 'PoliticalWire Congress me Gandhi parivar ke alava party ka prisident kyu nahi bante Iska sahi javab diya to me https t co 3CLh9VdPbQ ',\n",
              " 'sialkot in good hrs overtake meri jawaani speed mera na ra ft Nana the risky boy ',\n",
              " 'chintskap I hope u will come soon I wish good for your healthe We lov u sir One day u look Dariya sa https t co cTbU61szCB ',\n",
              " 'erbmjha sardanarohit sardanarohit ji aapko Khan Market gang ne target me le liya hai aapke iss statement ke baad ',\n",
              " 'FOR SALE BY OWNER Split level home in great neighborhood 3bd 2bth all appliances deck acre property low ta https t co 9FrUj9TGcX ',\n",
              " 'iavikDsaha idevadhikari bhai sob manush bhalo hoi Somoy oi manush ta ke change kori dei Aap Bahut Aacha dance kar https t co nc4HZ9EX8m ',\n",
              " 'TheRealPCB Ik sahab jab pm nahi thay tu tanqeed karte thay Yeh married pe team nahi hai Sub relo katto hain Aj b w https t co tef4X8y5HY ',\n",
              " 'DeepakLahri3 aamajeed zainabsikander Muslim gar mai peda hone se muslim banta hai sachcha muslaman nahi qura https t co E2zE6E3NiD ',\n",
              " 'ye MP m congress ki sarkar h koi majak h kya Unki sarkar bhi ho aur bijli bhi ghnte aaye ye bhi koi baat h https t co eImfpF4iiA ',\n",
              " 'Kat Upendi Kuhle Maseko Zulu Skywalker is a great choice ',\n",
              " 'JM Scindia Meri baat nhi suni apne Congress se prem mehanga pada na or aankh band krke atyachar sehne ka paridam d https t co XTFp4bhC1N ',\n",
              " \"Kaise chutiye log hai mandir abhi bana bhi nahi hai but India's unemployment rate sunkar mandir hi yaad aata hai https t co 0hUEwo1XvP \",\n",
              " 'thinkeeng br sharma priyansishrma16 garrywalia OfficeOfKNath bhai Mera bharat Mahan Bharat ki jai aur mata https t co Da62OtcLnr ',\n",
              " 'LambaAlka Jb L P G price hike hone se public ko koi problem nhi hoti tb ab India ki total problem solve smjho ',\n",
              " 'ibne haytham SnehaNa13439620 Raqibsyed1 SabahKashmiri Ibne Sena ZakirKhan012 Kuch Yaad Aaya https tco DAWi4YG59f ',\n",
              " 'anilvijminister Ambala civil mey toe aapk pass Ortho ka ilaz bhee nahi hai ',\n",
              " 'Ra Bies By being blocked aapke acche din aa gaye ',\n",
              " 'HardikPatel saalaa chutiya kala jabaan le ker aaya hai jab dekho shikayat karta rehta hai jaise ki khud k https t co 8nvPJu39LP ',\n",
              " 'ZeeNews asadowaisi One more thing think before you talk becoz tenants have to pay rent Aur aap se to abh https t co OwLy2IXi8J ',\n",
              " 'RT absdrewsmith13 Thank you itsdredesu for the acknowledgement Nakakatuwa naman hehe https t co OizUgbjkba ',\n",
              " 'aditeelicioux Filters ka sitam kuch iss kadar hai ki smjh nhi atta ke Chehra haseen hai ye filter selction ',\n",
              " 'utkarsh kalia kavee thaa What You want hindi for uneducated people Nice having a conversation with you bro https t co i7X4RbPXv8 ',\n",
              " 'VIDEO Love Affair With Life by Sade UK B-Side https t co GqtNbS6cFi sade sadeadu 1980s 80smusic ',\n",
              " 'Sobrang advantage na rin talaga siguro na isa ako doon sa mga bata kasi halos karamihan sa kanila ang dami dami na https tco 7javRm4uQB ',\n",
              " 'sardanarohit Is baat mein koi shanka nahi hai hydrabaad hi nahi aise bahut se Muslim bahulak ilake hai jo aantankw https t co 40vlV3Ux3W ',\n",
              " 'on YouTube EID MUBARAK at HADIYA trabaho vlogs https t co CDjaERcSYo ',\n",
              " 'megirish2001 Agar Hindu ka mind rig hogaya tho qayamat ajayegi Please support the demand for declaring India as H https t co rOaweXP322 ',\n",
              " 'Shehzad Ind narendramodi Love to see the happiness on mothers face Parmatma aise khushi har maa-baap ko dae https t co 36pMT2vSt2 ',\n",
              " '2Sunochanda moniccabing Saima Creations Tum akeli nahi ho jo Suno chanda dekhti hai A lot f ppl watches d sho https t co Ah7LFUvtSl ',\n",
              " 'Sammaniya p m modiji WA s amast kendriya mantrymahoday ke Bharat ka pratinidhitwa Sambhal ne par Hardik subhkamanay https t co YQ6toXfBBp ',\n",
              " 'RT NitinBa35467868 surajprakashbai jinka b exam achha nahi hua sbne fake representation daal diya aur sbka admit card aa gya i hope R ',\n",
              " 'SChaudharyINC evm ka Rona band Karo Isse kuchh Nhi hone wala h aaj ki Janta samjhdar ho chuki h agar Janta Prgya t https t co JfaEPb6QIS ',\n",
              " 'Officialneha But dear window me se ye kon dekh raha hai ',\n",
              " 'qaqi kalaban ko pala kanina sa classic yung nexplay mb hahaha mamaw solidmb ',\n",
              " 'RT ronibats Amazing detail 😲 Tesla MRI of the brain for all you neuro geeks out there NSGY https t co jYcKilw5SE ',\n",
              " \"LambaAlka Ouhh pleasesuch a bullshit statement He's perfect fr this ministry just an example of Meritocracy A https t co VIEu9OduVf \",\n",
              " 'narendramodi Jai hind PM Sir Sir hame ab sirf aap pe hi visvas h Sirf aap h jo is desh me system lago kr sakte ha https t co YsEV7td8Gu ',\n",
              " 'RT Sandeep16049517 narendramodi Hamare desh ke asli hero Manniy Modi Ji Ko hardik badhai Aapki Jeet se aapse jada Mai khush hu kas ',\n",
              " 'EngrJu ImranKhanPTI Phir bhi govt ne Iss umrah pay kharach million bara diya Purane waqaton ke tamam kharchon https t co dual3BWMoG ',\n",
              " 'deepadoc DRMJaipur NWRailways RailMinIndia PiyushGoyal Nahi ye matter nahi tha yaha seat available hi nahi t https t co TNeHXflQ0i ',\n",
              " 'ArvindKejriwal AAP ka karyakarta to niswarth hai lekin aap to bahut bade swarthi ho karyakarta party ke liye k https t co 0B2PZYUq4U ',\n",
              " 'is election ki sabse bari khasiyat yahi raha ki jita wahi jisne modiji or balakot per sawal nahi uthaye ',\n",
              " 'ALIZAFAR asadowaisi Tum vote Apne experience pe dete ho ya jo sunte ho Mai vote Apne experience pe hi doon https t co JvL3tpoD0n ',\n",
              " 'MLArajeshSP Molc member kya hota hai re BC pahle likhna sikh le bad me Payal Rohatgi ko gyan dena Ye Spai pelwa https t co 5xEVEvDtOv ',\n",
              " 'misscvstro archi books scrh d hi apple hehe alam ko miss mo ako char ahahaha ggood luck sa college ingat alwaysssss ',\n",
              " 'andibeth012 beautifulgorila Seamus sez woo Hooo happy endings always good Adoptdontshop SeamustheBullDog https t co A0Im6UcJcw ',\n",
              " 'Mard ko thora magrur thora bad lehaz hona chahia uski ankh ma gussa or awaz ma roab hona chahia Jo dil hatheli https t co R13WLEooIy ',\n",
              " 'jam kamal Hahaha look who is saying this Aap ka khandan jo har govt ka hissa raha 3rd generation CM bani hai phi https t co ymuRXsez6c ',\n",
              " 'sherryontopp RahulGandhi priyankagandhi ahmedpatel INCIndia IYC MahilaCongress Oooyyee sun tune to Kaha ke j https t co zBlZFRsGcH ',\n",
              " 'Akatowari Yo carbonada menos mal a mis hijos les gusta o me tiran la chala jajajajajaja ',\n",
              " 'arunjaitley Aap ke jald swasthya ki kamna karte hain sir You are a great MP in india ',\n",
              " 'Modi ko iss desh se nikalo Aukat hai to nikaal le https t co sKQmaKk00w ',\n",
              " 'narendramodi mangeshkarlata Dher saari badhaiyan Wish you all the best aapke aage ki vichardhara ko fir ek baa https t co h8feUrHGAJ ',\n",
              " 'RT pranav gelani IndiaToday waglenikhil Tejasvi Surya rahulkanwal Tejasvi Surya what a reply Dil khush kar Diya aapne 😄 Happy to ha ',\n",
              " 'sarfarazkhush SarfarazA Captain bhut Khushi hoi apni koumi shanakht ko uja gar karty hoi is lebass Mei malboos https t co hDWNVBUhJM ',\n",
              " 'jelaialivio1 Hahahahahahahah ataya wa kita ni follow ka abi nakog followers nata sorry jelai hahahahahahahahahahahhahahahahah labyu zel ',\n",
              " 'PoliticalWire RahulGandhi Ki hai Galti Congress buri tarah haari hai is Pappu ki vajah se Ab tum log https t co nPl9UrNjhF ',\n",
              " 'DrKumarVishwas abpnewshindi RahulGandhi Kaviraj poltics me aaye the to chodiye mt kejriwal ko benaqab kariye uske against election ladiye ',\n",
              " 'Lonebeast41 ranjansinghcho1 RiaRevealed free thinker OfficeOfKNath Working Ek photo daala hai Sadhvi k saath https t co wr9ZYvbYc0 ',\n",
              " 'Hope for the best bata pa kayo para magligawan Crush Crush muna HAHAHAHAHAHA luvvv bothhhh https t co 2XZsjTLfsq ',\n",
              " 'GAUAHAR KHAN Kal tak tumse log freedom maang rahe the ki jise jo pehenna hai jise jo khana h Aj sarfaraz ne apne https t co 7K6YDopiWq ',\n",
              " 'BushraAamir Beshak APpi 1st time appko comment kr rhi hun appki transmission bhott achi hai app bhottt cute hn 😍 Al https t co uS2OYKbppT ',\n",
              " 'Gaanv walo ye jo devil h na Devil iski wajah se Mai Deactivate kr rhi Maaf mat krna isko ',\n",
              " 'Wang da naap is such a cute song ',\n",
              " 'Shantanu KP786 asadowaisi narendramodi Are you a Chutiya or what He is saying something that is Shameful https t co OndPgUduTB ',\n",
              " 'This video made my day Picchar akdam kiliiar hai https t co rg6jiQIYA0 ',\n",
              " 'RRippr Aztxck Why am I even listed lmao I don t even play ',\n",
              " 'Atheist Krishna Sir congress rule mein surgical strike secretive thidefence forces ko bhi nhi pata chala aur pakistan ko bhi nhi 😆 ',\n",
              " 'irandeeprai chrisf988 Poora ke poora meme material hai ye ladka days to go for irandeeprai birthday https t co 0rSlxbuAsl ',\n",
              " 'VoiceofmyBharat geetv79 Opposition parties Iss mamle mai sup kiu hai Sarko se SC tak ki larai kiu nahi kar rahi https t co 6t9G8toknW ',\n",
              " 'TV9Bharatvarsh I am damn sure ki yeh opposition waalo ki harkatein hai elected government ko badnaam karne ke liye https t co DhLrqBafJo ',\n",
              " 'AmitShah BJP4India Manniy Narendra Modi g or b j p party ko jeet ki hardik subhkamnaye ',\n",
              " 'RT LalChan74592076 WelfareByDSSVolunteers a special rescue team setup by St Dr Gurmeetramrahim Singh Ji Insan named as Shah Satnam Ji W ',\n",
              " 'MaseehMahdi10 GernailSaheb This is not new Holi k aas paas b do sisters ko kidnap kia tha inlogo ne I saw the v https t co O44KIWT31N ',\n",
              " 'GautamGambhir Gautam aap bohot hi ache avam yogya insan hai mai aap ko like bhi bohot karta hu par aap ke dwara ai https t co wQxkimLniC ',\n",
              " 'Narendra Modee as great world leader happy secound turm Priminister Radhakrushna Ranpise National president All https t co 3oJY5bAkpn ',\n",
              " \"She is not your True bestie If You Guys haven't Exchange Screenshoots Saying Ab aagy kya Likhu \",\n",
              " 'sahebakaur2 DommeDaily FemdomDaily Good goddess muje bi moka do please apke juti chatne ka ',\n",
              " 'fatherofyousaf Aliwazirna50 Gulalai Ismail suar khane ke side effect ',\n",
              " 'GinsoyTeamExtreme khel kar jeetna hai 😃 Aap bhi luck try kro aur compete with friends https t co 3nDf3TXOXe ',\n",
              " 'mahubilli OMG OK SO CAN I JUST SAY JIA ARSAL ARE JUST LOVE SHAHANA AUNTIE IS MY FAVORITE AND DJ IS SUCH A CUTIE PIE LADDOO ',\n",
              " 'Congressi mahino se chilla rahe the inch is bluff Ab dekho kya halat ho gayi seats bhi nahi mili https t co qOMI6ZtwmN ',\n",
              " 'RT NasirPasir Hanya orang yg betul2 pernah PATAH HATI je boleh feel lagu ni Dengar lirik dia Meremang guys 😭 That moment bila finally ',\n",
              " 'soniamunirhuss1 Bilkul nahi pr appreciate krne pr to bol sakte hai na ',\n",
              " 'Mamta banerjee pachtayege inke dwara hone wala hindu virodhi aatank vadiyon ka samarthan aur hindu sanskriti ka kha https t co xjhisJ6MJr ',\n",
              " '1amishtiaq OT7 Jahan kch ache log hotey hain wahan burey log bhi hotey hain Kch logo ka apna imaan mehfooz h https t co BzrIUlLeWO ',\n",
              " 'RT hugmebils AWW SHE LOOKS SO HAPPY MY HEART https t co 344lfQUM5Q ',\n",
              " 'RT Shahrcasm Home Minister Ban Ne Ke Bad Pehla Kaam Amit Shah Ke Khauf Se Pakistan WIvPAK PAKvWI ',\n",
              " 'BeingSalmanKhan sir we love you but we want to see your child in film dabang mein our kya part bodygua https t co epLNSplx4z ',\n",
              " 'TarekFatah Nawazishkhan93 Ye dehradun ka hai ye uttarakhand tk aisi soch leke aagaye saudi arebia se ',\n",
              " 'RT JunaNJoey Thank you CelebMix for such an awesome interview Thank you Lauraklonowski whooo hoooo https t co 2sbJgiunov ',\n",
              " 'Sir All the best Do ur duty All EvilsDevilsRakshaksDesh Drohis LootersBreakers of India Anti India Anti Hindus https t co USLVvBzm9Y ',\n",
              " 'RafeqMomand hota hai Agar apko data consumption ky hawalay se koi issue hai toh kindly ap apna number DM kijiye https t co MgfhBG1nJo ',\n",
              " 'qari peaceforchange SHABAZGIL Koi action ni le ga Kunki police to mar khani k lye reh gyi h ab ',\n",
              " 'Itne dost lekin koi sakun nahi Transactional dosti Damn I think i just came up with something ',\n",
              " 'RT TheRealShowSha We asked the cast of SunoChanda2 some of our Sawaal Jawaab and they truly answered all our questions like true cham ',\n",
              " \"VinithaShetty Thik thak hai it's nothing great honestly was really excited during the first 20mins n then petered out \",\n",
              " 'RT cyrusgosh I CAN T EVEN BELIEVE THAT I VE GOT PICTURES WITH MILEY FUCKING CYRUS THIS IS A FUCKING DREAM COME TRUE 😭 I LOVE YOU MORE TH ',\n",
              " 'RT gayathriraguram I dunno why cops not arresting such people ',\n",
              " 'Bhupeshp IND Aaj rajniti man aur maryada ko bhool ker desh ko ak gande mahhol me dalne ka praysh kar rahi hai Har https t co VhwsyyxBHv ',\n",
              " 'sharmaprachi61 VarShu OffiCal ritz roop iam prash04 deep deepika006 dazzling Snehal prakashachary1 https t co qzxnhkSu1h ',\n",
              " 'Payal Rohatgi Mam ap jese logo ki desh ko kafi zaroorat hai apke pass adhik gyan bhi hai mujhe lagta hai apko des https t co KRaakX5Wdr ',\n",
              " 'Rahul gandhi aur unki congress modi ji ko abuse karke kahte hain ye to mera pyaar hai Bhagwaan bachaaye logo ko ra https t co UKEAyjNU4x ',\n",
              " 'AayatKh42331038 Happy weekend Aayat Khush rahiye hmesha Blessings ',\n",
              " 'incredibleindia Lagaan Hum Dil De Chuke Sanam Lagaan is the Oscar nominated movie ',\n",
              " 'Aaj apke paper NavbharatTimes main news galat hai ambedkar nagar se bjp nahi jeeti mahagathbandhan ki jeet hui hai https t co DImRNL1FPl ',\n",
              " 'thewirehindi Please report maaro iss gandu ko agar account delete nahi hua toh Twitter chalana chod do Warna https t co 3k7abunRDT ',\n",
              " \"RT empireofthekop WE CAN'T PUT INTO WORDS HOW MUCH WE LOVE THIS MAN NO ONE HAS EVER DESERVED ANYTHING MORE LFC https t co SYN9vnY \",\n",
              " 'Bahut bahut Khubsurat Lagti hain aap https t co ze0ZE7SKaq ',\n",
              " 'Sahidon ke naam pe vote maang liye bjp walo ne sach to sab ke samne aa hi gaya Khud ki mi17 helicaptor khud hi a https t co BGDbXWksLd ',\n",
              " 'Wkwkwk kalah gw sama anjinganjing ultah trending gw ultah gak trending2 Happy Birthday Vivi Wish you long life an https t co SD8OIm42xN ',\n",
              " 'I think about sleep apnea a lot bc your brain is basically like wake up dummy you can t breathe ',\n",
              " 'Sonalitomar0000 Priyankajit Kya baat h madam ji hm to kisi or ko bole lekin uska asar aap tk pahuch gaiya kamal ki chiz h burnol ',\n",
              " 'myogiadityanath ese bar jogi ji Desh Ka home minister banenge to Desh Ke Liye bahut achha hoga Desh Ka andar bad https t co DV9p0I5J83 ',\n",
              " 'PART OF MY LIFE MISS THIS https t co D55aNK380r ',\n",
              " 'ibhadi ke leli Umuntu ewine engatshelwanga you gotta love my Zulu people SAMA25 ',\n",
              " 'Aaj world cup ka pahla match eng aur sa ke bich khela jaa raha hai Ye mera satwa world cup hai CHEERS FOR INDIA ',\n",
              " 'sherryontopp Bhai ye BC chod aur ye bata ki rajneeti chodne wala tha agar tera malik rahul harta amethi se to Ab https t co TYPiPoP3ix ',\n",
              " 'kashi waqas TalatHussain12 Majid ne last me Pakistan ko to nahi daala tha ',\n",
              " \"romanaisarkhan ma'am u r so so so so good seriously iam saying Kya reporting ki thi Aapne elections result wal https t co uPLJjCYMEr \",\n",
              " 'He mjhse nh hoti prhai lakin men bara admi bnu ga parh k She q HeQk m nh chahta meri bv or bachy kisi cheez ko https t co IyRU39D5VR ',\n",
              " 'Wish if can meet BazmeeAnees sir great writer n director Shola air Shabnam no entry welcome Raja babu https t co J3z8TNHjQV ',\n",
              " \"RT siriuslalisa2 All anti's can choke and d e in tartarus Real blinks love you jen We are always here to protect you WeLoveYouJennie h \",\n",
              " 'AmazonCricketQuiz is bar to cricket world cup india hi jeetega ',\n",
              " 'RT PrinceA69467480 realmemobiles Flipkart MadhavSheth1 ne Kaha tha hum 48mp Ka used Nahi karange bakar Hain Toh fir RealmeX par ke ',\n",
              " 'Bas hours hain aapke paas taiyaar ho jaaiye to GuessTheCommunity and win exciting gifts Invite kijiye apne fri https t co RqSF86bRzY ',\n",
              " \"Can't wait for the day when he says begum meri shalwar mein naara daalo \",\n",
              " 'awan45 Bht jaldi bhej ria tha aapne toh Raat ko Lahore feeling bheega bheega k status laga raha that ',\n",
              " 'Free traffic jam hehehe long holiday Eid Mubarak https t co QuxxAqKbAp ',\n",
              " 'DesiStupides kunalkamra88 Apne baap ki photo ko edit kar modi ka face chipka de toh man jau ke tu Ek baap ka paidaish hai ',\n",
              " 'sabanaqvi tufailelif Height of not accepting the failure Teacher Apka baccha Fail ho gaya hai me s https t co OQAho2Jc2h ',\n",
              " 'artbyaroub cricketworldcup Behen photo shop karke fayda nahi ',\n",
              " 'DrKumarVishwas mlkhattar Kumar Vishwas ji aap ke pass agar khabar pahle aa gayi toh ak ache nagarik hone ke aate https t co kHSSnvKO0Z ',\n",
              " 'amitmalviya AmitShah Y I like BJP Reason Ideology Jo kaam kartha Hai unko sammaan mitlha Hai ',\n",
              " \"BBhuttoZardari Pakistan's Most corrupted party is people's party zardari Pakistan in BC ne bhutto khandan ko sab https t co hUCDY4824r \",\n",
              " 'Champions League final ke liye hamare Tottenham ke fan GappistanRadio ko all the best How are the nerves ',\n",
              " \"uppsc18mainspaperout students Ko naxalites mat banao Bahut tang hai hum phle se paper'out krne wale Ko phasi https t co HOAxBST7y7 \",\n",
              " 'BarackObama Tu niiravmodi RubikaLiyaquat Gwar ke sath andhe bhi lgte ho Obama ki pic lagane se educated ni ho jaoge ',\n",
              " 'Xarar786 PakSarfrazbugti koch generals ky naam or corruption bhi mention ker daity koi data hy ya bsss sonni sonnai he chor rahy ho ',\n",
              " 'Aauvikhepatil monjolikaa Kahi upyog nahi kitihi damage control kela tari Tuze sunbai vamp aahe vamp ch rahnar ',\n",
              " \"RT AksharPathak Friends I've long dreamed of making a movie one day I've FINALLY got around to writing and directing a short film This \",\n",
              " 'RT SudeshDuhan NaveenJaihind Very very happy birthday naveen bhai duniya k maarne se log marne lge to sayad koi jinda hi na rhe so pleas ',\n",
              " 'ModiLeDubega Tune job chara ka paisa apne baccho pe laga diya Ab dekh bachde lad rahe hai Aur kharid to pa https t co azj5l2LyVj ',\n",
              " 'Ek to mujhe ye samjh ni ata k bjp jo hai Vo congress se aye hue logo ko party me kyu shamil krti h Kya bjp ko ni https t co 8jP85yHoFI ',\n",
              " 'DanishM33697466 sardanarohit yogrishiramdev Har kisi ko safayi mat do Insaan ho detergent powder nahi ',\n",
              " 'dionysopes Done Bismillah berkah ramadan harus jwab salam dari jk pokonya wish me luck https t co Q7F0xCTpKX ',\n",
              " \"Rangoli A Box Off India Sanju is not just a hit it's an All Time blockbuster Highest grosser of the year It https t co oC4KkyHu0d \",\n",
              " 'anjalijoshi0777 Google search me ni dekha ki TWITTER NE isko Twitter se bhaga diya hai ',\n",
              " 'BJP ke winning candidates mein ek bhi Muslim nahin ye tajjub ki baat nahin hai Tajjub ki baat ye hai ke lo https t co QwjVTg7Sp6 ',\n",
              " 'chitraaum narendramodi News channel walo ne apne imaan ko bech kar BJP ku jo advertisement ki hai ye jeet usi k https t co Ay19wMdknf ',\n",
              " 'AliMallik5 He was my ideal but ye to aik wazarat main bik kr munafiq bn gya Is logon pr Allah ka azab aae ga Jo m https t co TKqMykrdlh ',\n",
              " 'Bachpan se lekar ab tak aur aage bhi aap hi mere liye No rahenge sir SrBachchan god bless you with good h https t co IXDkVgjoTq ',\n",
              " 'talented as you I thank god for creating such a perfect and generous person I pray that you will continue to b https t co aCTOiBtAmc ',\n",
              " 'TarekFatah Mota bhai AmitShah we have so much expectations from you pls band karo this gunda gardi ',\n",
              " 'BREAKING BREAKINGNEWS Pappu RahulGandhi is sad that PM Modi did not allot him any ministry DukhiPappu Gaandu ',\n",
              " 'bprerna Jai shri ram bahen ji Aur waise bhi we all r excersing our freedom of speech ',\n",
              " 'PriyaSakhuja aniruddh dave Yrrrr di kyaaa DM mei bhi same thing yha bhi same thing Fine thik hai Nd thanks for your wishes ',\n",
              " 'AcharyaPramodk He pakhandi dharti ke bojh kutto se tulna aap khud apni kare kutte ki puch sidhi ho sakti h https t co yu6hUKELOZ ',\n",
              " \"Rammi Yeah I'm not a fan of the whole we'll help you switch to us thing because that usually silently adds but good luck leaving \",\n",
              " 'Kalau dah nama boyfriend ni automatic hensem even muka macam kena bahan radioaktif ',\n",
              " 'DivuRastogi RajTiwa56444261 amethipolice Uppolice Kutte ko jinda jalla do ',\n",
              " 'rzikhan91 Ye to duniya janti h kaun kiski marta h Dunuya ne bhi sari wars dekhi h Khujli wale kutte se jyada puc https t co G77AKSh1p7 ',\n",
              " 'RT semubhatt Itna bhayanak u-turn 😳 https t co 5VCeOL7m5o ',\n",
              " 'Leo Knock Bhai muje ye batao ye mahila eka eki itna fast kaise hogyaazam khan pr to aajtk koi karywahi nhi kph https tco Wb0T3ew1fe ',\n",
              " 'Bharat mata ki Jay https t co FTUl87k98h https t co FTUl87k98h ',\n",
              " 'TimesNow Srinjoy C Phir padegi Pakistan to laat jab tak Nahin samjhegi aukaat ',\n",
              " 'Jagah jagah ka fark hota hai sahab warna jin paani ki bottles ko gharme bharne me maut aati hai unhi bottles ko scl https t co eSBGt3a6xV ',\n",
              " 'RT PaaVadda Which one is the best thirst-quencher in Ramzan Post your Sehr and Iftar pictures with ShareYourMeal and Telenor will distr ',\n",
              " 'RT OGSaffron Be my Shakti Maa And I ll raise the Bhagwa https t co PhzHA7bZ03 ',\n",
              " 'RT Zaibbi Khan Phla wou film thi phir ahesta shesta india ka drama bn gye jou kbhi khtam hi nahi hua ',\n",
              " 'Q ki Aap jaise reports REPORTER Rahe hi nahi BJP PRAWAQTA ban gaye hai pichale saal me dekhiye Aap MIDIYA walo n https t co 4ayPEORsOL ',\n",
              " 'Parang ako lang nung bata https t co 3sdnZ1gA8l ',\n",
              " \"RT AshmichSailor Hindi naman pagsinabing loveteam kailangan marami kayong moments or may nararamdaman kayo sa isa't isa Dyan sa love \",\n",
              " 'SuPriyoBabul BJP4Bengal TajinderBagga narendramodi AmitShah DilipGhoshBJP swapan55 KailashOnline https t co i6yVe5eqdb ',\n",
              " \"I AM SO ANNOYED GOOD GOD like good god are you stupid can't u see im being a passive aggressive bitch u why https t co nUjD99wO2P \",\n",
              " 'picsnart22 Ab shuru me imad ki prfmnce achi thi ok na is lye fvrt ur fr bd me khrb hui ab roz thei na bnda apne fv https t co ufSdb9Uq9T ',\n",
              " 'MSDhoni07fan Priyanka0905774 Sarthak7275 Abe sale anpadh gawaaro kutto tumlog aise nhi bhagoge yaha se Waise https t co DmVxNfikhU ',\n",
              " 'tehseenp Tehseen ab Tere jaiso ko Khujli to hogi na tera sandoo irobertvadra jail jo jaane wala hai Vaise kisi https t co Colkk4enZt ',\n",
              " 'RT Huwaiiii Al hamdiallah for everything what a night to be making duaa ',\n",
              " 'chitraaum narendramodi BJP4India Very good work keep it up saal ye he krna mehnat se government k liye Jai https t co 2kFMiYmowv ',\n",
              " 'RT Jihoonie Kang Waah so cute https t co iNiTl3yAhl ',\n",
              " 'RajTiwa56444261 ibhagwa n Ye ayse he manyge Issi language ke layak hai ye ',\n",
              " 'kpmaurya1 uppwdofficial Saheb mainpuri aur shikohabad ke beech ki km ki sadak ko sal ho gya aur abhi bhi nhi https t co IckFkf6bhh ',\n",
              " 'RT sallukhanbeing This Video Create New TERE NAAM Emotions on BeingSalmanKhan Face Bcz Song Words Boy Steps Face Emotions Too Much Hard ',\n",
              " 'Pak ko wc se 6hoti ki darkhast krni chye q k Pakistani awam m et i himat ni ke enke lyeee due hi krtiii rhe khlnaaa ata ni enko ',\n",
              " 'sardesairajdeep IndiaToday after years you are not able to understand him haathi ke daat khaane ke kuch aur and dikhane kuch aur ',\n",
              " 'iimcomic Sadly no one elsewhere is celebrating i guess pak mein bhi nahi kar rahe honge tamatar ke rate se choteyn tab to karenge ',\n",
              " 'RT MysticxLipstick For Scorpio their full potential not only includes success but actually feeling HAPPY Happiness is something that S ',\n",
              " 'RT Notyabbygurl It really breaks my heart everytime I see someone asking for prayers for their ill parents Allah sabkay maa baap ko apna ',\n",
              " 'RahulGandhi Aap Sabhi Birodhiyo se Pichra hu ki Jansankhya ki growth kiske karn se huei Keya Modi ji k 5Sal Mai https t co ZVe0qOyivv ',\n",
              " 'weedeis Ka dhe te tjere qe e bejne 8-en me tek vije dhe prape u del me e sakt se ata qe i bejn me dy rrathe ',\n",
              " 'anjanaomkashyap Fir ek tweet Modi bhakti ki bhakti ki v hadd hoti h apko kitna paisa modi govt de rha h wo v bta https t co y7vSeCJp9X ',\n",
              " 'What a great speech by our PM sir SABKA SAATH SABKA VIKAS SABKA VISVAS GREAT BHARAT ',\n",
              " 'RT GKBHAGAT1 htTweets RahulGandhi Naveen Odisha MAIN EK PAKKA CONGRESSI HUN MUJHE LOG PUCHTE HAI KI AAP BJP MAIN KION NAHI J ',\n",
              " 'MzA kirah His music is good this album is good lol i don t understand it either ',\n",
              " 'RT sami ki kami O Allah allow happiness to surround us make us forget what made us cry and what made us sad amen jumma mubarak to al ',\n",
              " 'namik paul snehu19020 Yeh to wohi ho gaya ki jisne homework nahi kiya usko prize aur baaki sab jinho ne homework kiya unko kuchh nahi 😝 ',\n",
              " 'WISATA HALAL TERPOPULER Nominasi yang masuk adalah Baayun Maulid Prov Kalimantan SelatanAPI 4A https t co SITEaFFat3 ',\n",
              " 'RT kaaylaarosee date someone you can have fun at a grocery store with ',\n",
              " 'GautamGambhir Javedakhtarjadu RakeyshOmMehra Sir jab apko esa he bolna tha to aap congress join krte Jay shri RA https t co me203wRMPR ',\n",
              " 'RT drharshvardhan Namaste himantabiswa ji Thanks for your very warm and affectionate words Indeed we are all grateful to our beloved ',\n",
              " 'Happy Birthday to ScottiHill Also to Lea Thompson who made me feel better about my first name Colin Farrell w https t co luXaPiz6bs ',\n",
              " 'Apple Keynote Bener2 beautiful presentations for everyone By everyone Untuk kamu yang pakai iPad Pro atau https t co HYM1Jpdwln ',\n",
              " 'Vishwaroopam God entered destination Ejipura Rama Temple God bless everyone It will going to be Pride of Ejipur https t co GRrBfjRKrF ',\n",
              " 'If you are in relationship Congrats dokha is with you ',\n",
              " 'ashish sharma earned the Module Lightning Experience Basics Nice work Trailhead Trailblazer TopTrailblazers https t co 3DLgOoCspY ',\n",
              " 'India Tohin qki Mai tumhari tarif kabhi bhi nahi karungi qki tarif aapne se aachhe logo ki ki jati h or Mai t https t co 7nSFqUg727 ',\n",
              " 'KarmaLovesTae li kimtae TiaKimTaetae TaeIlya melis Not to mention Scb cllge comes under top best cllge of https t co 2lYMrq7eC1 ',\n",
              " 'SonyTV SrBachchan Naveen Odisha nilamadhabpanda 001Danish Thanks sir hamara umid ahi he jai Jagannath swami ',\n",
              " 'GMumtazansari devikarjv Aur isko khoobsoorat saksham takatwar bananey mein bjp rss ka bhi bohot bada haat hai Is https t co ibheA5QJq2 ',\n",
              " 'sakshijoshii Ham aap ko samajhty h aap ko vo Bhi samjhty h aap ek achchey insane h yhi to bharat ki pehchan ek https t co wicr9OQXcs ',\n",
              " 'Askstar Laxman sir looking great is pitch pe aap batting kar rahe hote to aapki kya ranniti rahti ',\n",
              " 'RT MSufiSaint 1Majlis Sufi Khwaja Moinuddin Chishty Ajmeri r a ki Duniya me Sirf Manch Bharuch me saal se Majalis Kitab din pad ',\n",
              " 'its tani yabikikainaaat Aur ab aur nahi chhote aur flop logo ke sath muh nahi lagna chahiye humari bhi koi class https t co rakxnj717Q ',\n",
              " 'RT Ish Bhandari Used to think narendramodi is great leader but also lucky that Congress is easy opposition But reality is that PM Modi ',\n",
              " 'kamaalrkhan Chutiya tumko ye bhi pata nahi hai film hit or flop Apne budget ke anushar hota hai ',\n",
              " 'Sublime chetan bhagat Ji I am pretty sure in as well you will repeat the same God speed India https t co JW8fPZG4kA ',\n",
              " 'RT Nagesh nsui6 No Matter what result is You will always remain my Leader I am always proud to say this 😊 ',\n",
              " 'FayyazShots MaryamNSharif Harramzade teri maa marre Ameen Harramzade teri biwi ko fauji fuck krien Ameen https t co SWWEtpj8tx ',\n",
              " 'vijaysardar1 Dar mat gaandu kuch nahi hoga Teri bv ki chut ko Ye to Roz ka kaam hai is Randi ka Ise aise hi Randi https t co He2L220Vin ',\n",
              " 'Modi ji ayurveda ko develop kre isi ummid ke sath all the best dur ModiSarkar2 ',\n",
              " 'iArmySupporter Maa-baap ki seva chhod k terror Ka rasta apnate he desh k Gaddar he ye literate public ',\n",
              " 'ifrajaved14 SyedasukainaHu3 WaseemBadami Bht he achi bat kahe hai ifra good 😍 ',\n",
              " 'Tanya mishra kya hai na ji ki app ko dekhne ke bad nasha utarti Nahi aur jab utarti Nahi to app fir dikh https t co ed8ADvo55J ',\n",
              " 'honda2wheelerin i have owned activa 5g since last yr but activa is not giving mileage Sab ke sab chor he kisko ka https t co Nnni4p8bHl ',\n",
              " 'Love is dhokha https t co L9TOVh6L51 ',\n",
              " 'parthivgohil Enjoying you live in vadodara now Your singing is great Jalso padi gayo We are proud of you Keep it up ',\n",
              " 'Agar INCIndia ne pichle saal me desh ko baantne k jagah logo ko ucch-stariya shiksha di hoti to aaj ye Mob-Lync https t co P1SZXqc4Wd ',\n",
              " 'RT taEconomix FUCK THAT SINGULARITY BED IS NOT REAL ITS A PLASTIC WHITE THINGY 1080P REALLY MAKES THINGS VISIBLE OMGGG DHOKAAA HUA HAII ',\n",
              " 'Bhartiy rail ka ghor laparwahi hai ye Ac boggi se Luggage gayab hona aur tt dwara ye kahna ki extra log nhi the tab https t co naHc7IJKbu ',\n",
              " 'RT DimpleDoll777 Gurmeetramrahim Papa thnku thnku soooo much Eda hi rehmat bnae rkhyo sohne saai ji ',\n",
              " 'Ab koi anti aise post ko like nahi karega ijjat jo ghat jayegi bas galtia doodne mn aur ise re tweet karne mn s https t co u6FI58ycUs ',\n",
              " 'RT umamakiran1 1amishtiaq OT7 Jahan kch ache log hotey hain wahan burey log bhi hotey hain Kch logo ka apna imaan mehfooz ho na ho ',\n",
              " 'AkshayKatariyaa Ye Chutiya Drugs peddle karte pakada gaya tha Diwali ya Christmas pe Chhoot gaya Yeh nahi https t co gcO4qbM5vL ',\n",
              " 'RubikaLiyaquat abpnewstv ye numbers aur bhi acche ho sakte the agar aap jahar ugalane wale gaddar patrakaro ko studio me na bulate ',\n",
              " 'califallingdown Maybe its bc I only listen to country music Is she top Pop What genre is this I dont hear m https t co uVLGnULiuC ',\n",
              " 'RT DrDeng9 vikaskashya pp Vikash bhai badhiya Salute to u ',\n",
              " 'waglenikhil waglenikhil isme modi ji ko dosh mat do tum hate karne layak hi ho Sharam aani chahiye ki tum aisa https t co 1JSATZ8wzg ',\n",
              " 'ankur03308 DeepshikhaSark7 chetan bhagat karaaarajawab dhruv rathee kunalkamra88 ReallySwara tak to koie chance nahi ',\n",
              " 'idreesAlzeyadi MaryamNSharif AUR HAAN PAK FAUJ SY KISI KO BUGHZ NAHI HUMM SB PAK FAUJ SY PIYAR KERTEY HAIN Q K YE https t co cvv3vS2Dge ',\n",
              " 'Good morning my Rockstar papa Gurmeetramrahim ji Plz bless me more sewa sumiran parmarth ka bal b https t co jdwbgjeroR ',\n",
              " 'ur so freaking talented i cri also so unbelievably gorgeous i have no words ur scary and i m scared to dm u eek ',\n",
              " 'Tum Mushkurate ho to Zindegi mein Meri Khus hone ki Wajah mil jaati hai Love you my Prince https t co a0XShpv6Yy ',\n",
              " 'gauravbh Rahul modiji mujse debate Nahi karte Modiji mujse darte hai Congress hamara koi spokesperson TV debate me Nahi Jayega ',\n",
              " 'Dandim Wonosobo Bersama Forkompimca Kab Wonosobo Laksanakan Safari Ramadhan Korem Pamungkas https t co i2CV21qLyj ',\n",
              " 'RT Nehr who Yaha bhej do BJP party ticket de degi https tco KEgOjYTSlF ',\n",
              " 'RT engrsafdarmemon Mansoor Ali Inn letters ke bare mein kiya kahenge jo SindhGovt ke hai aur ab wo apne employees ko 12Months se Sal ',\n",
              " 'RT sudy25 Nil Nilesh56 DesiStupides rssurjewala INCIndia Nilesh Bhai bhadwo k much nhi lagte Yagi media me Atal ji ke kheelaf jhoot ',\n",
              " 'MERAJ KHAN Mumbai Ramzan Mubarak all you https tco ZBI1MtsHO4 ',\n",
              " 'coolfunnytshirt Pakistani players ko khelte dekh lag raha hai kisi ne unko bata diya ki Amit Shah ab India ka Home Minister hai ',\n",
              " 'sksushilm Aarthik madad nahi wo Pakistan ki aawam ka hak tha Aur yeh RSS ke propoganda publication apne pas hi rakho ',\n",
              " 'Snowflake Kadi ninda is his hathi k daat for political correctness He has done a brilliant job as HM so far ',\n",
              " 'SeemeGRaja74 Wallaykum Assalam Wa RehmatUllah Wa Barakatohu wonderful lady and a great sister ',\n",
              " 'Wishing you a very happy birthday bhaiya manickamtagore ji May you have many wonderful years ahead and keep serving the nation ',\n",
              " 'BoduBD4452 Yuvraj2202singh Ha Ek baat to hai Ek to tum smart ho tailented bhi ho lekin yeh sab tumhe virast https t co 2FMCmAb3iv ',\n",
              " \"TuDeshMera Can't wait ti near it Jai hind \",\n",
              " 'ZeeNewsHindi Khush rahene dpsab jante he ye nautanki he iski govt bana ne me jarurat padti to ye Sal tang kart https t co 4bhkJnkZ9u ',\n",
              " 'En dono Ko Congress Mai lai aao yadavakhilesh RahulGandhi priyankagandhi kuach bhi kare kaam tu Congress ke hi a https t co ptMMh4FtLK ',\n",
              " 'narendramodi Manniya MODI JI ko jeet ki hardik shubkamnaye Jaise mein bhi chokidar ka slogan se janta ko preri https t co UTaKvEyHX9 ',\n",
              " 'SonyPicsIndia Is Movie Ka Bohot Salo Intezar Tha I love this movie ',\n",
              " 'RT Bravetale Thanks to seeing your post VaardArt I got inspired to join the Blizzney fun o Chieftain Teran-Hoya Bravetale as Chie ',\n",
              " 'Ra Bies Tag AmitShah soniaraga cong torturedthrowawaypunished by fake cases modi shah Gujarat ppl insulted is https t co RNupds8end ',\n",
              " 'datAlgeriangirl wallah but I always had fast metabolism I didn t make duaa for it sksksksksks ',\n",
              " 'meghakookie sch m ac b fail ho rkhe is grmi m ',\n",
              " 'RT lb1lalitabathej TamannaInsan15 ManishKasaur Ritika88255523 rajniiinsa7 Love u bhut saara sweetu papa ',\n",
              " 'RT ThQueenCali13 I 13Love my Mama and I forgave her for th past She proud of who IAM life is about forgivness moving forward This w ',\n",
              " 'RT shyam5may Good morning pyare GuruPaa Gurmeetramrahim ji plzzzz bless me sewasimran nd parmarth StayAwayFromHypocricy https t co g ',\n",
              " 'Sir aap ki favret teme konsa he is warld cup me kya englend wald cup jit sakta he SachinOpensAgain ',\n",
              " 'FaryalTalpur kehti hy Aids koi khas bemari nahi Bibi g agar AidsBilawalZardari ko ho to masla nahi Ghareeb ko https t co YYGhppRg9V ',\n",
              " 'Dear agar intrest hota bhe to Pakistan k matches dekh k dil brdashta hokar aap bhe not interested keh dety https t co 9ofCTYOkOl ',\n",
              " 'Hey guys I m so excited really Suprb Seducted for some coolness Are excited to watch the movie Watch it out g https t co KH4mC6gfCb ',\n",
              " 'Mubarak ho aapko Shree AmitShah ji desh ki umeed hein aap aur humein umeed hai ki aap sabki ummedein pura karen https t co 78OPeSXDMM ',\n",
              " 'RT eemmmmauel Me explaining My love for my Dog and how I Would die for him My dog https t co qy2O9tsJke ',\n",
              " 'IamMafiaa Pagal aurat ImranKhanPTI Ye oxford ka class me pass hue gadhe ko UK me hi job nhi milegi Or h https t co 83DVmVwGgj ',\n",
              " 'Irony is Jo laundey Laundiya ki minute bhi dhoop me khde rehne me Gaand fatt jati hai wo log bhi gh https t co 3xOyD0w6rq ',\n",
              " 'LaliGanguli MamataOfficial She is really mad and behaving as child mamata haram nahi rahana chahati hai nanga bhagna chahati hai ',\n",
              " 'Good morning my sweet sweet papa Gurmeetramrahim ji Plz bless me my family more sewa sumiran pa https t co VryclP34aK ',\n",
              " 'RT Sukhjaykumar1 BeWise ChooseRight Gurmeetramrahim Good afternoon guru g Bless us and give us power do more nd more Sewa Simran a ',\n",
              " 'I am so happy for having such a excited full of potential confident courageous and do or die attitude leader https t co N5QEESi2Vy ',\n",
              " 'Pic1 Beta tu Congress President banne rahe Amit Shah ab Bjp ka President nahi hai mein hum jeetenge https t co w5FL8bXJo7 ',\n",
              " 'MaryamNSharif The day of my success salute Mian sahib you really deserve fr love n respect Whole nation is wait https t co vCmngCouBX ',\n",
              " 'Papu ko tavazo deni band ker dewey Apney app saaff ho jayega aakhir papu papu hay Prove ker diya election https t co 0sKHK4T1sq ',\n",
              " 'RT PanduGadu Jai Kisaan Jai Jawan urstrulyMahesh AnilSunkara1 Garu See this SariLeruNekkevvaru Happy75thBirthdaySupers ',\n",
              " 'desimojito Well mojito ji u r some short of 30k Keep waiting qki intezar ka phal jabardast hota h ',\n",
              " 'keysmcgee Nahh you re good don t worry about it oh God Bless You Brother Daniel jk ',\n",
              " 'TarekFatah V nice look in shalwar qamees tmhari jal rhi hai tw or jaly ',\n",
              " 'ZeeNewsHindi Ye musolman ko vodkane ne ki kosis kiya jarahe Apne fayeda keliye BJP hsmesa se sob ka saathsob ka https t co RvGNACLHXo ',\n",
              " 'I FROM SO GOOD HEARTWISH SO AND SO HAPPY AND BLESSED RAMADAN OR RAMJAAN MONTH KINDS TO YOU THE HON SECRETARY GEN https t co KqaJlomcJO ',\n",
              " 'sheikhsafina Koi fraudi hi ho ga corrupt ko support kerne wala maryamfraudi ',\n",
              " 'RomanSaini narendramodi kya baat h sir aap sabse young hone wha jo apne dum par pahucha h You are a true inspiration for all of us ',\n",
              " 'Sayed23219671 RubikaLiyaquat Wrong comment karne wale sabhi harami mulley MC apni behan key bare mey galat mat likho ',\n",
              " 'OmarAyubKhan Jo jahil patwari shukriya miyaan saanp keh rhy hain wo yeh sun lein k apky chor aur begharat leader p https t co jnd9eyB2V4 ',\n",
              " 'Rabiaa here ghr waly chor deny hen life style badal lena hai lekin Thori minnatain nahi krni Ego hurt hoti he maharaaniyon ki ',\n",
              " 'RT Layav9 Kudos KumkumBhagya creatives for showing Abhi dumb smart witnessing his own pampered blood crimes to lower his upbringing ',\n",
              " \"RT DailyO Pradhan Mantri Modi's Raksha Kavach Why India's women helped PM Modi emerge stronger in Sanju Verma https t co Y \",\n",
              " 'AliciaGilstorf nickyahogan I just need all the Major all the time Hehe https t co dqEps8TTzX ',\n",
              " 'livingseoul24 Lattoo thera tweet padke lag raha hain ki 23rd ko thu Burnol ka sabse bada consumer tha ',\n",
              " 'ThePrintIndia ifrahmufti SMHoaxSlayer Atheist Krishna sir badhiya kaam pe lagaye ho sbko ',\n",
              " 'PiyushGoyalOffc sir aam public ko dikat hoti hai safar ke dauran ticket nhi milne pe aur agent log 500hundred ka https t co TlMSHo72Fw ',\n",
              " 'YE YUVA JO ROZGAR NAHI HAI ROZGAR NAHI HAI AISA CHILLATE HAI USKO ROZGAR KI PARIBHASHA PATA NAHI ROZGAR MATLAB KOI https t co E6Bi68SktZ ',\n",
              " 'Even zabardast jetha and bindaas bhidhe are far better than pak team PAKvWI https t co LbVVlhNN6h ',\n",
              " 'smritiirani TajinderBagga MODIfiedVikas Abse sab log sirf nahane ke baad hi jai shree ram ke nare lagayenge au https t co k4geuHt3By ',\n",
              " \"V UNBEATABLE dthevirus31 I'm also a big big fan of dthevirus31 nd I always support the team of their nd I https t co aWlLT2rx6Q \",\n",
              " 'BJP4India narendramodi AmitShah Vijay to honi hi thi magar itani asha nahi thi desh ki janta ko dhanyvad ki vir https t co PI47xCEzrH ',\n",
              " 'AmitShah I fully agree amitji but kaal aapki surat guj ki police ke logo ne milke eak garib lac ki chori ke https t co JMuULNdcWY ',\n",
              " 'ImranKhanPTI Apna kaam ker dhang say I advice ka bacha na ho to 2J praE kya pari Apni nabaiR tu Khana https t co r7tPVXlCgr ',\n",
              " 'Takat ki hai aafat ki himakat ki ibadat ki Adalat ye hai chaht ki Mohabbat ki amanat ki Jitne ki adat ki Yeh s https t co q02DHVgsUD ',\n",
              " 'ppp pmln MEMO-GATE O DAWM-LEAK ZADA YA KE CANCER SE BHARE GADDAR CHUN CHUN KE LATKAO INME TAALUK SABIT HO TE JAEN ',\n",
              " 'RT BDonorsPakistan Assalam u alaikum Respected Members Hope you re doing well and having great Ramadan Kareem Thank you for your kind ',\n",
              " 'Happy birthday bhaiya happy many many returns of the day iMRizwanPak https t co 3eoBhgk2XD ',\n",
              " 'kanhaiyakumar Tum log khelte raho ye muslim-hindu Agli bar seat jeetegi BJP agar yahi karte rahe tum Develo https t co 9CBzlZZxO1 ',\n",
              " 'GOD BLESS YOU PANCHOLI https t co tURcCaMH1x ',\n",
              " 'Little Mix for monsterinmix Their Most Overrated Song Oops Their Most Underrated Song Love Me Like You Favouri https t co BJXnydmwTr ',\n",
              " 'Neha12992243 zainkaphankha Rajveer Singh Vo kainat ke pass nahi jaega but Saltanat dusre ke pass jaegi zaroon is looking so hurt n angry ',\n",
              " 'DrSJaishankar SushmaSwaraj Sir WE Indians are fortunate to have Sushma Ji and you with Narendra Modi Ji Vande Mataram ',\n",
              " 'ShivaGopalMish1 RailMinIndia IR CRB FinMinIndia Mishra g Railway Appretice ke order kb niklege uski bhi date bta dijiye ',\n",
              " 'Manika tweetz Yrrrr nahiiiiii bilkul nahi aisa kuch bhi nahi hai Tum bilkul bhi buri nahi ho Tum bahut bahut bah https t co AWVRfttNY3 ',\n",
              " 'manakgupta narendramodi RahulGandhi Manak ji Congress ko change hona hoga congress jis din BJP ke neta ke birod https t co bnOC57FV8E ',\n",
              " 'Congratulations Dr mansukhbhai mandaviya saheb modi ji ke mantri mandal me shamil hone ke liye https t co HaVJxUa6Py ',\n",
              " 'riotzgone Iftar men late ho ra tha iss liye bread crumbs nahi lagaye n besan lagana para instead of flour w https t co MS1FEVnHUF ',\n",
              " 'ASUSIndia Max pro m1 me update kab ayega We want native video calling enabled camera api ',\n",
              " 'TurahNyinyir Akun busukpemuja dajjal inilah gaya komunisyg benar di salahkan dan yg salah di benarkan ',\n",
              " 'narendramodi sri modi ji haam ko hamara jonam adikar koshal state do modi ji haam log app ko bhoro sa kor ke vote https t co yds999YhXi ',\n",
              " 'Coco Shifu Dekh aayi Kuch badhiya maal ni hai jada isse badhiya flipkart ki weekend sale pe mil jata hai or sasta bhi ',\n",
              " 'narendramodi Congratulation my dear pm modi ji Aap se request h iss baar hamare desh ki population pr rok lagai j https t co QDJgmfoSss ',\n",
              " 'Good morning Muzium Negara RASMI https t co aKn7lJNPlO ',\n",
              " 'RT raveeshchamp Another gem in the stone Career Best for Suriya offl sir Thanks selvaraghavan sir prabhu sr sir Ngk Ngkfire Blockb ',\n",
              " 'RavishKumarBlog SanjayAzadSln Congress Kon maar KE India ko super power bana Diya h aaj ye Jo huA wo corruption K https t co sBBlS2tKsm ',\n",
              " 'anandvijay210 CMJoshi108 sardesairajdeep Yadavo ko delhi se bhagao sale apne gaw jaa dudh bech bc ',\n",
              " 'StarPlus LaghateParth IamEJF I seriously have one curiosity Is really India like this I mean baar baar baar h https t co 6doAye6iWY ',\n",
              " 'STVRahul asadowaisi ReallySwara Javedakhtarjadu waglenikhil ashutosh83B prakashraaj meerutpolice https t co RhxrkU1ETn ',\n",
              " 'myogiadityanath Upsssc ke koi result nahi complete karva Saki is speed se me Modi ji bhi kaam nahi ayege ',\n",
              " 'Jis ko karna hain karlay laken Hum to World Cup Cricket Dekhengay Insha Allah https t co IpPpDoLqhg ',\n",
              " 'IamAkRahul galtiyo ka count matter nahi karta kitni badi galti hai wo matter karta hai murder robberies ',\n",
              " 'MonaAlamm Koi bhu hakomat awam ko kuch dena nahi chahty or na hamari awam ko koi farq parta hai bycot nahi karsakt https t co ozxnh9bMKC ',\n",
              " 'AmitShah narendramodi All India me nrc lagu kare w Kashmir se dhara 370ko khatam kare ham Indian ko apse yahi umid hai ',\n",
              " 'GUYS PAG NAMISS NYO SI kyoquijano BALIKAN NYO MUNA YUNG DATI NYANG VIDS LALO YUNG SONG COVER NYAAA GAYA NG GINA https t co cAsuDW6pAk ',\n",
              " 'Anda tidak selalu dapat mencegah diabetes tipe Tidak ada yang dapat Anda lakukan tentang genetika etnis atau u https t co 7spdD9vdZd ',\n",
              " 'RT N0t ur Bae Bachpan maii Yeh Chuha Mera Crush Tha https t co TqRPsVynEj ',\n",
              " 'My Brother in Law explaining me how Pakistain is just reliving the world cup He yar mein WI is Pakistan p https t co Rzdj4216GP ',\n",
              " 'Last supper kraaa y3 diii no free https t co o4LJa8L1Rd ',\n",
              " 'Saurabh70059550 Ye desh ke gaddhhar or makkar v deshdhrohi hai ye papu ke Chamche bhi hai or kutto se bhi jyadha https t co v6RFomr7et ',\n",
              " 'abpnewshindi asadowaisi Muslmaan to nahi dar rahe Haa Unko dara dara ke Muslim vote Ki rajneeti karne wale jaro https t co 5EAJWyePGC ',\n",
              " 'chitraaum aaye padhare hamare aagan me Itni garmi me app itne logo k sath Nice to see you in Ahmadab https t co 1dcVKh31bw ',\n",
              " 'Desh me patra aise bhosdiw le hain jo khud ko kisi raja se kam nahi samajhte Pehle ko to public ne elections https t co KHTLChtKYH ',\n",
              " 'RT Jennife73151880 Dykeslebiansrug munchers you are welcome here lets connect and make love https t co WvmvvRUW7E https t co ',\n",
              " \"Outof league Nahi bahan ladkiyan to aajkal Queen's life ji rahi Him hi log bhikhari ho gaye hain \",\n",
              " 'AcharyaPramodk Baba to nikay chunav hi lad lete parliamentary elections q lade Chutiya samjhe ho kya papu ko ',\n",
              " 'RT HenkJanOut Dit is wel een interessant en bizar draadje dat laat zien hoe de verzekeraar vgz invulling meent te moeten geven aan haar ',\n",
              " 'Jai hind desh k sabhi deskbhakto desh hit m kaam krne walo desh k parti har samay tatpar rhne walo ko Shri Nare https t co Z6BZ3bkDby ',\n",
              " 'Ham hindustani kabhi bhul Kar bhi panga mat Lena nahi to first pyar se some jaunga nahi manoge to hathyar se some j https t co WF6ePwCRYy ',\n",
              " 'Kal Islamabad se Gujranwala bazareya train sham baje rawana hua gujrat ky qareeb thy ky cabin ky bahir udham sa https t co gYHoz8nfed ',\n",
              " 'kanhaiyakumar Pakistan ki aulad sale Kanhaiya Kumar tere ko bhi Goli marunga behen chod Tere Jaisa Gaddar sale Ham https t co nfJHXMToCc ',\n",
              " 'narendramodi best of luck to you and ourself for next years of sabka saath sabka vikas sabka visvas ',\n",
              " 'Ohhhh he wants to see what they have on him or he is just trying to play both sides https t co otVZvYzuMs ',\n",
              " 'Frnd Bhai tu kaha hai Me Traffic me fasa hua hu bhai Frnd Are jaldi aa apne gaw me JSB aayi hai Me https t co OoEVsu3ktE ',\n",
              " 'Wah Wah Wah DESH ke ghatiya aur ghinauni rajneeti karne wale JUMLEBAJ netaon kee tarah aap bhi MAUKA paak https t co HD35vwEA9K ',\n",
              " 'PiyushGoyal Manniye piyush goyal ji Apke mantri bnne bar hum apne apko bhut gauravshali smjhte hai M prak https t co hzqyCCaiSA ',\n",
              " 'RT YashwantRaut19 Dear sir GoaMining is the backbone of Goan economy Pls restart immediately save mining dependents families from har ',\n",
              " 'Maine pyar kiyaDarr SarfaroshHum apke hain kounLagaan3idiots Bajrangi Bhaijan SultanBahubali2The Godfath https t co 8i5zw4eKtT ',\n",
              " 'Fun fresh and talented That s the team you will have at Ulta Beauty We are looking for our next Esthetician in https t co oUFy2RDeLk ',\n",
              " 'AkneogTikna Hi Ankit We have responded to you via DM Please check Regards Team AIS ',\n",
              " 'propakistanipro SabineK48384668 Kya hua toiletless suar medical visa ki beekh pe jawab nahi ban raha Kya ',\n",
              " 'ShazanAhmad4 Being Priya To tere jaise fake update de ye baad me tweet delete kar deti hai jab isko khud pata ch https t co 5HjgNjHlkl ',\n",
              " 'RT Shoaib SRK1 Koi nahi Humara qaumi khel toh waise hi har kisi ki personal life mein taang araana hai PAKvWI ',\n",
              " 'PranaykaNTRii AnilRavipudi ni stories direction ey worst anna Jabardasth ki stories rasko ',\n",
              " 'RoflRavish9 Honi Chahiye per ye dalal media is khabar per charcha Nahi karegi Opposition ko court Jana Chahiye saboot k sath ',\n",
              " 'aSoulRebellion mssirsa ArvindKejriwal Ha ha ha best party got how many seats in this LS election People know th https t co Mci966hJVM ',\n",
              " 'RT edwardstbakery FRIDAY BREAKFAST IS HERE Friday at Edward St Bakery is all about treats We are open BREAKFAST 10AM-12PM LUNCH 12PM-2P ',\n",
              " 'Patanjalikalia1 Dekho bde bhai jo bhi h n bhai Agar app duniya HI dekh lo sbse jyda pyar log Salman bhai s hi krt https t co MxtPenxJrS ',\n",
              " 'ArunbajpaiRajan afreenk007 MamataOfficial Modiji vanish ho sakte hai but RSS never RSS is the base of BJP ',\n",
              " 'Modi k ministaro me minister bilkul jaahil anpad gawar criminal h saale khud PM jaahil h to jaahil ko hi chunega na ',\n",
              " 'pankhuripathak Tum log lad pate nahi ho ar janta ar media ko dosh dete ho agar tumehe lagta hai media bika hua hai https t co mWekZ5PBl7 ',\n",
              " 'the hindu Faltu nautanki of Masood Azhar and gang and here Commie media is peddling that nonsense ',\n",
              " 'RT MDivya231 Nannu To Rockstar hone ke Saath ex-cbi officer nikle Koun kisise like Karta haikoun kise Love karta hai inko Sab ku ',\n",
              " 'amir g87 kon PTM wale wo kaise bete ho gae Wo to khud ko afghani kehte hai btw afghani koi ethnicity nahi za https t co 0T0FEQhFTZ ',\n",
              " 'cute ni chachi 😩 soon to be a mom ',\n",
              " 'RT Kaushal shah191 chitraaum aaye padhare hamare aagan me Itni garmi me app itne logo k sath Nice to see you in Ahmadabad ',\n",
              " 'RT SaharaReporters How Government Agencies Failed Adewura Sahara Reporters It is unfortunate that a young girl had to die for this iss ',\n",
              " 'kshukla778 Payal Rohatgi Tere maa baap ne bohat badhiya sikhaya hai certificate batna sabko ki kaun kiska chamcha https t co xmdkSszCN2 ',\n",
              " 'RT sunita2318 Good morning my sweet sweet papa Gurmeetramrahim ji Plz bless me more sewa sumiran parmarth ka bal bakhshn ',\n",
              " 'seriousfunnyguy kunalkamra88 k maa baap ne usko shiksha hi aisi di hai Dosh uske Maa baap ka h Uska nhi Padh https t co WGZYdk6YAH ',\n",
              " 'Ya girl is wala nang balak mag enroll ',\n",
              " 'OneHaryanaOffcl ITNE BADE NETA NE IS PRAKAR SE BOLNA JABKI CHUNAV ME JANTA NE INHE NAKAR DIYA INKA MANSHIK DIWALA https t co iOmxUE8NTs ',\n",
              " 'greatbong The only channel which doesnt claim anything is NDTV because well uske waise bhi kharab din chal rahe hain ',\n",
              " 'sumaira nedian Junaid50us joe sameer Aur kiya kya chor toh diya nuclear missiles ke dar se sale napak mulk ka na https t co 53EN7f0oFZ ',\n",
              " 'SS new product introduction Seven Treasures Kash Cool Tunic Shoulder design sheer fabric is cool You https t co zh3aosgvne ',\n",
              " 'muglikar Congrats Bhau but you must be more dedicated from now as you are our fm on twitter govt for India in every opinion ',\n",
              " 'INCIndia narendramodi Koi bat nahi pm modi ji apni jimmedari sahi tarike se tabhi nibha payege jab bipaksh me apn https t co 7LQgBnx3tS ',\n",
              " 'gopaljeebjp Sir ahun ke bhut bhaut badhai Mithila ka representative banai ke lel Khali kani pahilka MP sab janka https t co L6vm6Lpnvi ',\n",
              " 'ajinkyabapat1 Hi Ajinkya Never wanted you to face any such inconvenience while ordering with us Thanks for shari https t co 6IHSNaceVg ',\n",
              " 'jis din Muslaman BJP ko dene lga us din BJP Khatam ho jaygi kyuki hindu muslim khatam ho jayga or log vikas k aadh https t co kg8YmFf8hB ',\n",
              " 'fail hote rehta thha school ke sab subjects mein issiliye naam Tu fail ho gaya Tu fail h https t co gVwWbmmwji ',\n",
              " 'yoursbadgirl Maa ka bhosda teri baal khinch k door ghsita pushed u from bed aukat me rah ',\n",
              " 'imMAK02 INCMP OfficeOfKNath RahulGandhi Abee sale jholachhap chaap yeh ghatna MP mai hui jaha congress ki sarka https t co YUYutmamsz ',\n",
              " 'Congratulations Sir Sabka Sath saba ka Vikas Yhi slogan h aapka But Jamshedpur me female candidates ka Vikas wah https t co yG4vaFcFET ',\n",
              " 'baloch aina iDua Fatima Sari zemadari ek insan ki nahi hoti ye Hakumat ki zemadari hay jo zakat kaati jati bank https t co gtXtgllXdU ',\n",
              " 'You make me wanna MAGA times Third Time Charm is underway Results thus far SEE TuckerCarlson So far https t co Y2GlLIZTae ',\n",
              " 'iamzzeeshan asadowaisi Humari Hindi media Kabhi Asad Bhai Ka ye rukh Nahi dikha Sakti wo jab BHI dikahegi negativ https t co FPq6L1R04v ',\n",
              " 'RT bushybaloch Shining star77 Ankhon ki bt na kr sahab log Mar jaega ',\n",
              " 'past pr sb ko bulaya pr gaye nhi madarchod bahut bde bhrast niyam kanun ke ho ek baap ki jayaz awlaad ho innovator https t co SRDjG6veqM ',\n",
              " 'RT MirzaAm55394697 Pehley chor corrupt daaku be-hiss be-imaan they aur ab Ghddar aur mulk dushman b Pak Army k dushmanon k haq mn bol ',\n",
              " 'OR I WISH VERY AND VERY HAPPY AND BLESSED RAMADAN OR RAMJAAN MONTH TO INDIAN NATIONAL CONGRESS PRESIDENT SHRI https t co iLZ0nx9yPk ',\n",
              " 'Mai Kafir kiso ko bolta hi nahi na mainay abtak bola jab tak kisi Mufti ka fatwa na ho Tum logon ki tarah th https t co WeAUyzkH11 ',\n",
              " 'Sumita09445393 agar inse mahilaon aur baccho ka bhala na hua to samjhna ki kabhi niyat thi hi nahin Is post ke li https t co Xty72jOMag ',\n",
              " 'RT rds singh TV9Bharatvarsh muslim kanhi bhi support nahi karte kya ye mahilaye kabhi bina burka ke nahi nikali hongi kyu nahi burka ',\n",
              " 'AmitBhagchandka dhruv rathee dhruv rathee i think Modi ji ko aap jese intelligent ppl se puchn chahaie tha right ',\n",
              " 'YogendraYadav Kanhaiya desh bhkt Wah chutiye freedom of speech ki band baja rakhi h tum logo ne Tum jese log ra https t co kDBrceaMsI ',\n",
              " 'RT VinodSh46061220 Sanghmita exp train no me behad bhid hai jisme log bhais bakriyo ki tarah bhare huy hai Pair rakhne ki bhi jagah ',\n",
              " \"RT ProductionVeedu LISAA India's first ever stereoscopic 3D horror film written and directed by Raju Viswanath Don't miss this amazing e \",\n",
              " \"Sukari Tokoh agama Pontanakayyang Kab Mateng Ucapkan Selamat Kepada Jokowi-Ma'ruf atas terpilihnya sebagai Pres https t co eYV19xp5of \",\n",
              " '8106S Ek taraf bolte we r hater ek taraf bolte best friend banana chahte ',\n",
              " 'RT FreddieKraft Here it is or all you DirtyMoMedia DBC listeners that asked for a pic of the T Hosh lounge that Tjmajors mentioned o ',\n",
              " 'SAMBIT PATRAg UdayBharti108 Godse ko sahi khene wale Gaddar deshdrohi Angrezo k talwe chatne wale sawerker aur Na https t co KqbMONst4m ',\n",
              " 'Gillzz191919 Moody to Nahi ho Jyada baat v Nahi Karti ho 😬 Shy to jarur ho Friendly bahut ho Rud https t co HuvIUXFHzF ',\n",
              " 'masimanjum Kaifraz88535564 Jhooty pe Allah ki billions lanat especially in Ramadan ',\n",
              " 'BunnyTheRabbit baba controll Hahahah chor yrrrr mood ma nahi abi m ',\n",
              " \"ExSecular Those are lucky ones who's partners cheat otherwise idhar tau shaddi hi nahi to rahi cheat krne ka m https t co UAz4ZZUmVW \",\n",
              " 'DrArvindSharma Aapko future ke liye bahut bahut SUBHKAMNAYE We want to see you in PM Modi ji team ',\n",
              " 'RT OverLord Xd Desi parents keep on discouraging relationships with opposite genders all your life and jab shadi ki age ho jaye to poocht ',\n",
              " 'Uska reply nahi aaya to finail pee lunga 😥 https t co 6kD8FDY2Mx ',\n",
              " 'tufailelif But chootiyas like you just keeps increasing Bakchodi band kar ',\n",
              " 'RT KB KrishnaBeura Thanks to all my fans well wishers for loving appreciating Aap Ki Kashish from Aashiq Banaya Aapne Full Vide ',\n",
              " 'Gali me kutte kam Snapchat per kutte jyada hai snapchatfilter dog funny say ',\n",
              " 'Oye BBhuttoZardari Barat lekay NAB nahi jatay Darta kyun hai Dar k agay jeet hai Dekhi nahi DewKiGaari kal nik https t co q4ZYA0bCtL ',\n",
              " 'zartajgulwazir any iota of shame Baishak Allah ki Lathi be awaaz hai https t co No8aUMVb3w ',\n",
              " 'Askstars Can india replace vijay sankar in place of ajinkya rahane because ajinkya rahane is well known of england pitches ',\n",
              " 'ysjagan actor Nikhil Hearty congratulations to ysjagan Mohan reddy sir and eagerly waiting to see the future of n https t co Rh5eiRxvUW ',\n",
              " 'Is soch ke sath aoge to phele semester ke bad hi nikal deinge tmhain https t co YnLktgR8Ny ',\n",
              " 'Bhai gave up India captaincy to become a world captain Ab jeet aana varna iske memes banenge IndvsBan https t co mbIpctHdQw ',\n",
              " 'Happy birthday in advance NayyabHoonMain Just days left Khush rhy HBD Nayab https t co bq8fduK9j5 ',\n",
              " 'I swear ab koi BJP bhakt aake mere aage bjp ki raag gaaega to sun lega mujhse Why the hell is the party silent on https t co 5jry1AzZj2 ',\n",
              " 'sambitswaraj No Problem Jeetenge jarur jeetenge but you fight awesome ',\n",
              " 'EVM ke saath chedchaad nahi ki jaa sakti hai chutiyo Bohot jyada strict procedure hai saara Bachcho ki tarah pahl https tco HUxLobdrEe ',\n",
              " 'Kamalp68070 ShilpiSinghINC Haha ye ab jindagi bhar aise hi tadpte bilakhte rhege kuki congress to bubara nhi aayegi ',\n",
              " 'LilSam06727957 SpursOfficial Tumhare iss comment ki koi credibility nahi hai ayeshivani WorldNoTobaccoDay ',\n",
              " \"SushantBSinha That's the difference b w khud ka dimag se bolna aur dusare k boli ko repeat karke bolna 😊 \",\n",
              " \"RT NishATQaseem I feel With every passing day Kashaf Murtaza's philosophy of life is getting more relatable Zindagi me har dariya khu \",\n",
              " 'RT SadearH This is what MenENDFGM means I love the passion of these gentlemen kipainoi TonyMwebia EliasMuindi PCKemei Always commi ',\n",
              " 'pankhuripathak INCIndia Good Very very Good Mam ye chatu Anchors chatu Media saal ye sirf or sirf Hindu Musl https t co wetVRJmyT5 ',\n",
              " 'AMIT GUJJU In ko aadat hai paki pakai huyee khane ki Last time Anna se pakwa ke Jo roti lee is baar soch rahe t https t co bbBCtlSjb5 ',\n",
              " 'myogiadityanath narendramodi Maan niye yogi ji maharaj ji sadar charan spersh maharaj ji kripa karke aap hamare m https t co EvX4GnGGtw ',\n",
              " 'oomasrk shivkmishr Bunibroto mahanta h AlphaMaximus9 BharatPronam sanjays06480699 From Himalaya the ufo absolutely real HEROES ',\n",
              " 'ndtv No one jobless only congresi and Rahul Gandhi is job less all are doing there job koi bhukha nahi sota a https t co x2ESgb5Vjk ',\n",
              " 'iqrarulhassan Happy birthday brother Ajj Apki Brithday Pr Mujhy Fallow Back chahia Khush Rahain Hamesha Pakistan k https t co FL9PDv2cpi ',\n",
              " 'RT sitecore ashish chacha vidhayak hai hamare by zaker khan Zakirism Man what a good acting simplicity real talent hiddengems lov ',\n",
              " 'RT JaikishanIam Poonam12206295 Kismat ma bahut kuchh ha dhudna padega ',\n",
              " 'RT CoffeeNChirps My mom just called SpongeBob Wo Dhokla My life will never be the same again ',\n",
              " 'SarcasticGupta no issue bhai ye toh normal h aate h sbke mind me same ',\n",
              " 'RT ifn Ramadan Special Chef Ajinkya shows how to cook rice perfectly to make your Biryani the highlight of your Iftar menu Ramzan Ram ',\n",
              " 'RI William wHO 😠 kfc ne tok rah unaco ka rah diy ',\n",
              " 'GulfOilIndia hardikpandya7 Jhoomega Team India Ka Har Ek Fan Jab Boundaries Maarega Humaara Hardik bhai CheerWithPride ',\n",
              " 'RT chashmish Ed With every passing day we are losinh essence of life I mean how we used to send eid cards with eidi to friends and then c ',\n",
              " 'sunilbansalbjp Yah MP Modi ji aur Yogi ji ke karan jeete hain ke bad in longon ne aapne chetra ko nahi dekha https t co k5zxhnZIJ4 ',\n",
              " 'PrakashJavdekar moefcc PIBHindi MIB Hindi SuPriyoBabul Sir 1st of all Congratulations Sir aap s ek request h https t co YN6AInBLtz ',\n",
              " 'News18India sambitswaraj nehapant19 Aaj phir media nai apni okad dikha di only bjp spoke parson ki baat suna kar ',\n",
              " 'RT muglikar Waah RahulGandhi ji Aapke dost log https tco G2XQg8YSAC ',\n",
              " 'KPYadavBJP aapko jeet ki bahut bahut badhaie sir apne wo abhed kila thoda hai jisase aaj ek sachha Hindustani hi https t co yUzQqzXIdo ',\n",
              " 'Hai Ye Tadpan Hai Ye Uljhan Kaise Jee Loon Bina Tere Meri Ab Sabse Hai Anban 😑 Bante Kyun Ye Khuda Mere https t co vYHy5ukIgx ',\n",
              " \"Ghummans Kuch bachy maa sy qabo nahi aty jab to bap ka chittar kam ata hy or ye aakhri option hy maa ki bat sun'na https t co fSFLOtJ9lc \",\n",
              " 'ankitsinghbeta Raje Radhey 7rick37 EkThaEngg Incest stories bahut padhta hai radhey ji ka ladka ',\n",
              " 'usamatahir717 World looks at you as a Rouge nation good for nothing ye hai tumhari Aukat Your passport comes seco https t co ZjfVIjcDuH ',\n",
              " 'pawangreatt Ramchandra791 Equality ke badle equality mang rhe hain ',\n",
              " 'RT ProKabaddi Line drawn game Kuch yaad aaya 😍 Panga lene ka waqt aa raha hai are you ready for VivoProKabaddi Season The a ',\n",
              " \"ZedGrrdaisy It's ok I fasted all days last year still Liverpool lost but I realised had we won we wud still have h https t co I05mbhrQBO \",\n",
              " 'narendramodi Dil se khush hu sir aapke liye Humara desh surakshit haatho me hai All the very best sir ',\n",
              " 'Reporter Firdous ashiq awan aap k khilaaf buhat bol Rai hain Zardari abhi bolnay pae tax lagaa nai jab laggay g https tco VbEy0UAkWs ',\n",
              " 'RT contrarianEPS L T is back like ke roce pe kitna growth kar lega yeh P ',\n",
              " 'RahulGandhi Rahul ji aap bohot bhole ho bohot sachche ho gandhiji ki tarha aap pure hindustan k dil me base ho pm https t co blgu6pJMSP ',\n",
              " 'Virendr95094268 Mithoon11 itsBhushanKumar Osm song bdi muskil se mil rhe hai aajkal ache gane ',\n",
              " 'khude ramkishan Mohit58112831 OddNaari aajtak Padai likhai karna tumhara kam hai sarkar ka nahi 😡 jo layak hote https t co jZRe1L51rb ',\n",
              " 'RT Phanerookampala FURTHER STUDY Daniel Luke GOLDEN NUGGET Understand the times in which we are living child of God and p ',\n",
              " 'She me tmhra Kabhi Sath Nahi chodungi Me mtlb She Pubg me BHi khelti hun ',\n",
              " 'InspirationOfMillions Gurmeetramrahim Good evening guru g Bless us nd give us power Sewa Simran and Parmart https t co CRfyZSjYGB ',\n",
              " 'thecaravanindia hadd hai bhaisahab kuch to journalism kr lo be kab tk modi modi krte rhoge ',\n",
              " 'bhartiyenaaree Ar Y K RajivMessage RahulGandhi INCIndia BJP4India Band baaje waale ki khud ki baji ',\n",
              " 'milisilichilli Hindu hamesha sota hi h Bas asharam dyanand pandeynityanandgurmeet jaise Hindu babao ke rape k https t co jX6IbPfWtC ',\n",
              " 'Ramjan me islam valo ki chaddi tak ki checking ki jani chahiye usake liye central se bhi order lena pate to police https t co uah3nJ8Qfu ',\n",
              " 'preeti112019 Ghar ka TV bigad gaya hai din se Varna IndiaTV pe Modi ka Prachar sun leta Big miss is cricket world cup ',\n",
              " 'an a nd shikayat unse ki jaati hai jinse kuch expectations ho congress bjp to kisi ginti me hi nahi aate hamare https t co rMXJOohyR7 ',\n",
              " 'Happy bdday i Asif bhai Kafi late wish kia so sorry nd enjoy the rest of night ',\n",
              " 'RT cara1una ok well vote for which one u like best bc apparently the way i choose what colour im dying my hair is down to random people ',\n",
              " 'After some analysis of Loksabha Election Result Sambit patra is the bali ka bakra to demolish BJP as a anti-Musl https t co Z2u6rwapo4 ',\n",
              " 'Bhuvanbagga Insan ka vyaktiva uski soch ke madhyam se pata chalta hai rest u can understand najar aur najariya ',\n",
              " 'RT garg34048 Pita ji Gurmeetramrahim Good morning aj hmari family ke sbse youngest member ka birthday h pls us pr rehmat krna usko ek ',\n",
              " 'NorthDmc dcrohinizone Very very Thanks sir or ummid karta hu ki aap esko jarur solve karenge mai apko bar bar tha https t co rAwfeZnPdM ',\n",
              " 'SreeBasu84 listenshahid Bahut fikr haito khud kyu nhi aye funeral pe ',\n",
              " 'RT Alyahpmiranda Te juro que te perdono T O D O pero nunca me olvido de nada ni de lo que me hiciste ni de c mo me doli ',\n",
              " \"shwetzonly SanjeevKapoor Aoul ki chatni is mithila's best dish for me \",\n",
              " 'DubeyAbhayRofl dhurv tyagi ko delhi me kaat diya bhaat yadav ko mathura me kaat diya dr narang ko delhi ke vikashp https t co 5Inh91m7aw ',\n",
              " 'DesiStupides RahulGandhi Hmm sale tum jese log hi jese ghatna ko hawa dete ho so called secularism abb bhi https t co PKYBVr1M8H ',\n",
              " 'islamudinsajid Yeh wahan ke log hain per jo inko uksa rahy thy dono ab custody mai hain ',\n",
              " 'upcopsachin Is doctor k upar thappad ki brasat ho jaati tab haisiyat pta chal jaati is chutiya doctor ko ',\n",
              " 'SachinOpenInings sachin rt sir ne WC Me Soheb Aktar ki jo pitaai ka mood kese bana AskStar virendersehwag ',\n",
              " 'rssurjewala INCIndia Sir one month nahi kabhi bhi mat bhejana ye media hi hai jisane BJP ko jitaya hai Modiji https t co UYYiGDU1ND ',\n",
              " 'DrKumarVishwas mlkhattar Bc kutto hjar ki naukri krne vle thullo saale shrm aati h bc agr police na ho to hum jyda safe h ',\n",
              " 'kunalkamra88 Aree master of ch tiya tere hath me tha to tune Kiya bhi tha waha jake mgr sahi se kar nhi paya tab https t co DOY5NZKQS8 ',\n",
              " 'AE RI SAKHI MORE PIYA GHAR AAYE USTAD RASHID KHAN Sings Hazrat Amir Kh https t co VtmatG80YW via YouTube ',\n",
              " 'Aadiiroy To goya yeh khabees yardstick bun gaya Pakistani hukmarano ki popularity aur azmat ka na a aoozubillah ',\n",
              " 'zeroknowledge19 Bollyhungama anuragkashyap72 narendramodi Aur yei drama bi uski gandi dimag ka creation lagta h https t co Aq1hucllX9 ',\n",
              " 'Mere liye emoji 😚 meri zindagi 😍 sabki jaan good looking dukhi aatma 😏 Attitude 😙 mehfil ki jaan 😡 matlabi flirty https t co CBCpSl6COd ',\n",
              " \"NadiaTajwar OH SHEEAT YOU'RE WEARING THE SAME NICE BLUE HIJAAB ALLAHUMMA BAARIK and did your Tikka go tera on the same day as this \",\n",
              " 'Patriottopakist NaseerPMLNskt ShkhRasheed Pindi waloon ka kutta ',\n",
              " 'ok but if u r hyping my pic up in dms rn or at all really this is for u MUAH ',\n",
              " 'chanduk2010 SaahoOfficial ShraddhaKapoor sujeethsign UV Creations itsBhushanKumar TSeries Saare le ',\n",
              " \"RT Vaibhavi k28 GautamGambhir Kichad nahi failaya hai I don't think Delhi was in such a bad situation Arvind Kejriwal is a well edu \",\n",
              " 'Tinkableeblog Thank you Tinka 😍 You always make me cry Thank you for all these wonderful words and wishes ',\n",
              " 'varunvagish Hlo varun bhaiya hw r u hope r u well I watched ur all videos even I watching ur videos everyday b https t co kf76DfCffR ',\n",
              " 'zarhashemi Oh yeh zalim log banday jaye to kahan jaye Chalo good luck with the home made paratha home Made stuff is the best ',\n",
              " 'ValueTime ValueLife Gurmeetramrahim Singh ji insan Derasachasauda Pujya guru ji kehte h ki jo insan samya ki kad https t co Lsbwksp850 ',\n",
              " 'Saree has shackled women and burqa and hijaab are liberating women all over the world Waah madar zaat waah Kitn https t co sbKyDMY7Or ',\n",
              " 'WelfareAtItsBest Dera Sacha Sauda Gurmeetramrahim Pujya guru ji ki prerna par chalte hue dera anuyayi jaha insa https t co aDCsGXakLc ',\n",
              " 'FBDPolice police haryana cmohry Ye h police ka Asli chera Esleye logo ka visvas nhe h police pr Kya Thane me https t co v0T55Q7lIo ',\n",
              " 'best cheez evr Lol hell nah see u good I know u good ',\n",
              " 'hiiiii i like your pero gagi your layout and pfp ikennat lmao hahahha i love seeing your tweets on m https t co dQCpFtmVH2 ',\n",
              " 'GabbbarSingh Inka man nhi hai organised karne ka opening ceremony bhi chutiyapa thi ',\n",
              " 'Point to be notice is Department of space is under Modi ji Khoob jamega rang Jab mil baithenge yaar Modi cloud https t co TkIBwEMDMF ',\n",
              " 'Now playing Love N Hennessy Remix by A Chal feat chainz ',\n",
              " 'ModiLeDubega Pooja Her koi tumari tarh chor or lalachi nahi hota chara chor public ne tumari family ki akout bata di na ',\n",
              " 'shahzadsaleem30 vishal Abhinand ka to muh suja tha Tum jahilo ne to apne hi pilot ko mar diya anpad kahike https t co ZbJd7na5W9 ',\n",
              " 'Eid Mubarak Flat Off on Purchase Of Above Rs Use coupon Code KHADI20 Flat Off on Purchase Of Abo https t co zmlEPZMTXV ',\n",
              " 'Woh maheena jarha hai jiski har sham Eid hotti hai Last few days of ramadan ',\n",
              " 'Show some Love Shoutout to VizionaryJ for the intro and KARR KATCHEM for letting me use Rain as the song https t co hiaObSlAWA ',\n",
              " 'Daal ney laga main Cheekney lagi wo hua dard itna k seh nah sakhi wo Takleef hui itni boli bahar nikalo tmhai khu https t co J2WuU91Nrg ',\n",
              " 'kanpuriya Mujhe to bhayankar ho gaya hai 🙂 shayad ab mai sahi aur galat bhi samajhna nahi chahta Mujhe kisi https t co cS3VTzOp3Q ',\n",
              " 'Ra THORe narendramodi Wish you all the very best and do your best sir Namaskar ',\n",
              " 'Lagta hai ye AAP ka poll hai BJP Walon ka to the ulta tha https t co YApoeAllWu ',\n",
              " 'javerias Jab Kapra eejaad nahi hoova tha to Janwer ki Khaal hi Sardion me Jisam ko Sardi say bachanay kay waastay https t co p0ATcHdKyn ',\n",
              " 'papa has great super duper papa aaj bi dera sacha sauda m sari sangat wasie ki wasie hi aa rhi h koi kise k khne pr https t co nrliQzmDls ',\n",
              " \"RT drop0ut Can't wait to tweet Dil roo raha hy mera ye mera Pakistan hy \",\n",
              " 'BJP ki seat ane pr agle din GST registration free Jay MAA bharati https t co eLcDdB2Y90 ',\n",
              " 'PMOIndia narendramodi proud of you sir ji love you so much bus upper wala ek baar aap se milne ki tamanna pur https t co AElYxauLbl ',\n",
              " 'vese me zada bat NI krti Saadi ki koi bi ho baat ise related but sir apke liy Waheguru ji Sach me apke zese bhut ac https t co Rdari00JQ6 ',\n",
              " 'RubinaAfaque virenderbhati LambaAlka Mandir ki ghanti aur shankh bajane se justify nahi kar sakte aap Ki ye https t co biGVwh10Nn ',\n",
              " 'Peter PanBoy SupeeeeerStan and btw super love ko si Ashley Silang dalawa ni Tan kasi napaka pure nila hehe hi https tco E3BsbhHkBi ',\n",
              " 'mlkhattar What same for chotala Chor family members ',\n",
              " 'RT selvaraghavan Hi friends Here you go Hope you all enjoy it NGK NGKTrailer https t co HwC17CL8aK https t co mimgkxU6fe Sur ',\n",
              " 'ptshrikant chaukidarvikasD SubratPathak12 Sir bijali vibhag ke log nahi sunate h hamare yaha suriyawan power house pe ',\n",
              " 'Ravneet75163731 White sahi rehega skyblue ka koi bharosa nahi raha ab Woh baljit ki friend skyblue pehan ke hi ga https t co Fiiixxlo3K ',\n",
              " 'RahulGandhi that is very good decision media m Congress party debate nhi karegi ab dekhte dekhte h media kya kregi very good ',\n",
              " 'South Africa without Steyn be like hum Shareef keya hovey bangali badmash ban Gaye for Chase on CWC19 SAvBAN ',\n",
              " 'Ki Ibn Muljam ne himmat Lagaya Zarb Haider per Magar Muljam ke Kismet pe lagi Jo zarb ta Qayamat Koi mitta nahi https t co n56wXEgCny ',\n",
              " 'alok ajay Muh me ram bagal me chhuri bihar me samay se academic nahi chalne ka yahi karan to nahi Govt school https t co 8r47akI1Q3 ',\n",
              " \"sardesairajdeep Happy Birthday sir Hope you'll change your Hypocritical course to Unbiased course though I dont l https t co QJnYYyhPmf \",\n",
              " 'anjanaomkashyap feku ne sal jo wade me kiye the tumne kitne programm un wado pr kiye h jo wo kbhi pura hi n https t co QBZXvAeRmx ',\n",
              " 'RT tamanna khan19 Gundagardi ke liye ek dangai ko chuna gaya aur ye tab tak chalu rahega jab tak na ye ganda india Syria na ban jaye Bas ',\n",
              " 'One of those days when your skin is clear and glowing Haye kisi ki nazar na lag jaye Allah Eid se pehlay namoo https t co iOLYeIwAj3 ',\n",
              " 'meghara41735959 rssurjewala Nahi sudrega ye surjewala that s congress didn t even get opposition majority also ',\n",
              " 'KeshavKarn11 Leo Knock YogendraYadav Yadav ki bilkul baaiil buddhi hi rahegi ye to confirm hai ',\n",
              " 'His Khaleesi Mai Sorry nai Bolny wala kyun ky sorry bolna cheezain kharab krta hai Or Proud is liay ky tu jaa https t co Fda3c8BmBE ',\n",
              " 'keenmind Haien nai dekha hi she is writter too ask when she is online ',\n",
              " 'CMOfficeUP myogiadityanath Are baba ji pta hai aap itna pade nahi ho par ek bar ye pta kar lete is bar baarish ka https t co BV2u2BiXYc ',\n",
              " \"thewirehindi Bass ab bahut hogaya the wire aur print inka bhi kaam khatm liberando's ko hamare dharm parr gyan jh https t co 5wtlNk1SCq \",\n",
              " 'RT OttomanArchive The Eid Celebration at the Topkapi Palace in Istanbul at the Morning of Eid 1800s Topkap Saray nda Bayramla ma T re ',\n",
              " 'aajtak Itni bhi mat bik jaya karo ki tumhari akal par hi gobar char jaye Iss bayan me tumko kahase bharkav or v https t co ZDeSPjfmY7 ',\n",
              " 'StayAwayFromHypocrisy Gurmeetramrahim Good afternoon guru g Bless nd give us power Sewa Simran nd Parmarth https t co IU9TRxMItv ',\n",
              " \"I'm seeing don family kids I know in real life being acted like on netflix series now lmfaoooo a wah really a gwaan in life \",\n",
              " \"RT idasiasoco these r cute but h m accessories are overpriced and they tarnish fast they're also not recommended to people with sensi \",\n",
              " 'sunilbansalbjp sir Aap ki Kadi mehanat say Ye Mukaam Pradesh or Desh ko mila hai pranaam hai aapko Rajeev Mishra Maharaj BJP Uttar Pradesh ',\n",
              " 'TandonRaveena TarekFatah Jyada padhna likhna bhi problem he They are either fool or mad ',\n",
              " 'Fucking with low IQ girl Girl Is fookne se hum kya karenge Me Birthday banayenge aur kya ',\n",
              " 'zeerax26 NSPM5 JothisThankach1 santching Payal TheHindustani1 DrAtifAslam2 shashwatpandey https tco cHQm16jOvW ',\n",
              " 'BJP ne apni chunavi rotiya sek Lee ab aap log sirf bevkoofo ki tarah social media par ladte rhe saal tak Rastrv https t co wnZL4EjQ5R ',\n",
              " 'aajtak sardanarohit ye to sahi kiya congress or sp ne kyo ki logo pe behash hoti modi kya kaha gya rahul ne kya k https t co PSSva8FmAS ',\n",
              " 'MujeebS9 Giriftari di ni hai kutty wali halat banai thi PAK ARMY nai es ghaddar dawar ki ',\n",
              " 'waglenikhil KanchanGupta Gupta ji aap iss Bagule ke point ko nahi samajh payenge kyunki ye khud apne kaddu https t co AD4vHySMN4 ',\n",
              " 'vaish priyam SwetaSinghAT Itihaas gawaah he Murkho ki abadi badi hoti he Warna sati pratha ka wirodh krne https t co YFL9gSD7Ay ',\n",
              " 'aajtak arvindojha Ye saala bhaat mata ki jai kyu nahi bol sakta isne khud bola hai ki isne mana kiya ki nahi bo https t co mSEzlXuau5 ',\n",
              " 'Ye unn ch00tye bhikhmange paakistaaniyo ke liye jo indians ko illit rate bolte firte hain social media pe https t co f6JqfOayr9 ',\n",
              " 'RT 0212Neerajking TheGiftOfEducation Education is the right of every child but some are not able to educate them For this Dera Sacha Sa ',\n",
              " 'AqsaAnsari16 thestingysolace Are nahi nahi group ke liye he nahi bas Aapse bhi guftugu hoti rahegi issi bahane ',\n",
              " 'IRCTCofficial your super stupid security on user verify at every point made me miss tatkal booking Kindly hire a https t co ehmICGXZ3s ',\n",
              " 'Appako hamara desh ke grahamantri ke rupa me dekhane keliye hamaku anand milaraha hai cangratulation sir https t co bLpEPmMoRj ',\n",
              " 'KalpanaShrimal1 ShayarImran Jo Islam k naam p nirdosh ko maarte h unko Islam ki smjh hi ni h Islam kehta h agar https t co UoI5aWqKSO ',\n",
              " 'SAMBIT PATRAg sherryontopp Satyana12397423 Paaji sanyaas kb le rhe ho phle ye btao aur may ke bad aaj ugge ho https t co 8nhbqBIOpK ',\n",
              " 'I love Ambareesh Annaji I miss you Annaji https t co btbNu1Z1R7 ',\n",
              " 'manakgupta Feku aur ec ne milar desh ko ullu banaya aur aakdo me Hara phir karke khud ki government banai pata hai https t co 0HUSZr24M4 ',\n",
              " 'hibzsta smh they re just mad bc they re still fat knowing damn well if they were the one who lost weight theyd be https t co 8BDu0m7Deh ',\n",
              " 'Khud ki reedh me dum nhi Mujhe aur mere bachcho ko encounter karana chahte hain Buch k pahuch gayi to meri warna https t co ph50OGMUJT ',\n",
              " 'So sweet of you ana Bas ab Bangladesh semis tak pohoch jaye 😼 BCBtigers all the best CWC19 anannyasarwar https t co jcVRvefXom ',\n",
              " 'Sahi hai koi apna kyu kharab karna chahega https t co vMXrkoha6r ',\n",
              " 'narayandave8 Jaatiwaad Ko badhane k kaam BJP ne Kiya OBC Ko or Hazar jaati me todna cahte he Sarkari Sanstha Bana https t co sXrt8q0Frm ',\n",
              " 'Y ALL I JUST ORDERED A RECORD PLAYER AND RAB ON VINYL I FOUND IT FOR SO CHEAP AHHHH YES OMG ',\n",
              " 'AmatulM Koi Daleel inlogoun ke pas nahinGalian de ker samajhtey hein hum ISLAM phela rahey hein jubkey ISLAM ko B https t co DSJtWWCtRF ',\n",
              " 'RT Holyshnix Just hold on be strong and be healthy Justice will prevail Insha Allah We will be waiting for you ForvictoRi Love you ',\n",
              " '39sliar ben de dil secip su igrenc derslerden kurtulacagim gunu iple cekiyorum iste ',\n",
              " 'RT badwoodgirl rahmani boy Hackers Mein nhi kharid ti chudi 😪 ye gifts hein vo bhi phle ke ',\n",
              " 'Hum Congress jan apke sath hi https t co vaJtWr00bC ',\n",
              " 'Rajesh Satpute CNBC Awaaz hemant ghai AEHarshada pandyapradeep sensexbaba Can we buy at this level ',\n",
              " 'Mungu ni mwema tume amka salama Alhamdulilah ',\n",
              " 'RT induinsan00 Today we reached at Dera Sacha sauda Rajgarh salabtpura for sewa thanks pita g sewa pr bulane ke liye Gurmeetramrahim htt ',\n",
              " 'RmShazib MaryamNSharif Mulk ka Prime-Monkey tha protocol diya Iss na kaunsa padh mar kar fission process start kiya ',\n",
              " 'waglenikhil Nikhil apke hisab se jisko vote mile wahi PM hona chahiye bhai yahan democracy hai koe Rajtantra https t co 2TDmbKfzLV ',\n",
              " 'narendramodi shriman narendra modi ji me apse yeh kehta hun ki aap sabhi offices aur courts aur sabhi karyalayon k https t co dSMAeCdb7a ',\n",
              " \"PakCricketTeam TheRealPCB is just start guys don't give up be like a champions2017 Tum jeetoo ya haroo hume tum https t co ESL29mZEcO \",\n",
              " 'FreeDanmark bentpn TjekDet h jo det g r super godt for venstrefl jen at f danskere omintegreret til sharia https t co f9XQMm2J1U ',\n",
              " 'AcharyaPramodk Narsinghrao ko to fir puchha bhi nahi aur Maunmon singh ke kandhe pe bandook chalate rahe apne fayd https t co 5q2jfaSZxe ',\n",
              " 'No doubt Modi ne Indians ko Phir se ullu bana diya https t co Dsz59HbJIO ',\n",
              " 'Parang bata na pinagbigyan eh spoiled as always I love you https t co xLuPlUGoYQ ',\n",
              " 'ashsmile2k5 blue vein Thank god you didnt wrote fish Aapko ghaas phuss khila de denge ',\n",
              " 'Happy Birthday aadiivaasii May you live like a normal Indian citizen soon Wish you come of the tribes soon Ab https t co edavtS9qKP ',\n",
              " \"narendramodi Congratulations Modiji Mission welcomes you Let's make apane sapno ka Bharat Jo kabhi sabse s https t co nCVMk2hEHS \",\n",
              " 'Akhileshthakurs RajTiwa56444261 MamataOfficial Ye dusre desh sevayi hai malum padta hai mansik santulan bigad gaya hai iska ',\n",
              " 'RT Bollywood Tiger Jo Ahmedabad Kaa Error-Error Kar rahe hain Unko 5th June ko Video Photo ke Se Theater ke bahar kaa Craze ',\n",
              " 'Subhaan Allaah sisters one advice I would give you is to make duaa for hayaa ',\n",
              " 'narendramodi Modiji ki jeet hmari jeet hai Modiji please Hamare village m v aakar village walo ki problem sune A https t co G6gJH07hdo ',\n",
              " 'RT UriksFredrik Kim har henrettet de som skulle s rge for en god avtale mellom Nord-Korea og USA Her i Washington g r Pompeo og Bolton o ',\n",
              " 'RT mohnmera sardanarohit Congress ke Naare sab Fake thae Janata ko Ullu banana ke liye Naare banaye jaate thae Congress never used ',\n",
              " 'parvez kosar iamspeaks Quran mai kyu padhu waise hindu bam nahi fodte humare paas apna granth hai jo tumhare qur https t co UicKnPAty7 ',\n",
              " 'RT iHarshah What a song Lovely Congratulations Aparshakti tahira k for a blockbuster debut neetimohan18 what a voice s ',\n",
              " 'RT edgytal BleedBlue Jitega toh India hi LayegaTohKohliHi Worldcup India TeamIndia Worldcup2019 India Dhoni Kohli https t c ',\n",
              " 'Shinytracker I got another shiny pass shiny sorry for you bruh ',\n",
              " 'Well done saifu bhaya 😘 Humein tum se piyar hai https t co UE2g1jP7MQ ',\n",
              " 'republic My slogan is Hindu Jhakkas Baki Bakwaas Any problem ',\n",
              " 'IncBidar1 aurad taluka me congress party fund keun nahi diya gaya congress party ek na https t co jSwD4wJo4a ',\n",
              " 'chittu baba narendramodi hAr har mahadev Apki maa ganga apko yaad kar rahi hi UNse mil kar unka dhayawad karna https t co 2bhA9JvsSz ',\n",
              " 'shendageadi1996 prabhatkumar76 kanhaiyakumar Abye oye wakil ka jhaat sala jb itni bakchodi hai to chartsheet kah https t co BYDCkZKek2 ',\n",
              " 'SanaNaz50 look4rohit TarekFatah Inko pata hi nahi hai china ke kitne project pakistan ke sath chalrahe hain bech https t co gebV4C0Y3y ',\n",
              " \"rssurjewala Anti national just can't say pseudo nationalist All Dalali khane ki aadat aur ab dalali nahi milrahi hai \",\n",
              " 'RT reliancejio Ladka ladki hai raazi din mein hogi inki shaadi Call all your friends Pop some corn And watch this epic live-in t ',\n",
              " 'India waalo taiyaar ho jao Party ke liye Kiuki india world cup jeet rahi hai Sutron ke hawaale se khabar aai h https t co PwBR2VOQ3S ',\n",
              " 'RT LiesOfBJP vikasbha Ch Vikas Bhaduria apni naukri mereko dilade Kam se kam mujhr fake or Genuine News ka Antar to pata hai https ',\n",
              " 'DashSujit OpIndia com Narendra Modi naam rakhna ganga jamuna tahzeeb hai chutiye Dangaiyon par apne bache ka naa https t co 63YRv6Ruo4 ',\n",
              " 'RT Maitreyeechakr5 Modi ji isey apki sahara chahiye https t co LWqiVjV027 ',\n",
              " 'mystique Elf Exactly Kiya krin bs naam k musalman h Dosron pr tanqeed k ilawa r koi kaam ni ',\n",
              " 'Yahi kaam agar Muslim logon ke kisi group ne kiya hota to ab tk Terrorism ke charges ke under arrest kr liye gaye h https t co 1pHi340ck5 ',\n",
              " \"RT karachikhatmal Jo bhi hai there is literally no team in sports like this one You prepare for disappointment and think you're being sm \",\n",
              " \"Berozgar vets jam kamal In Jam kamal's this great initiative we are much obliged and hopeful We believe in this https t co zwsQjUjoAE \",\n",
              " 'Mas excited pako makuha yung skin kesa pasukan hahahaha ',\n",
              " 'RT faisalmushtaque So we shot down our own chopper killing our own men Sadly it is more than a blunder 😡 https t co duGlhShD1G ',\n",
              " 'SuparHero8 Badansi59019507 khan09815 KPadmaRani1 Sahidughradar Chal jhutey tu v majak bahut karta hai Koi s https t co DGgd4K48Tx ',\n",
              " 'Sadiyon se tujhse milne jiya beqaraar tha Jiya beqaraar tha aaj bhi hai Aur kal bhi rahega Yeh mast bahaar tumh https t co JA19gMgnX2 ',\n",
              " 'Happy birthday to you bhaiyaa hamesha Salamat rhy khush rhy Abad rhy apke Zindagi khushiyo s bhar Jai Ameen Sum https t co SSMEKITn0D ',\n",
              " 'bprerna Jai shri krishna Jai shri ram Ye desh hamara ghar hi hai Ghar me bol rahe hain gali me bolenge koi d https t co O85TpK5Dqr ',\n",
              " 'GautamGambhir Javedakhtarjadu RakeyshOmMehra Sir jab apko esa he bolna tha to aap congress join krte Jay shri RA https t co me203wRMPR ',\n",
              " 'UP me BJP ke aane vale Vidhansabha chunav me harne ke mukhya karan honge OBC ko scholarship nahi dena Vyapar https t co KWfINN5vR3 ',\n",
              " 'Congratulations SHADAA TRAILER ON TRENDING 😍 diljitdosanjh neerubajwa Tu c chaa gye fir to 😍 Dil khush krta hmesh https tco lHv5hJgv6U ',\n",
              " 'RT mr ali jan Me Sir I was waiting for you since morning OfficialDGISPR Beta yeh ap loggon ka payar hai ap pehly btaty me jaldi aa ',\n",
              " 'bombaytimes Yar kon hai ye Kitne gaane gaaye isne Bc media anti salman news jaroor bata dega chahe koi bhi bol de https t co kNv1deyy9j ',\n",
              " 'mamatafrustrated Anirban is not the Thekedar of Bengalis and likes of him are not the owners of Bengal So he shou https t co KCQ53lnG94 ',\n",
              " 'RT Saimakhan7777 Just days leftin Shah gee birthday Mazzzzyyyyy Bhai happy birthday in advance iqrarulhassan Khush ',\n",
              " 'Qalaei Very Good job Allah apko sehat dy r dosry logo ki madad krny ki himat dy ',\n",
              " 'Modi or amit shah ki jodi se tum desh ko bcha nahi sake Troli ke driver se itni baftamiji jar rahe ho https t co ofTf3Ttrvc ',\n",
              " 'tora cyrrell HAHAHA this is so me ',\n",
              " 'iraoumairrajput arreh itha sugharrr ab tw zrur dhundonga m phr parents ki meeting hogi or band baja bjy ga ',\n",
              " 'ImSarojSingh msisodia ArvindKejriwal AtishiAAP SanjayAzadSln arunodayprakash Such a lier you are saying https t co 9oqbPnrdSj ',\n",
              " 'JhaSanjay Aacha hua marr gaya Tere hi party wale sadak par gau hatya kar rahe the tab toh bahut dinge mar raha th https t co QF0jKIu6SH ',\n",
              " 'Ham sab aaj bahut khus hai aaj pm narendra modi ji dusari bar pm ka sapath lege ve apane imandari or bahumukhi vika https t co nJpvgVyp5V ',\n",
              " 'Bahar nikalna padega sadkon per uterna padega Jai hind jai bharat https t co QuhfY64yek ',\n",
              " 'TarekFatah MADAR CHODE DAGGAR DALLE jab teri maa ke yarun ne ARMY CAP pehni thee tab tere munh kisi SUWAR ne DA https t co q4MOKm1UFl ',\n",
              " 'Ghummans Abi american decide karay ha pakistan mai kya hona hai kya nahi Demagh kharab hai ye plastic journos https t co TOHjj1w94T ',\n",
              " 'RT SPSINGH77735062 Meri advice hai Cong ko Ek Poltikal Vastushastri hone ke nate Bus apna symbol correct kar lo Life brain n heart l ',\n",
              " 'If I call ya bhai bhenbruh bajibro sis then I love u and u r actually special to me ',\n",
              " 'sayantansunnyg I can empathize with you for watching Yaadein ',\n",
              " 'Dil ate tir biraz suyla s nd r lmesi m mk nd r T rnaklar n a nd ran zemedi in bu k r d md r vesselam ',\n",
              " \"Faixaltariq In se Achay to Angrezz hn Well Played Boys Kehte rhy Aur Yeh Laan'ti Upna Baghairat pana Show kar re \",\n",
              " 'ZeeNews Jo party desh k logo k sath h nahi khadi rehti unhe bhala kon vote dega ',\n",
              " 'Finally our Devi Ahilya Bai Holkar Airport became first International Airport of Madhya Pradesh It always seems im https t co BcxIqfnWJ6 ',\n",
              " 'sardanarohit Congress vale bjp ne joint hote to e tale ko e nai dikhta Kya Chala modi Godi media ka chamcha ',\n",
              " 'ianuragthakur Congratulations bhai G Abb hoga bhart Orr H P Ka development PayalDhiman13 Mubarak g apko bhuat bhuat ',\n",
              " 'iamtanveermir FatimahLove92 Nahin Lekan taray jaise bewaqoof fans hain so jeer May hi surf saath dayte hain team ka ',\n",
              " \"RT MBalde96 umanafs Ai Mallam ba'azoga Me zaka karanta a sallahn ba Wallahi wasun idan suna maka Alwala ko Sujuda ko Ruku'i La hawala \",\n",
              " 'KhattakMj Jo khan Yeh PTM wale saare hote he lofar aur badmash hn universties me chars aur larrai aur attan aur bus Parthe koi nahi ',\n",
              " 'ZeeNewsHindi ArvindKejriwal AamAadmiParty Public ko bevkoof samajh kar Balakot ka saboot nahi hai samjhane ki ko https t co C91LEseFcy ',\n",
              " 'Notorious believeinyousf EkAbhijeet Tu tention lena chod de akki ki Tu aone hakle ki tention le jiska carrier ktm ho chuka h ',\n",
              " 'Jai sri ram Jai ganga maiya Jai bajrangbali https t co 8H5k4LuAm7 ',\n",
              " 'Hiii omg I miss you so much You are one of my very best friends and I wouldn t trade that for the world You a https t co d0xREwaQfN ',\n",
              " 'DilSe GOLDEN HITS Mon-Fri 10am-1am Don t miss this wonderful bollywood musical journey of the s https t co YzonxYbZDF ',\n",
              " 'd SHADOWofDEATH igot10on10 Chal Saale Lund Fakeer Ke Dimag Mat Khaa Aur Doctor Se Check Krva Pishwaade Mai Ka https t co 5Ozo3n9CdA ',\n",
              " 'danishaliawan KDSindhi Exactly He is angry because he loves his team Varna gussa kyun nikalta Zahir si baat hai ',\n",
              " 'MamataOfficial Jay shree Raam we belongs from Hinduism Nd Ram bhagvan Is our biggest god he inspired many le https t co 4qylFAa5Jo ',\n",
              " 'RT sushilk97432169 RaviCha85517915 Ambedkarjine secularism shabdh constitutionmein Nahi dala tha reservation ko sirfh constitution bu ',\n",
              " 'ChaleAana song sung by me ArmaanMalik22 please if you have little time then watch this video Very beautiful son https t co IYLHxpLdnd ',\n",
              " 'Ye BBC hai Ye B BC hai https t co YMehFb4Vwm ',\n",
              " 'RSS manei BJP BJP manei RSS RSS manei BJP BJP maneI AGP AGP manei BJP BJP manei AGP AGP manei AASU AASU manei AGP A https t co mUcfuBgD4p ',\n",
              " 'IsbUniteed you said it absolutely right waqae pagal aadmi tha he filled his negativity and cowardes https t co nSjepL8qb1 ',\n",
              " 'Isne bhi meri tarah congress ko vote diya thaa phir may ki shaam iske saath ye haadsa hua sad https t co x48DAHtxbJ ',\n",
              " 'MirSahi13615940 ShanNayakk Haramzade hamare tukdo pe palta hai hamein aakh dikhata hai kutte tu pagal ho gaya https t co nRQ55gHy1h ',\n",
              " 'arnavsi72513552 Nehr who smruti ranjan b Ohh matlab congress aur bjp k kharab candidate harenge to kyon nahi kis https t co wvqwi8fcZp ',\n",
              " 'Hindi kamo free sample yung chips pero kinain pa din ni mama ',\n",
              " 'To my future wife Jahan bhi ho khush raho bohot hi jald milenge Aunty or uncle ko salam ',\n",
              " 'sevennty42 Ya galb elsemeya I love you more walla ',\n",
              " 'RT KattarSalmanioc i love hyderabadi accent so much hawle baata nakko karo miyyan Kya cheenkmar angar hai bhai woh Aag daaldi pa ',\n",
              " 'sherryontopp Sardarji Ab politics chhod ke world cup dekho chupchaap Hypocrisy ki hudd hai ',\n",
              " 'Daaru bhi band karo sir https t co znCKKvrncq ',\n",
              " 'Don t let your hearts be troubled Trust in God and trust also in me There is more than enou https t co IDO1onLtNx ',\n",
              " 'In last line Arora ji told TheQuint Wo data Hum de rahe hain Yadi nahi diye to bhi kya ukhad loge Kyunki Ab Mo https t co xyaLk8g3Al ',\n",
              " 'SudarshanNewsTV PoliceRajasthan Tu janwar hai kutte ki sakal k teko sirf hindu Muslim krna aata hai bas warna ter https t co 4ZD9lpSANi ',\n",
              " 'RT abipude grabe ka fucked up gyud sa balaod uy clearly wala may sala bus driver hinay iyang padagan ning counter flow ang sakyanan ex ',\n",
              " 'ImranKhanPTI Ghabrana Nahi World Cup mein bhe West Indies ne toss jeet kar Pakistan ko batting karwai thee CWC2019 PAKvWI ',\n",
              " 'INCSCDept myogiadityanath Uppolice Abe suwar ki olad puri baat likh ye mandir m meet kha rahe the sale ',\n",
              " 'MoHFW INDIA drharshvardhan PIB India NITIAayog Badiya badiyan mubarakaan May we continue our initiative to mak https t co QKmPE6npbQ ',\n",
              " 'RT SonyMusicSouth TOMORROW is the day we all have been waiting for The expertise of Suriya offl meets the finesse of selvaraghavan in ',\n",
              " 'Yeh NDA ka Sapath Grahan Samaroh na ho kar Ministry Ka Exit Poll Ho gaya jsise hi lagta hai Jiska Tukka https t co 5vHeYdEOr7 ',\n",
              " 'nirbhaisingh07 ANI Election k time pr dusre politicion or tum log jagte ho bas Ye to hamesha aise hi ladte hai ',\n",
              " 'RT ChrisEvans Happy Valentine s Day from this pair of dysfunctional codependents https t co 8rzRkLKmFr ',\n",
              " 'May nangyari na ba sa inyo ni Papa Dax Anong klaseng tanong yan Syempre WALA REQUIRED BA SA MAGKAIBIGAN YON https t co FcOYCzYSEK ',\n",
              " 'adam fakrullahh Nak tumpang heli aku dok warna kuning ',\n",
              " 'narendramodi Modi ji aapko jeet ki badhai but hamare ghazipur ke vikas purush manoj sinha ji bhale hi haar rahe h https t co bnpw3JDNc9 ',\n",
              " 'RT divyavasusharma VoiceofDogras My great grandfather pt mehanga ram Ji was girdawar at gilgit till the time of partition He served for ',\n",
              " '0ye na kr Apni mble wali maa ko chor Or ghr walon ko b Munh laga le kbi mar jayega is k chkr mn ',\n",
              " 'MlaGorakhnath BJP4India BJP4UP BJP4Delhi myogiadityanath sunilbansalbjp AmitShah DrMNPandeyMP Jai Ho vidhayak ji very nice work ',\n",
              " 'Kuch chutye to iss movie ki news sunke SRK ko tk troll krne pe utar gye wow what a madarchod fans Ye log ka fanis https t co feslV3NTS8 ',\n",
              " \"RT Vedaant52277338 LambaAlka Yes it's really Aap log dekhate rah gaye Modi Ji again PM ban gaye \",\n",
              " 'Dua Hai is Mubarak Din ke Sadke aapki Har pareshani aur Har musibat Dur Ho Jaye Ramadan mubarak Ameen https t co T6a3OmECt5 ',\n",
              " 'nooffence98 Apse asy quote ki ummed nh thi emaan sbka ak hai or rozay b sb rkhty hein celeb hein wo janwar nhe ',\n",
              " 'DavaraTumblr Arre sachi yeh khdu ko thoda advice kyun nahi deta Ullu when it cems to himself adn Nanuko bh https t co a3HesvWK3g ',\n",
              " 'LazyTown666 omg miss yu already 😭 just smoke all the time hahah ',\n",
              " 'prahladspatel patel pushplata pushpendra bjp Apko aneko anek subhkamnaye Hamsabhi damohvasio Ko Garv hai https t co RykxQCQoWe ',\n",
              " 'RT StocksResearch appadappajappa AvaniPare Tumko kya hai behen Tum no ones dulhan likh lena Baaki suraj ki dulhan ki Marzi hai wo jo ',\n",
              " 'sardanarohit aajtak aroonpurie Rohit jab tere jese bhadve patrakar banke bjp ke talve chatate hai to bahiskar ho https t co 0kpDa5L9Ii ',\n",
              " 'MamataOfficial Jai bangala jai hind khub kahe par ram toh hamre rome rome hai ant mei jai shri ram jarur kah https t co t9TgEF9fIM ',\n",
              " 'RT AwaraKhalnayak kamaalrkhan Sir Ji From Bollywood very few actors were called for Modi Ji swearing ceremony One was Shahid Kapoor an ',\n",
              " 'Yeh pubg Wale v na bohot chutiya hain 😠 pehele to Elite Pass k liye Paise Khich leta Hain bad main majdur k tarha m https t co wYLJKn3mSX ',\n",
              " 'Media is become blind Ab media ko sunane ki jaroorat nahi Radio pe bbc news suniye Aur apne mind ko fresh rakhiye ',\n",
              " 'Hussain NSharif Pakistan ao na Haram ki olaad hoti ha wo jo maa k marne par nhi ati Baap ko jail hui nhi aye https t co EGSvEAGkJ3 ',\n",
              " 'zainabsikander Zainab Aapa Islam mein saaf saaf likha h k apne mulk se mohabbat kro and Maulana apko deen Islam https t co 2K6zQpPADG ',\n",
              " 'KoThotchi You always call big spoon Not ghat I mind though I just inew you wrre gonna say that Predicatable and adorable ',\n",
              " 'RT imVkohli Hey guys I m super excited to announce that Mobile Premier League is now the Number Gaming App in India Ab har gully s ',\n",
              " 'Kewal RJd hi nahi sare pratipakshi ko yedi majbut hona hai to jativad tatha parivad bad se alag chalna hoga varna a https t co G9kot7lJpm ',\n",
              " 'A special way for him to say I miss you Uwuuuu ',\n",
              " 'RT MayawatiRofl Tarun Khannaa vivek web ambedkariteIND Parlo Tweets Knha piche chod aye Angreji ne mar mar kr piche chudwayi hai ',\n",
              " \"Happy Morning Have A Beautiful Lovely Cheerful Colourful Day My Sweetest Friend's https t co UFIuQfVRws \",\n",
              " 'kings man Bismillah Wish me luck Thank u kings man udh bagi GIVEAWAY dibulan ramadhan dan penuh berkah https t co Bg201mxrtT ',\n",
              " 'gha mja bless my timeline with more of ur beautiful art please ',\n",
              " 'Zizou540 Chaliye shukr hai Is duniya me koi to aisa shaqs hai jo zer zabar pesh ko use karta hai Warna sabne urdu https t co vnNpl6nVs4 ',\n",
              " 'Bhot si jimedaarian hai saahb desh ki yu sarkar bnaane bhr se desh nhi chlte Iss desh me aashaRam Ram Raheem https t co LvX7PVQefN ',\n",
              " 'cricketworldcup Bhai world cup one day hai ya text match ab tak ka sbse boring lowest score world cup ',\n",
              " \"KapilSharmaK9 awesome episode Sudesh jiii what a talent hat's off to you sir haanjichandan Krushna KAS amazi https t co JqRv8ULP5H \",\n",
              " 'RT CHANBAEK FAMILY Location Kahe Point Free https ',\n",
              " 'Ghr ke he bat thi ghr baith kr he kr lete itna drama krne ke kya jrurat thi https t co VoSPpVRb8U ',\n",
              " 'RT KennyEazyy God told me to tell y all The best is yet to come when you glow you gonna shine ',\n",
              " 'too early to explore space too late to explore earthperfect to be stuck in bangalore traffic pa c Badhiya bola hukum ',\n",
              " 'Faiyazh37 IndiaToday asadowaisi DGP MP Congress bhi koi doodh ki dhuli nahi hai congress and BJP ak hi sikke ke do pahlu hai ',\n",
              " 'No one in this world think about handicapped persons bt Saint Dr GurmeetRamRahim Singh ji insan is the only person https t co KvFplOzaym ',\n",
              " 'AdityaRajKaul SushmaSwaraj ji jaise minister koee nahi tha koee nahi hai aur ho payega She has endearment https t co GXcLCVhinu ',\n",
              " 'narendramodi sir congratulations Modi sir aapki chowkidari rang lai ab mukhiya ban Kar desh ko zagmga de yahi aap https t co JVciiIT6UO ',\n",
              " 'Nishantk IND abpnewshindi Aao yaar Jaldi aao Ab mp bhi le jao https t co KE7R0OkfFP ',\n",
              " 'HAPPY BIRTHDAY TO YOU My DEAR SiR soomrokk Sahib Allah Pak hmesha khush Abad Rakhe apko Ameen https t co o5IFt5l1Y1 ',\n",
              " 'Yeh jo dunia v zindagi hai bht ajeeb hai tum us ka peechy bhagty jo tumse bhagta hai Tum usse bhgty ho jo tumhr https t co Fgrz35y62h ',\n",
              " 'RT anum penwala Jawab dena hamai b ata hai lakin yeh bth hai tarbiyat ki Yeh bhi yaad rakhana hum btain Bhool jaingy lekin Lehja nhi ',\n",
              " 'RT Tweeti sweety0 saal ki bacchi ke dreams jab wo relationship me hoti hai Chota sa ghar Paise nhi bas pyaar ho Wo bf nh ',\n",
              " 'nen vist bolest vztek smutek zmatek osam lost beznad j a nakonec jen klid Asi takhle vypad m j life ',\n",
              " 'RT fezziwig2008 I m a practicing EyeMD-prescribe every dry eye drop on the market because no one works well-attended the AAO Ann mtg when ',\n",
              " 'Let me help you fix your goal nahh i m good https t co 5Rhk4L0LFo ',\n",
              " 'aajtak Abhishe55659116 MamataOfficial Janta ki kshyamta hai mamta bhi degi Aur janta nahi hai to ghanta hi degi https t co hPuNrRmlIP ',\n",
              " 'dr vismay PMOIndia narendramodi I was invited par hamare yaha aaj JCB ki khudaai chal rahi hai isliye nahi gaya ',\n",
              " 'RT notorious heart Bharat ki Aan Baan aur Shaan SalmanKhan 😎 Full house advance tickts full theatre booking bulk booking n ',\n",
              " 'RT VVVinayakOnline Wow this kid knows how to act natural So Cute 😍 Super chinna https t co ZEJA8HNKKU ',\n",
              " 'we love the Aesthetic Sadness of making a sad face out of ur own tears hahahhah https t co yjh2XBsxOt ',\n",
              " 'Peacef Warrior Bhai competition aur jalan bhi koi cheez hoti hai ki nahi Waise iss case mein chidd swabhavik hai ',\n",
              " \"RT shahedahmed Today is the last Jumma of Ramadan Lailatul Qadr An odd numbered night 27th It's a special day pray and read \",\n",
              " 'trinimarn Ree la la trinibeachboy90 My heartfelt condolences ',\n",
              " 'kunalkamra88 Terese jyada koi relevance ki bheek nahi maangta Teri jalti hai kyunki usko Terese jyada relevance https t co hJddg3lj51 ',\n",
              " 'iabihax shahveerjaay You better eat your food chupchaap PAGAL ',\n",
              " 'you love to embarrass me like this im never forgiving you ever zaleel o ruswa kardiya hai humien kanjaron https t co yq1PVKXFMJ ',\n",
              " 'News18India Mere tamaam hindustani behen bhaiyon ye tumhare imaan ke imtehaan ka waqt hai dagmagana nahi apne imaa https t co ypQhzNPu7h ',\n",
              " 'Allah My Lord forgive us Receive us our repentance Bless us on this beautiful month Accept our fast and ibadat ',\n",
              " 'nitin gadkari MUMBAI KE BORIWALI RTO ME EK BHI KAM NAHI HORAHA HAY JAB JAO TAB BOLTE HAY NETWARK NAHI HI PEPAR https t co qmqxVLiB6o ',\n",
              " 'QayyumReports Is nasb ke waja say waisay wo ehtesab say maawra hain Just saying regardless he is guilty or not ',\n",
              " 'SrBachchan Sir u r looking so smart Bachpan k pic me bhi ap kitne cute lg rhe ho ',\n",
              " 'sardanarohit Sahi kiye kyuki tumhare jaise chamche BJP ke favour me bolte hai Din raat hindu muslim ke show chala https t co Vc53QDjmyB ',\n",
              " \"RT jxpooja Dilli aa jaayein We'll hv u chkd at our Mohalla clinic https t co zx7mUEsRLE \",\n",
              " 'MixedRaita Gunde saale Ac hall me baith k Mt bhonk be YogendraYadav aukat h to Gurgaon k kisi ek bnde ka c https t co aitb2VeuZl ',\n",
              " 'makin a bear sona for my bestie really liking the sketch so far I m scared to line color it now lol https t co 9ICo7Py5XC ',\n",
              " 'RT AskAnshul Election Misa Bharti Lost Prakash Ambedkar Lost Prakash Raj Lost Kanhaiya Lost Urmila Lost Sha ',\n",
              " 'hazar so rupee rupees per head after spendings millions on the centers Bas kardo ye technology ka https t co 6S28DYcrSa ',\n",
              " \"JazzCash what a stupid ass app fucking piece of shit jitna paisa lot'te ho app pe lga dena tha thoda \",\n",
              " 'abhi O mega Last month ki apnay media news or programe nikal lo jis main pakistan pakistan or sirf pakistan hi d https t co nHl0FgW4EA ',\n",
              " 'ravishndtv sir aap bolte ho aapko bjp wale respond nahi kartekoi pravkata aapk show me nahi bhejte or ye dekhiye https t co OL3uIf9eHf ',\n",
              " \"VVASI45 Ik hmari team mein potential h bs wqt kxh axha nhi chl rha pr we'll bounce back strong IA \",\n",
              " \"RT HutZero HutZero is coming 😆 If you're interested in cybersecurity and have the drive to start your own biz this is for you days \",\n",
              " 'Payal Rohatgi Aap Anty Muslim ho jbke phr to seniors actors Jo Muslims Hain unki b izzat nahi krti ho mtlb Salman https t co YHoExeTZHH ',\n",
              " 'ashutosh83B dalle tere Jess k twit jo javab diya kyuki tum dallo ki politics GautamGambhir sir ko samaj nahi aai https t co sQtCCuwEFW ',\n",
              " 'Modi ji ko lakh lakh karood karood mubarak jamal ali karbalaie kashmiri ki taraf sa dildaar modi gamkhar modi imand https t co c5A7KVxsyw ',\n",
              " 'https t co VtdW6uvZU3 Rahul ji ap kripya karke Congress ko chor kar mat jaiye Apki bohot zarurat hai BJP ko RahulGandhi ',\n",
              " 'Best G d M rning Sohne Satguru Gurmeetramrahim ji Pitaji bless us with more Sewa Sumiran parmarth Aap ji hum https t co NXf1LMitxd ',\n",
              " 'ashokgehlot51 Very good is se smaj ka sudhar hoga sir ',\n",
              " 'AmitShah Gaya ke log kitano bar BJP Ko jitaya par koi hai jo Gaya ke liye kam karta ho Yaha na hi a6a hospital na https t co 1n5lYd0yO0 ',\n",
              " 'narendramodi Apne desh ke sainik joh duty ke dauraan Shahid ho jate hai unke family ke liye aap ko ek free makan https t co bKenCnvZSG ',\n",
              " 'RT ashsmile2k5 Imperfectdevi Odh le chunariya Haaaye One of my fav song ',\n",
              " 'Congratulations sir PMOIndia umeed hai aap anney walley saal mein desh ko greebi se nikalkar trakki ke shikhar https t co 0bjCKXywur ',\n",
              " 'Birinin haks z oldugunu bile bile s rf inad n z y z nden o insan savunmakacizlik degilde ne ',\n",
              " 'Kathrin bridges May i ask what happened wit you logo ko hnsanay wali aaj khud udas hai kyu jnab ',\n",
              " 'hanif2355 Chor ko izat do G han pakistan k sb se baray chor nawaz sharif ko choriya karnay pr izzat do welldone https t co 40EyPsuWVr ',\n",
              " 'Aciel1219 i love you so much more bubba ',\n",
              " 'Mithoon11 Bahot Dino Baad Aapka SongMila Hai Sunne Ko Thnks Mithoon11 sir ',\n",
              " 'faizanlakhani BC ko itna to pata nahi konsa bolwer kab lagana ye come back krwaye ga Wo lefties bejhy jarhy thay https t co abAWxqvlvS ',\n",
              " 'RT ladybrockhard Jake Wiley14 good luck bud go be great and know we will be rootin for you all the way ',\n",
              " 'RT swwapniljoshi Suppa congrats brother Loads of love Chaate Raho avikaul proud of u https t co 3iDdLQxLxo ',\n",
              " 'RT Aakashhassan Congrats AneesZargar and your exceptionally talented team mehakzubair1 mirchivijdan Mirchi Rafia and others Keep d ',\n",
              " 'TajinderBagga MamataOfficial Muje pehlai hee pata tha ki yeh mamta India kai liye kuch acha hota nahi daikh sacti ',\n",
              " 'A himat waley tuj pe hai nighain Dil Jeet K aa Dil Jeet K aaa iamamirofficial PAKvWI https t co T5c15wLcDY ',\n",
              " 'SushmaSwaraj Madam aapne jo desh hit m kam kiya m us ke liye aapko dill se badhai deta hu or aap ke behtar swasth https t co 0rjDQ6O7OT ',\n",
              " 'RT AyegaHi ReeperSolitary kshukla778 guna twitz TamilachiTNadu Panwar Ka Var Dev sun iamsadmad anandraaj07 davidfrawleyved BJP ',\n",
              " 'mujhykya Dominated by accident I disliked it cuz I love my surname bachpan sy ',\n",
              " 'Great Afridi Aapko pata hai mein ne subah bhi Aapko tweets kiay thy Hv u seen my all tweets SAfridiOfficial ',\n",
              " 'more days till I see my baby Love you gabriellerule https t co SrjhulEVZV ',\n",
              " 'sggenios997 ABdeVilliers17 OfficialCSA cricketworldcup Sun be madharchod Teri ma ka bhosda Randi ke Teri maa k https t co cs5MwipCPL ',\n",
              " 'rjraunac Dekh bhai ImranKhanPTI subhkamnaye apni jagah par modi ji se jayda narmi ki umeed mat rkhna Ghr me gh https t co E11SobtBbQ ',\n",
              " 'RT OnlineVijayFC Here we go Dear ThalapathyVijay Bloods We are Happy to Share That Our Handle Name is Changed as OnlineVijayFC ',\n",
              " 'ndtv This of course is a case of personal enmity and not a hate crime Abhi toh sirf Congress aur Gandhis ko d https t co Orbb9O9VOk ',\n",
              " 'smritiirani PiyushGoyal Smritiji zabardast pradarshan aap ka fan ho gaya bus ab 5sal aisa kam Kije https t co rtbn2zGY28 ',\n",
              " 'Jay Bajrang Bali https t co Df2w04GIKi ',\n",
              " 'AbbassFr Budget tu pass ho jaye ga Har baar ki tarah rola dalag ga aur budget ki voting sey kuch deir pehlay opp https t co craW4O8zEh ',\n",
              " 'hina slays Sushmita231022 Shreya HCL saleha xo khojJaarihai kadibatarka IamSinghaniya Sapno mein milega aisa ladka ',\n",
              " 'RT kuldeepbohra World cup hmara hai dalermehndi paji mja aagya tusi great ho awesome theme song for world cup https t co 4OnR98w3om ',\n",
              " 'RT HinaKhaanPTI And aaj Maine aftari Mai Hina love Humanity sandwiches banaye HlHForever https t co Vie2jXmz8d ',\n",
              " 'Kranti in samaj ke logo ne layi Jo kabhi nahi bike na juke vahi samaj ka sacha masiha hai https t co P07x6LJqvv ',\n",
              " 'RT abnormal bachii Teacher Bade hoke Kya banoge Student Actor Teacher Wo Kyun Student because mujhe politician banna hai ',\n",
              " 'RT sqbans 75sabiha Congrats aapi 😍 for 11K followers 😊 Allah kare jis trah ap yhan achi batein bta rahi usi trah Allah apko or h ',\n",
              " 'INCMP Jab Bhaarat aage nikla tab to tmlogo me se kisi tweet nahi kiya baddimaag pehle se the yaa ab Raga ke aan https t co Na7olaw34g ',\n",
              " 'ibhupendra PCsTinkerbell Uska bahut kuch nikalne ko ready rehta hai waise but yes I m ready to love hate KJo al https t co akDb3G4D46 ',\n",
              " 'RT not ur type DkMasahallah786 Ameena Ye koi fake ac h muslimo ke khilaf sari tweet kr rkhi h is jahil aurat ne muslman hoti to ',\n",
              " 'RT SuriyaFansTeam Official NGK Crore Approximately On First Day Breaks Suriya Offl s Anjaan Record Of Highest Day Collect ',\n",
              " 'vsurywanshi87 Atheist Krishna bhai Is garib ki madaad karo iski izaat ab apke haath me hai Isko aapki c https t co uN8nHlcPB8 ',\n",
              " 'sardanarohit rule breaker ko saja to hogi jo koi bhi ho rahul ghandhi or avdhesh dube rules for follow not for break ',\n",
              " 'chitraaum Neerupam rassi jal gayi lekin abhi bal nahi gaya ab to maan le saale congressi ki mera panja kat chuka https t co dv7c9Co2gj ',\n",
              " 'RT sandy DD7 YasirMu15207826 aaliaaaliya Harane ko tayar ho jao har koi bhi nahi jitne de raha pak ko Afghanistan ne bhi practice ',\n",
              " 'Mm92592004 Bangladesh se kab aaya mugla ke haram ki aulad bata na saale kurta lagana bandh kar diya jab se g https t co 7LPFx8Dk1t ',\n",
              " 'Kyu Karte Hain Aise Log tweet karne waali ladkiyo ne aksar apne Suraj ka naam khud apni body par tattoo kara rakh https t co TncDzpsGyh ',\n",
              " 'Lucknowtwit Sala sikke ka ek hi pehlu dikhati he media sala sadhvi ko kisne vote diya uske bareme kyu ku6 nahi k https t co CCFcBroF31 ',\n",
              " 'This was my mom when I was in middle high school This is no longer my mom Now she is HAPPY for me having my gam https t co LZFSKLUycq ',\n",
              " 'vikasspandey lncMohitJain You are absolutely right The great Rahul gandhi is hope of people He is best in all https t co geGLkoNn4q ',\n",
              " 'Modi ji ye galat he aap ne sushma ji ko mantri pad nahi diya videsh mantri je tor pr sushma ji sabse best option he https t co B8P7nyw3iT ',\n",
              " 'JaiShreeRam90 Pure desh me ghum rahe hain aur gintee kar rahe hain ki kitne ahiro ne backward se gaddari kar ke https t co 9UWpoQwtJv ',\n",
              " \"Kannadathi6 Actor Siddharth How dumb are you Dude you think I'm not a Hindu By religion I'm a Hindu too And I https t co 8QrvTq9kQu \",\n",
              " 'offl Lawrence akshaykumar Best of luck brother Project la illa nu sonna udane feel ah irunthuchu Now super https t co u780CnP2w1 ',\n",
              " 'Good Morning Guru Pita Gurmeetramrahim ji Dhan dhan satguru tera hi aasra Pita ji I need Your pious Bl https t co cNZw8umULB ',\n",
              " 'ppbajpai Tu bhi istifa dey dey Chutiye Toonay bhi apna exit pole diya tha jo tere pichhwade mein ghus gaya https t co 7RF3QPWZ98 ',\n",
              " 'NalotSunil Spirituality is not dangerous it is very simple gar samjh ke implement kiya to 😊 ',\n",
              " 'BBCHindi me BJP ko wb me bahumat nahi mila isliye Tmc ke MLA ko BJP khareed rahi hai ',\n",
              " 'pennecettefege YELLS FUUCKK YPUU FUCK YOU BI BITES YOU AAAG FUCICJJSJ DONT DEEZ NUTZ M ',\n",
              " 'FairyTaleMindy arpiaaaa Looool This reply is the best ',\n",
              " 'peachy army18 fama here Merja pencho Usne opinion dia apna bakwas kerne ki zarorat nai ',\n",
              " 'Andrew Gee I love both your moms I m so scared to click this lmao ',\n",
              " 'That0neRapunzel BeingDabangg4 baba paradox Boss demand aapki jyda h hamse https t co bg4cCFhis1 ',\n",
              " 'ranazee122 Bilkul we are with safy bhai in sha ALLAH hum come back karaingay zrur ',\n",
              " 'RT Lalsinghyadav51 Dinbhar bus Congress ko hi Tenshion Sarkar na Gir Jaye AmitShah KailashOnline https t co M9EYFjeOgQ ',\n",
              " 'RT SRKUniverse Andaaz mera sabse juda main baadshahon ka Baadshah True lyrics https t co T6CtjeReR4 ',\n",
              " 'zainabsikander Saala jhootadaga baaz neta haikursi hi iska deen aur imaan haiisne jaise Laloo ko dhoka diya thh https t co th44eO1Y8G ',\n",
              " 'ImBishwaJT LokeshKolamala imistusneha96 GargaC Aise chu logo ko footage mat diya kro bhai Abhi loksabha haarne ka sadme mai hai bechare ',\n",
              " 'RT NaqibullahTari1 Terrorist army of Pakistan ghadar tum khud hay tumhara bap ghadar tu ekk najayez harami awlad hay Angraiz ka Death to ',\n",
              " 'Me uploads my pic My friend comments on it bhai bohot funny hai meri to gaand fatt gayi haste haste Me bhai to muh se hasle na ',\n",
              " 'KemranAhmed1 GandapurPAT GFarooqi Tu phir inn police waalon ko saza se kyun bachay gya Wahan police k jaanay ki https t co 1vQ2XzZzcq ',\n",
              " 'Syedakanwal Blkul nai Just want to kill my narm dili for them selfish people bas jinhe srf dusro se apna faida nikalwana ata hai ',\n",
              " 'sardanarohit Ajj to BJP se invitation aya hoga sir ji jao BJP ki gao jake ',\n",
              " 'SanaKha49353664 WaseemBadami Yes it is soooooo amazing Bacho ki bhut achi tarbiyat ho rahi he apke program ke zarye ',\n",
              " 'Good morning my almighty Gurmeetramrahim papa ji Plz bless me more sewa sumiran parmarth ka b https t co CljSYqaNde ',\n",
              " 'SushmaSwaraj Great mam Apke jaisa koi kam nahi kar sakta mam ap turant action leti hai mam other country me bhi https t co F164gbvn7e ',\n",
              " 'RT ActorDhanushFc Raja Anna bdy celebration Photos Celebration with VETRIMAARAN sir Velraj Sir Peter Asuran Final Schedule d ',\n",
              " 'Tebli a s ndan dikkat ekici bir proje slama inanlar b r d nyada bekleyen d lleri g stererek cezbedece iz ',\n",
              " 'PAR DEBATE AAPKI BENGAL ME JAI SHREE RAM PAR HO RHI H KABHI IS PAR BHI DHYAN DE LIJIYE GUPTA JI https t co 8A0zI2s1ZB ',\n",
              " 'TarekFatah Chup be bhadwe tu tere baap ki chaatukari kar ta rahega Its a traditional dress of Pakistan Teri gaand kyon itni jali ',\n",
              " 'RSHU101 dinavishwakarm1 joy samuel79 AgarwallNikitta aliaa08 karanjohar Haramzadi Dono kutte khud ko vishwa sundri samajh te hai ',\n",
              " 'angeljhali111 Tum khilati gyi o khelta gya mager har tumhari hoyi badi dukh ki baat pehle sadi bad me piyar a https t co buAhAXcfI6 ',\n",
              " 'Miss Ziddi110 kiranyadav RubikaLiyaquat Ji mai aapki baat se sehmat hu Sirf aur sirf Allah hi hidayat dene https t co UiluG4ZbgN ',\n",
              " 'itsallryt Aur jitegi likhna rah gaya ya 2nd number pe after BJP ',\n",
              " 'RT shiwangi insan G D Morning Guru Pita Gurmeetramrahim Ji Dhan dhan satguru tera hi aasra Today is my 4th exam advertis ',\n",
              " 'REWSTYLErew mxlleembrouille baayfaal192 Walaaahi maane diayaant wouma Begn bgg nama baayi maa libre Waxaal ak mom ',\n",
              " ...]"
            ]
          },
          "metadata": {
            "tags": []
          },
          "execution_count": 20
        }
      ]
    },
    {
      "cell_type": "code",
      "metadata": {
        "id": "HT5bW-IltYY3",
        "colab_type": "code",
        "outputId": "2ec9cb23-d2ce-461a-b008-09536bbda5c1",
        "colab": {
          "base_uri": "https://localhost:8080/",
          "height": 109
        }
      },
      "source": [
        "X_train_arr[:5]"
      ],
      "execution_count": 21,
      "outputs": [
        {
          "output_type": "execute_result",
          "data": {
            "text/plain": [
              "['AdilNisarButt pakistan ka ghra tauq he Pakistan Israel ko tasleem nahein kerta Isko Palestine kehta he OCCUPIED PALESTINE ',\n",
              " 'Madarchod mulle ye mathura me Nahi dikha tha jab mullo ne Hindu ko iss liye mara ki vo lasse ki paise mag liye the https t co oxf8tr3bly ',\n",
              " 'narendramodi Manya Pradhan Mantri mahoday Shriman Narendra Modi ji Pradhanmantri banne par Hardik Badhai tahe Dil https t co pRnoMsKkn1 ',\n",
              " 'Atheist Krishna Jcb full trend me chal rahi aa ',\n",
              " 'AbhisharSharma RavishKumarBlog Loksabha me janta sirf modi ko vote de rahi thi na ki kisi MP or BJP ko without m https t co sHtBWCB7FM ']"
            ]
          },
          "metadata": {
            "tags": []
          },
          "execution_count": 21
        }
      ]
    },
    {
      "cell_type": "code",
      "metadata": {
        "id": "euee_BRFt9se",
        "colab_type": "code",
        "outputId": "5f2f8084-5407-4325-e6b8-9c377186f494",
        "colab": {
          "base_uri": "https://localhost:8080/",
          "height": 35
        }
      },
      "source": [
        "Y_train_arr[:5]"
      ],
      "execution_count": 22,
      "outputs": [
        {
          "output_type": "execute_result",
          "data": {
            "text/plain": [
              "['negative', 'negative', 'positive', 'positive', 'positive']"
            ]
          },
          "metadata": {
            "tags": []
          },
          "execution_count": 22
        }
      ]
    },
    {
      "cell_type": "code",
      "metadata": {
        "id": "xR09ku1MufRB",
        "colab_type": "code",
        "outputId": "e6022820-2f65-4835-8730-11bfe39129ac",
        "colab": {
          "base_uri": "https://localhost:8080/",
          "height": 109
        }
      },
      "source": [
        "X_test_arr[:5]"
      ],
      "execution_count": 23,
      "outputs": [
        {
          "output_type": "execute_result",
          "data": {
            "text/plain": [
              "['RT UAAPconfessions Love looks good on Maddie Ako lang ba yung sobrang masaya kasi may zolo sya Before with the past Z medyo lowkey s ',\n",
              " 'Ye Ye ye We gonna start another June on a sour note Uhhhh yes no yes no yes ',\n",
              " 'zWffFY9JGklElA1 Min Of Lyching thakurdadu089 manakgupta OfficeOfKNath Mein kahna nae chahta qki mere Yaha btay https tco JWSdvvomt8 ',\n",
              " 'Caring Bohot Jyada Caring Courier wale bsdk ke sign bhi khud hi krlete h mera ',\n",
              " 'AliHZaidiPTI SarfarazA What nonesense Kabhi baymani per bani team kamiyab nahi ho sakti Jo log apnay liy https t co al1WFCUTYy ']"
            ]
          },
          "metadata": {
            "tags": []
          },
          "execution_count": 23
        }
      ]
    },
    {
      "cell_type": "code",
      "metadata": {
        "id": "qCA7074sugeR",
        "colab_type": "code",
        "outputId": "22ce2072-176d-49b4-c881-db6d7aab66b2",
        "colab": {
          "base_uri": "https://localhost:8080/",
          "height": 35
        }
      },
      "source": [
        "Y_test_arr[:5]"
      ],
      "execution_count": 24,
      "outputs": [
        {
          "output_type": "execute_result",
          "data": {
            "text/plain": [
              "['neutral', 'neutral', 'neutral', 'negative', 'positive']"
            ]
          },
          "metadata": {
            "tags": []
          },
          "execution_count": 24
        }
      ]
    },
    {
      "cell_type": "code",
      "metadata": {
        "id": "HTOd0YOOuh-s",
        "colab_type": "code",
        "outputId": "c794f914-d613-453f-a653-972c5d4c7ef0",
        "colab": {
          "base_uri": "https://localhost:8080/",
          "height": 35
        }
      },
      "source": [
        "print(len(X_train_arr), len(Y_train_arr), len(X_test_arr), len(Y_test_arr))"
      ],
      "execution_count": 25,
      "outputs": [
        {
          "output_type": "stream",
          "text": [
            "13524 13524 1869 1869\n"
          ],
          "name": "stdout"
        }
      ]
    },
    {
      "cell_type": "code",
      "metadata": {
        "id": "xE-WTc4jzlxw",
        "colab_type": "code",
        "colab": {}
      },
      "source": [
        "def clean_tweets(text, tknzr):\n",
        "  tweet_tokens = tknzr.tokenize(text)\n",
        "  tweet = \"\"\n",
        "  for j in tweet_tokens:\n",
        "    if(j not in string.punctuation and j not in ['…']):\n",
        "      tweet += (j.lower()+\" \")\n",
        "  return tweet.strip()"
      ],
      "execution_count": 0,
      "outputs": []
    },
    {
      "cell_type": "code",
      "metadata": {
        "id": "BOHAlEkqx0b7",
        "colab_type": "code",
        "colab": {}
      },
      "source": [
        "tknzr = TweetTokenizer(strip_handles=True, reduce_len=True)"
      ],
      "execution_count": 0,
      "outputs": []
    },
    {
      "cell_type": "code",
      "metadata": {
        "id": "f69AzPUtunkK",
        "colab_type": "code",
        "colab": {}
      },
      "source": [
        "X_train_cleaned = list()\n",
        "for i in range(len(X_train_arr)):\n",
        "  X_train_cleaned.append(clean_tweets(X_train_arr[i],tknzr))"
      ],
      "execution_count": 0,
      "outputs": []
    },
    {
      "cell_type": "code",
      "metadata": {
        "id": "VI6UrC5VynIx",
        "colab_type": "code",
        "outputId": "08c8b368-d216-43ce-c000-0823bfcb75e3",
        "colab": {
          "base_uri": "https://localhost:8080/",
          "height": 109
        }
      },
      "source": [
        "X_train_cleaned[:5]"
      ],
      "execution_count": 29,
      "outputs": [
        {
          "output_type": "execute_result",
          "data": {
            "text/plain": [
              "['adilnisarbutt pakistan ka ghra tauq he pakistan israel ko tasleem nahein kerta isko palestine kehta he occupied palestine',\n",
              " 'madarchod mulle ye mathura me nahi dikha tha jab mullo ne hindu ko iss liye mara ki vo lasse ki paise mag liye the https t co oxf 8tr3bly',\n",
              " 'narendramodi manya pradhan mantri mahoday shriman narendra modi ji pradhanmantri banne par hardik badhai tahe dil https t co prnomskkn 1',\n",
              " 'atheist krishna jcb full trend me chal rahi aa',\n",
              " 'abhisharsharma ravishkumarblog loksabha me janta sirf modi ko vote de rahi thi na ki kisi mp or bjp ko without m https t co shtbwcb 7fm']"
            ]
          },
          "metadata": {
            "tags": []
          },
          "execution_count": 29
        }
      ]
    },
    {
      "cell_type": "code",
      "metadata": {
        "id": "cZXjVLBLyuCm",
        "colab_type": "code",
        "colab": {}
      },
      "source": [
        "X_test_cleaned = list()\n",
        "for i in range(len(X_test_arr)):\n",
        "  X_test_cleaned.append(clean_tweets(X_test_arr[i], tknzr))"
      ],
      "execution_count": 0,
      "outputs": []
    },
    {
      "cell_type": "code",
      "metadata": {
        "id": "GVkZYooM0dw1",
        "colab_type": "code",
        "outputId": "973ecb53-e4f5-4f58-f932-493c8312c57d",
        "colab": {
          "base_uri": "https://localhost:8080/",
          "height": 109
        }
      },
      "source": [
        "X_test_cleaned[:5]"
      ],
      "execution_count": 31,
      "outputs": [
        {
          "output_type": "execute_result",
          "data": {
            "text/plain": [
              "['rt uaapconfessions love looks good on maddie ako lang ba yung sobrang masaya kasi may zolo sya before with the past z medyo lowkey s',\n",
              " 'ye ye ye we gonna start another june on a sour note uhhh yes no yes no yes',\n",
              " 'zwfffy 9jgklela1 min of lyching thakurdadu 089 manakgupta officeofknath mein kahna nae chahta qki mere yaha btay https tco jwsdvvomt 8',\n",
              " 'caring bohot jyada caring courier wale bsdk ke sign bhi khud hi krlete h mera',\n",
              " 'alihzaidipti sarfaraza what nonesense kabhi baymani per bani team kamiyab nahi ho sakti jo log apnay liy https t co al1wfcutyy']"
            ]
          },
          "metadata": {
            "tags": []
          },
          "execution_count": 31
        }
      ]
    },
    {
      "cell_type": "code",
      "metadata": {
        "id": "X72Bx4WK0fPL",
        "colab_type": "code",
        "colab": {}
      },
      "source": [
        "tk = Tokenizer(num_words=None, char_level=True, oov_token='UNK')\n",
        "tk.fit_on_texts(X_train_cleaned)"
      ],
      "execution_count": 0,
      "outputs": []
    },
    {
      "cell_type": "code",
      "metadata": {
        "id": "_coHF9DG2t4W",
        "colab_type": "code",
        "colab": {}
      },
      "source": [
        "X_train_seq = tk.texts_to_sequences(X_train_cleaned)\n",
        "X_test_seq = tk.texts_to_sequences(X_test_cleaned)"
      ],
      "execution_count": 0,
      "outputs": []
    },
    {
      "cell_type": "code",
      "metadata": {
        "id": "2liStIEj8K7P",
        "colab_type": "code",
        "colab": {}
      },
      "source": [
        "max_tweet_len = 200"
      ],
      "execution_count": 0,
      "outputs": []
    },
    {
      "cell_type": "code",
      "metadata": {
        "id": "gGV_da-q3VW9",
        "colab_type": "code",
        "colab": {}
      },
      "source": [
        "X_train = pad_sequences(X_train_seq, maxlen=max_tweet_len, padding='post')\n",
        "X_test = pad_sequences(X_test_seq, maxlen=max_tweet_len, padding='post')"
      ],
      "execution_count": 0,
      "outputs": []
    },
    {
      "cell_type": "code",
      "metadata": {
        "id": "xcrrT8ZR3oaH",
        "colab_type": "code",
        "outputId": "00eed501-150b-49fe-ad4b-1d5d30384080",
        "colab": {
          "base_uri": "https://localhost:8080/",
          "height": 146
        }
      },
      "source": [
        "X_train = np.array(X_train, dtype='float32')\n",
        "X_test = np.array(X_test, dtype='float32')\n",
        "X_train"
      ],
      "execution_count": 36,
      "outputs": [
        {
          "output_type": "execute_result",
          "data": {
            "text/plain": [
              "array([[ 3., 15.,  4., ...,  0.,  0.,  0.],\n",
              "       [13.,  3., 15., ...,  0.,  0.,  0.],\n",
              "       [10.,  3.,  9., ...,  0.,  0.,  0.],\n",
              "       ...,\n",
              "       [ 3., 13., 22., ...,  0.,  0.,  0.],\n",
              "       [11., 16., 10., ...,  0.,  0.,  0.],\n",
              "       [12., 16., 10., ...,  0.,  0.,  0.]], dtype=float32)"
            ]
          },
          "metadata": {
            "tags": []
          },
          "execution_count": 36
        }
      ]
    },
    {
      "cell_type": "code",
      "metadata": {
        "id": "SgAvnDUR32MF",
        "colab_type": "code",
        "colab": {}
      },
      "source": [
        "from keras.utils import to_categorical\n",
        "def sentimentToIntegers(arr):\n",
        "  integerSentiments = list()\n",
        "  for i in arr:\n",
        "    if(i == \"positive\"):\n",
        "      integerSentiments.append(0)\n",
        "    elif(i == \"negative\"):\n",
        "      integerSentiments.append(1)\n",
        "    else:\n",
        "      integerSentiments.append(2)\n",
        "  \n",
        "  integerSentiments = np.array(integerSentiments,dtype='float32')\n",
        "  categoricalSentiments = to_categorical(integerSentiments)\n",
        "\n",
        "  return categoricalSentiments"
      ],
      "execution_count": 0,
      "outputs": []
    },
    {
      "cell_type": "code",
      "metadata": {
        "id": "prvcry6B4v4R",
        "colab_type": "code",
        "colab": {
          "base_uri": "https://localhost:8080/",
          "height": 146
        },
        "outputId": "485b51cc-8cc0-46d1-b9f3-58ed09572c15"
      },
      "source": [
        "Y_train = sentimentToIntegers(Y_train_arr)\n",
        "Y_test = sentimentToIntegers(Y_test_arr)\n",
        "Y_test"
      ],
      "execution_count": 38,
      "outputs": [
        {
          "output_type": "execute_result",
          "data": {
            "text/plain": [
              "array([[0., 0., 1.],\n",
              "       [0., 0., 1.],\n",
              "       [0., 0., 1.],\n",
              "       ...,\n",
              "       [0., 0., 1.],\n",
              "       [0., 1., 0.],\n",
              "       [0., 1., 0.]], dtype=float32)"
            ]
          },
          "metadata": {
            "tags": []
          },
          "execution_count": 38
        }
      ]
    },
    {
      "cell_type": "code",
      "metadata": {
        "id": "lQ8Z7ti043BD",
        "colab_type": "code",
        "outputId": "eab4039d-5888-431b-f76d-51c745266602",
        "colab": {
          "base_uri": "https://localhost:8080/",
          "height": 35
        }
      },
      "source": [
        "X_train.shape, Y_train.shape, X_test.shape, Y_test.shape"
      ],
      "execution_count": 39,
      "outputs": [
        {
          "output_type": "execute_result",
          "data": {
            "text/plain": [
              "((13524, 200), (13524, 3), (1869, 200), (1869, 3))"
            ]
          },
          "metadata": {
            "tags": []
          },
          "execution_count": 39
        }
      ]
    },
    {
      "cell_type": "code",
      "metadata": {
        "id": "aDBuw2nGwBgN",
        "colab_type": "code",
        "outputId": "24594082-186c-45b8-ced2-f9208601b537",
        "colab": {
          "base_uri": "https://localhost:8080/",
          "height": 35
        }
      },
      "source": [
        "vocab_size = len(tk.word_index)\n",
        "vocab_size"
      ],
      "execution_count": 40,
      "outputs": [
        {
          "output_type": "execute_result",
          "data": {
            "text/plain": [
              "94"
            ]
          },
          "metadata": {
            "tags": []
          },
          "execution_count": 40
        }
      ]
    },
    {
      "cell_type": "code",
      "metadata": {
        "id": "0fgVjNd7cMGU",
        "colab_type": "code",
        "colab": {}
      },
      "source": [
        "embedding_weights = []\n",
        "# embedding_weights.append(np.zeros(vocab_size))\n",
        "\n",
        "for char, i in tk.word_index.items():\n",
        "    onehot = np.zeros(vocab_size)\n",
        "    onehot[i - 1] = 1\n",
        "    embedding_weights.append(onehot)\n",
        "\n",
        "embedding_weights = np.array(embedding_weights)"
      ],
      "execution_count": 0,
      "outputs": []
    },
    {
      "cell_type": "code",
      "metadata": {
        "id": "q0VbQg5X7Iyo",
        "colab_type": "code",
        "colab": {}
      },
      "source": [
        "from keras.models import Sequential\n",
        "from keras.layers import Dense, Input, Dropout, MaxPooling1D, Conv1D, GlobalMaxPool1D, Embedding, Flatten\n",
        "from keras.layers import LSTM, Lambda, concatenate, TimeDistributed, Bidirectional"
      ],
      "execution_count": 0,
      "outputs": []
    },
    {
      "cell_type": "code",
      "metadata": {
        "id": "NG4vllJHIPOP",
        "colab_type": "code",
        "outputId": "2d755413-6553-4343-d6b4-de760c3bb5a7",
        "colab": {
          "base_uri": "https://localhost:8080/",
          "height": 1000
        }
      },
      "source": [
        "num_of_sentiments = 3\n",
        "embedding_size = vocab_size\n",
        "conv_layers = [[256, 3, 3],\n",
        "               [256, 3, -1],\n",
        "                              [256, 3, -1],\n",
        "\n",
        "               [256, 3, 3]]\n",
        "\n",
        "\n",
        "batch_size = 32\n",
        "\n",
        "model = Sequential()\n",
        "\n",
        "# inputs = (None, max_tweet_len) = (None, 50)\n",
        "\n",
        "model.add(Embedding(input_dim=vocab_size, output_dim=embedding_size, input_length = max_tweet_len, weights=[embedding_weights]))\n",
        "\n",
        "# shape = (None, max_tweet_len, embedding_size) = (None, 50, 500)\n",
        "\n",
        "for filter_num, filter_size, pooling_size in conv_layers:\n",
        "    model.add(Conv1D(filter_num, filter_size, activation='relu'))\n",
        "    if pooling_size != -1:\n",
        "        model.add(MaxPooling1D(pool_size=pooling_size))\n",
        "\n",
        "model.add(Flatten())\n",
        "\n",
        "model.add(Dense(units=512, activation='relu'))\n",
        "model.add(Dropout(0.2))\n",
        "\n",
        "model.add(Dense(units=512, activation='relu'))\n",
        "model.add(Dropout(0.2))\n",
        "\n",
        "\n",
        "model.add(Dense(units=num_of_sentiments, activation='softmax'))\n",
        "\n",
        "model.summary()"
      ],
      "execution_count": 44,
      "outputs": [
        {
          "output_type": "stream",
          "text": [
            "WARNING:tensorflow:From /usr/local/lib/python3.6/dist-packages/keras/backend/tensorflow_backend.py:66: The name tf.get_default_graph is deprecated. Please use tf.compat.v1.get_default_graph instead.\n",
            "\n",
            "WARNING:tensorflow:From /usr/local/lib/python3.6/dist-packages/keras/backend/tensorflow_backend.py:541: The name tf.placeholder is deprecated. Please use tf.compat.v1.placeholder instead.\n",
            "\n",
            "WARNING:tensorflow:From /usr/local/lib/python3.6/dist-packages/keras/backend/tensorflow_backend.py:4432: The name tf.random_uniform is deprecated. Please use tf.random.uniform instead.\n",
            "\n",
            "WARNING:tensorflow:From /usr/local/lib/python3.6/dist-packages/keras/backend/tensorflow_backend.py:190: The name tf.get_default_session is deprecated. Please use tf.compat.v1.get_default_session instead.\n",
            "\n",
            "WARNING:tensorflow:From /usr/local/lib/python3.6/dist-packages/keras/backend/tensorflow_backend.py:197: The name tf.ConfigProto is deprecated. Please use tf.compat.v1.ConfigProto instead.\n",
            "\n",
            "WARNING:tensorflow:From /usr/local/lib/python3.6/dist-packages/keras/backend/tensorflow_backend.py:203: The name tf.Session is deprecated. Please use tf.compat.v1.Session instead.\n",
            "\n",
            "WARNING:tensorflow:From /usr/local/lib/python3.6/dist-packages/keras/backend/tensorflow_backend.py:207: The name tf.global_variables is deprecated. Please use tf.compat.v1.global_variables instead.\n",
            "\n",
            "WARNING:tensorflow:From /usr/local/lib/python3.6/dist-packages/keras/backend/tensorflow_backend.py:216: The name tf.is_variable_initialized is deprecated. Please use tf.compat.v1.is_variable_initialized instead.\n",
            "\n",
            "WARNING:tensorflow:From /usr/local/lib/python3.6/dist-packages/keras/backend/tensorflow_backend.py:223: The name tf.variables_initializer is deprecated. Please use tf.compat.v1.variables_initializer instead.\n",
            "\n",
            "WARNING:tensorflow:From /usr/local/lib/python3.6/dist-packages/keras/backend/tensorflow_backend.py:4267: The name tf.nn.max_pool is deprecated. Please use tf.nn.max_pool2d instead.\n",
            "\n",
            "WARNING:tensorflow:From /usr/local/lib/python3.6/dist-packages/keras/backend/tensorflow_backend.py:148: The name tf.placeholder_with_default is deprecated. Please use tf.compat.v1.placeholder_with_default instead.\n",
            "\n",
            "WARNING:tensorflow:From /usr/local/lib/python3.6/dist-packages/keras/backend/tensorflow_backend.py:3733: calling dropout (from tensorflow.python.ops.nn_ops) with keep_prob is deprecated and will be removed in a future version.\n",
            "Instructions for updating:\n",
            "Please use `rate` instead of `keep_prob`. Rate should be set to `rate = 1 - keep_prob`.\n",
            "Model: \"sequential_1\"\n",
            "_________________________________________________________________\n",
            "Layer (type)                 Output Shape              Param #   \n",
            "=================================================================\n",
            "embedding_1 (Embedding)      (None, 200, 94)           8836      \n",
            "_________________________________________________________________\n",
            "conv1d_1 (Conv1D)            (None, 198, 256)          72448     \n",
            "_________________________________________________________________\n",
            "max_pooling1d_1 (MaxPooling1 (None, 66, 256)           0         \n",
            "_________________________________________________________________\n",
            "conv1d_2 (Conv1D)            (None, 64, 256)           196864    \n",
            "_________________________________________________________________\n",
            "conv1d_3 (Conv1D)            (None, 62, 256)           196864    \n",
            "_________________________________________________________________\n",
            "conv1d_4 (Conv1D)            (None, 60, 256)           196864    \n",
            "_________________________________________________________________\n",
            "max_pooling1d_2 (MaxPooling1 (None, 20, 256)           0         \n",
            "_________________________________________________________________\n",
            "flatten_1 (Flatten)          (None, 5120)              0         \n",
            "_________________________________________________________________\n",
            "dense_1 (Dense)              (None, 1024)              5243904   \n",
            "_________________________________________________________________\n",
            "dropout_1 (Dropout)          (None, 1024)              0         \n",
            "_________________________________________________________________\n",
            "dense_2 (Dense)              (None, 512)               524800    \n",
            "_________________________________________________________________\n",
            "dropout_2 (Dropout)          (None, 512)               0         \n",
            "_________________________________________________________________\n",
            "dense_3 (Dense)              (None, 256)               131328    \n",
            "_________________________________________________________________\n",
            "dropout_3 (Dropout)          (None, 256)               0         \n",
            "_________________________________________________________________\n",
            "dense_4 (Dense)              (None, 3)                 771       \n",
            "=================================================================\n",
            "Total params: 6,572,679\n",
            "Trainable params: 6,572,679\n",
            "Non-trainable params: 0\n",
            "_________________________________________________________________\n"
          ],
          "name": "stdout"
        }
      ]
    },
    {
      "cell_type": "code",
      "metadata": {
        "id": "O7JyCcDLDOig",
        "colab_type": "code",
        "colab": {}
      },
      "source": [
        "model.compile(optimizer='adam',loss='categorical_crossentropy',metrics=['accuracy'])"
      ],
      "execution_count": 0,
      "outputs": []
    },
    {
      "cell_type": "code",
      "metadata": {
        "id": "GgAhM-lCT8jx",
        "colab_type": "code",
        "outputId": "c61cbba0-ae40-4d18-83c3-4ac7f8cb746b",
        "colab": {
          "base_uri": "https://localhost:8080/",
          "height": 1000
        }
      },
      "source": [
        "model.fit(X_train, Y_train, batch_size=32, epochs=50, validation_data=(X_test, Y_test), verbose=1)"
      ],
      "execution_count": 0,
      "outputs": [
        {
          "output_type": "stream",
          "text": [
            "Train on 13524 samples, validate on 1869 samples\n",
            "Epoch 1/50\n",
            "13524/13524 [==============================] - 13s 975us/step - loss: 1.0257 - acc: 0.4457 - val_loss: 1.0784 - val_acc: 0.4077\n",
            "Epoch 2/50\n",
            "13524/13524 [==============================] - 12s 875us/step - loss: 0.8946 - acc: 0.5617 - val_loss: 1.0324 - val_acc: 0.5094\n",
            "Epoch 3/50\n",
            "13524/13524 [==============================] - 12s 868us/step - loss: 0.8291 - acc: 0.6121 - val_loss: 0.9829 - val_acc: 0.5340\n",
            "Epoch 4/50\n",
            "13524/13524 [==============================] - 12s 873us/step - loss: 0.7614 - acc: 0.6604 - val_loss: 1.0961 - val_acc: 0.5045\n",
            "Epoch 5/50\n",
            "13524/13524 [==============================] - 12s 873us/step - loss: 0.6911 - acc: 0.6999 - val_loss: 1.1912 - val_acc: 0.5340\n",
            "Epoch 6/50\n",
            "13524/13524 [==============================] - 12s 862us/step - loss: 0.6049 - acc: 0.7499 - val_loss: 1.1927 - val_acc: 0.5163\n",
            "Epoch 7/50\n",
            "13524/13524 [==============================] - 11s 837us/step - loss: 0.5119 - acc: 0.7924 - val_loss: 1.1825 - val_acc: 0.5334\n",
            "Epoch 8/50\n",
            "13524/13524 [==============================] - 12s 853us/step - loss: 0.4275 - acc: 0.8307 - val_loss: 1.4321 - val_acc: 0.5367\n",
            "Epoch 9/50\n",
            "13524/13524 [==============================] - 12s 863us/step - loss: 0.3570 - acc: 0.8664 - val_loss: 1.4705 - val_acc: 0.5136\n",
            "Epoch 10/50\n",
            "13524/13524 [==============================] - 12s 859us/step - loss: 0.2875 - acc: 0.8965 - val_loss: 1.8762 - val_acc: 0.5259\n",
            "Epoch 11/50\n",
            "13524/13524 [==============================] - 11s 823us/step - loss: 0.2420 - acc: 0.9134 - val_loss: 1.9861 - val_acc: 0.5056\n",
            "Epoch 12/50\n",
            "13524/13524 [==============================] - 12s 882us/step - loss: 0.2005 - acc: 0.9312 - val_loss: 1.9028 - val_acc: 0.5163\n",
            "Epoch 13/50\n",
            "13524/13524 [==============================] - 12s 889us/step - loss: 0.1803 - acc: 0.9397 - val_loss: 2.1827 - val_acc: 0.5179\n",
            "Epoch 14/50\n",
            "13524/13524 [==============================] - 12s 893us/step - loss: 0.1644 - acc: 0.9452 - val_loss: 2.0345 - val_acc: 0.5243\n",
            "Epoch 15/50\n",
            "13524/13524 [==============================] - 12s 856us/step - loss: 0.1347 - acc: 0.9555 - val_loss: 2.3385 - val_acc: 0.5120\n",
            "Epoch 16/50\n",
            "13524/13524 [==============================] - 11s 843us/step - loss: 0.1362 - acc: 0.9547 - val_loss: 2.7648 - val_acc: 0.5254\n",
            "Epoch 17/50\n",
            "13524/13524 [==============================] - 11s 824us/step - loss: 0.1277 - acc: 0.9576 - val_loss: 2.7010 - val_acc: 0.5120\n",
            "Epoch 18/50\n",
            "13524/13524 [==============================] - 11s 821us/step - loss: 0.1222 - acc: 0.9588 - val_loss: 2.5444 - val_acc: 0.5099\n",
            "Epoch 19/50\n",
            "13524/13524 [==============================] - 12s 872us/step - loss: 0.1077 - acc: 0.9633 - val_loss: 2.7415 - val_acc: 0.5158\n",
            "Epoch 20/50\n",
            "13524/13524 [==============================] - 12s 880us/step - loss: 0.1097 - acc: 0.9619 - val_loss: 2.6035 - val_acc: 0.4981\n",
            "Epoch 21/50\n",
            "13524/13524 [==============================] - 12s 871us/step - loss: 0.1062 - acc: 0.9635 - val_loss: 2.8716 - val_acc: 0.5131\n",
            "Epoch 22/50\n",
            "13524/13524 [==============================] - 12s 876us/step - loss: 0.1003 - acc: 0.9680 - val_loss: 2.7255 - val_acc: 0.5072\n",
            "Epoch 23/50\n",
            "13524/13524 [==============================] - 12s 872us/step - loss: 0.1098 - acc: 0.9627 - val_loss: 2.7998 - val_acc: 0.5152\n",
            "Epoch 24/50\n",
            "13524/13524 [==============================] - 11s 847us/step - loss: 0.0822 - acc: 0.9737 - val_loss: 3.0040 - val_acc: 0.5040\n",
            "Epoch 25/50\n",
            "13524/13524 [==============================] - 12s 862us/step - loss: 0.0924 - acc: 0.9692 - val_loss: 2.7736 - val_acc: 0.5115\n",
            "Epoch 26/50\n",
            "13524/13524 [==============================] - 12s 870us/step - loss: 0.0932 - acc: 0.9689 - val_loss: 3.1048 - val_acc: 0.5078\n",
            "Epoch 27/50\n",
            "13524/13524 [==============================] - 12s 852us/step - loss: 0.0877 - acc: 0.9677 - val_loss: 2.6741 - val_acc: 0.5276\n",
            "Epoch 28/50\n",
            "13524/13524 [==============================] - 12s 855us/step - loss: 0.0858 - acc: 0.9695 - val_loss: 3.0020 - val_acc: 0.4885\n",
            "Epoch 29/50\n",
            "13524/13524 [==============================] - 11s 834us/step - loss: 0.0930 - acc: 0.9681 - val_loss: 3.0656 - val_acc: 0.5217\n",
            "Epoch 30/50\n",
            "13524/13524 [==============================] - 12s 892us/step - loss: 0.0849 - acc: 0.9708 - val_loss: 3.2748 - val_acc: 0.4960\n",
            "Epoch 31/50\n",
            "13524/13524 [==============================] - 12s 897us/step - loss: 0.0905 - acc: 0.9681 - val_loss: 2.8542 - val_acc: 0.5201\n",
            "Epoch 32/50\n",
            "13524/13524 [==============================] - 12s 875us/step - loss: 0.0794 - acc: 0.9730 - val_loss: 2.9994 - val_acc: 0.5147\n",
            "Epoch 33/50\n",
            "13524/13524 [==============================] - 12s 852us/step - loss: 0.1039 - acc: 0.9658 - val_loss: 3.3241 - val_acc: 0.5008\n",
            "Epoch 34/50\n",
            "13524/13524 [==============================] - 11s 821us/step - loss: 0.0673 - acc: 0.9753 - val_loss: 3.1189 - val_acc: 0.5147\n",
            "Epoch 35/50\n",
            "13524/13524 [==============================] - 11s 816us/step - loss: 0.0657 - acc: 0.9771 - val_loss: 3.4698 - val_acc: 0.5045\n",
            "Epoch 36/50\n",
            "13524/13524 [==============================] - 11s 826us/step - loss: 0.0831 - acc: 0.9714 - val_loss: 3.2489 - val_acc: 0.5217\n",
            "Epoch 37/50\n",
            "13524/13524 [==============================] - 12s 866us/step - loss: 0.0841 - acc: 0.9743 - val_loss: 2.7256 - val_acc: 0.5083\n",
            "Epoch 38/50\n",
            "13524/13524 [==============================] - 12s 868us/step - loss: 0.0907 - acc: 0.9691 - val_loss: 2.8631 - val_acc: 0.5238\n",
            "Epoch 39/50\n",
            "13524/13524 [==============================] - 12s 860us/step - loss: 0.0655 - acc: 0.9774 - val_loss: 3.0765 - val_acc: 0.5249\n",
            "Epoch 40/50\n",
            "13524/13524 [==============================] - 12s 863us/step - loss: 0.0715 - acc: 0.9766 - val_loss: 3.1902 - val_acc: 0.5131\n",
            "Epoch 41/50\n",
            "13524/13524 [==============================] - 12s 877us/step - loss: 0.0641 - acc: 0.9776 - val_loss: 3.4094 - val_acc: 0.5329\n",
            "Epoch 42/50\n",
            "13524/13524 [==============================] - 12s 854us/step - loss: 0.0684 - acc: 0.9794 - val_loss: 2.7676 - val_acc: 0.5152\n",
            "Epoch 43/50\n",
            "13524/13524 [==============================] - 11s 841us/step - loss: 0.0778 - acc: 0.9746 - val_loss: 3.9081 - val_acc: 0.5104\n",
            "Epoch 44/50\n",
            "13524/13524 [==============================] - 12s 852us/step - loss: 0.0740 - acc: 0.9740 - val_loss: 3.2182 - val_acc: 0.5088\n",
            "Epoch 45/50\n",
            "13524/13524 [==============================] - 11s 849us/step - loss: 0.0700 - acc: 0.9765 - val_loss: 3.2349 - val_acc: 0.5131\n",
            "Epoch 46/50\n",
            "13524/13524 [==============================] - 11s 842us/step - loss: 0.0689 - acc: 0.9761 - val_loss: 3.7090 - val_acc: 0.5062\n",
            "Epoch 47/50\n",
            "13524/13524 [==============================] - 11s 816us/step - loss: 0.0650 - acc: 0.9768 - val_loss: 3.0323 - val_acc: 0.5190\n",
            "Epoch 48/50\n",
            "13524/13524 [==============================] - 12s 871us/step - loss: 0.0667 - acc: 0.9772 - val_loss: 3.2686 - val_acc: 0.5142\n",
            "Epoch 49/50\n",
            "13524/13524 [==============================] - 12s 886us/step - loss: 0.0738 - acc: 0.9763 - val_loss: 3.0781 - val_acc: 0.5152\n",
            "Epoch 50/50\n",
            "13524/13524 [==============================] - 12s 883us/step - loss: 0.0632 - acc: 0.9774 - val_loss: 3.7876 - val_acc: 0.5104\n"
          ],
          "name": "stdout"
        },
        {
          "output_type": "execute_result",
          "data": {
            "text/plain": [
              "<keras.callbacks.History at 0x7f623b4d7128>"
            ]
          },
          "metadata": {
            "tags": []
          },
          "execution_count": 171
        }
      ]
    },
    {
      "cell_type": "code",
      "metadata": {
        "id": "7qgzFAYaZDNY",
        "colab_type": "code",
        "colab": {}
      },
      "source": [
        ""
      ],
      "execution_count": 0,
      "outputs": []
    },
    {
      "cell_type": "code",
      "metadata": {
        "id": "E1Za0xDkDVNJ",
        "colab_type": "code",
        "colab": {}
      },
      "source": [
        "model.save(\"A3.h5\")"
      ],
      "execution_count": 0,
      "outputs": []
    },
    {
      "cell_type": "code",
      "metadata": {
        "id": "pVzqkq6XZGZo",
        "colab_type": "code",
        "colab": {
          "base_uri": "https://localhost:8080/",
          "height": 239
        },
        "outputId": "bba7b988-1a54-4edc-91ae-f25db3142cb5"
      },
      "source": [
        "from keras.models import load_model\n",
        "model=load_model(\"A3.h5\")"
      ],
      "execution_count": 45,
      "outputs": [
        {
          "output_type": "stream",
          "text": [
            "WARNING:tensorflow:From /usr/local/lib/python3.6/dist-packages/keras/optimizers.py:793: The name tf.train.Optimizer is deprecated. Please use tf.compat.v1.train.Optimizer instead.\n",
            "\n",
            "WARNING:tensorflow:From /usr/local/lib/python3.6/dist-packages/keras/backend/tensorflow_backend.py:3576: The name tf.log is deprecated. Please use tf.math.log instead.\n",
            "\n",
            "WARNING:tensorflow:From /usr/local/lib/python3.6/dist-packages/tensorflow_core/python/ops/math_grad.py:1424: where (from tensorflow.python.ops.array_ops) is deprecated and will be removed in a future version.\n",
            "Instructions for updating:\n",
            "Use tf.where in 2.0, which has the same broadcast rule as np.where\n",
            "WARNING:tensorflow:From /usr/local/lib/python3.6/dist-packages/keras/backend/tensorflow_backend.py:1033: The name tf.assign_add is deprecated. Please use tf.compat.v1.assign_add instead.\n",
            "\n",
            "WARNING:tensorflow:From /usr/local/lib/python3.6/dist-packages/keras/backend/tensorflow_backend.py:1020: The name tf.assign is deprecated. Please use tf.compat.v1.assign instead.\n",
            "\n"
          ],
          "name": "stdout"
        }
      ]
    },
    {
      "cell_type": "code",
      "metadata": {
        "id": "RudiAgxmDsM2",
        "colab_type": "code",
        "colab": {}
      },
      "source": [
        "from sklearn.metrics import confusion_matrix, f1_score, precision_score, recall_score,accuracy_score"
      ],
      "execution_count": 0,
      "outputs": []
    },
    {
      "cell_type": "code",
      "metadata": {
        "id": "1bX_NU0XXJmf",
        "colab_type": "code",
        "outputId": "8d88aafa-7a24-4022-fa63-c1051d1d7664",
        "colab": {
          "base_uri": "https://localhost:8080/",
          "height": 146
        }
      },
      "source": [
        "f1score = []\n",
        "recalls = []\n",
        "precisions = []\n",
        "acc=[]\n",
        "\n",
        "predict = (np.array(model.predict(X_test))).round() \n",
        "targ = Y_test\n",
        "f1 = f1_score(targ, predict,average=None)\n",
        "recall = recall_score(targ, predict,average=None)\n",
        "precision = precision_score(targ, predict,average=None)\n",
        "accuracy=accuracy_score(targ, predict)\n",
        "f1score.append(f1)\n",
        "recalls.append(recall)\n",
        "precisions.append(precision)\n",
        "acc.append(accuracy)\n",
        "print(predict)"
      ],
      "execution_count": 47,
      "outputs": [
        {
          "output_type": "stream",
          "text": [
            "[[0. 0. 1.]\n",
            " [0. 0. 1.]\n",
            " [0. 0. 1.]\n",
            " ...\n",
            " [0. 1. 0.]\n",
            " [0. 1. 0.]\n",
            " [0. 1. 0.]]\n"
          ],
          "name": "stdout"
        }
      ]
    },
    {
      "cell_type": "code",
      "metadata": {
        "id": "I81SCWVyYy6u",
        "colab_type": "code",
        "outputId": "328b125a-d8fa-420e-fff4-846bfbd7d85d",
        "colab": {
          "base_uri": "https://localhost:8080/",
          "height": 201
        }
      },
      "source": [
        "print(\"Accuracy: %f \\nf1_Positive: %f \\nf1_Negetive: %f \\nf1_Neutral: %f \\nprecision_Positive: %f \\nprecision_Negetive: %f \\nprecision_Neutral: %f \\nrecall_Positive %f \\nrecall_Negetive %f \\nrecall_Neutral %f\" %(accuracy,f1[0], f1[1], f1[2], precision[0], precision[1], precision[2], recall[0], recall[1], recall[2]))"
      ],
      "execution_count": 48,
      "outputs": [
        {
          "output_type": "stream",
          "text": [
            "Accuracy: 0.521669 \n",
            "f1_Positive: 0.546966 \n",
            "f1_Negetive: 0.534653 \n",
            "f1_Neutral: 0.503684 \n",
            "precision_Positive: 0.529791 \n",
            "precision_Negetive: 0.566038 \n",
            "precision_Neutral: 0.508796 \n",
            "recall_Positive 0.565292 \n",
            "recall_Negetive 0.506567 \n",
            "recall_Neutral 0.498674\n"
          ],
          "name": "stdout"
        }
      ]
    },
    {
      "cell_type": "code",
      "metadata": {
        "id": "hM7KK4l6ZcCu",
        "colab_type": "code",
        "colab": {}
      },
      "source": [
        ""
      ],
      "execution_count": 0,
      "outputs": []
    },
    {
      "cell_type": "code",
      "metadata": {
        "id": "VC86bL1eZwGT",
        "colab_type": "code",
        "colab": {}
      },
      "source": [
        ""
      ],
      "execution_count": 0,
      "outputs": []
    }
  ]
}